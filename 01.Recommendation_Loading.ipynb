{
 "cells": [
  {
   "cell_type": "markdown",
   "metadata": {
    "cell_id": "d354e3c25e9e486cbae01b89a42758a0",
    "deepnote_cell_type": "markdown"
   },
   "source": [
    "#  1. Recommendation - Loading"
   ]
  },
  {
   "cell_type": "code",
   "execution_count": 1,
   "metadata": {
    "cell_id": "cc28dcddfae4410d9a57a3f7f018d1bc",
    "deepnote_cell_type": "code"
   },
   "outputs": [],
   "source": [
    "import os\n",
    "import zipfile\n",
    "import pandas as pd\n",
    "import dask.dataframe as dd\n",
    "import matplotlib.pyplot as plt\n",
    "import numpy as np\n",
    "import scipy as sp\n",
    "from scipy.sparse import csc_matrix\n",
    "from scipy.sparse import vstack\n",
    "import pickle\n",
    "from pathlib import Path"
   ]
  },
  {
   "cell_type": "code",
   "execution_count": 2,
   "metadata": {},
   "outputs": [],
   "source": [
    "### All random states are assigned to 42 for reproducible results\n",
    "RANDOM_SEED = 42\n",
    "np.random.seed(RANDOM_SEED)\n"
   ]
  },
  {
   "cell_type": "code",
   "execution_count": 3,
   "metadata": {
    "cell_id": "784814f7d2eb46e7915fb98ff3c9c85e",
    "deepnote_cell_type": "code"
   },
   "outputs": [],
   "source": [
    "pd.set_option('display.float_format', lambda x: '%.1f' % x)"
   ]
  },
  {
   "cell_type": "markdown",
   "metadata": {},
   "source": [
    "## Loading the Recommendation dataset"
   ]
  },
  {
   "cell_type": "code",
   "execution_count": 4,
   "metadata": {},
   "outputs": [],
   "source": [
    "K_REC = 20\n",
    "N_USERS = 10000"
   ]
  },
  {
   "cell_type": "code",
   "execution_count": 5,
   "metadata": {},
   "outputs": [],
   "source": [
    "%run \"0.Splitting_Reading_Recommendation_File.ipynb\""
   ]
  },
  {
   "cell_type": "code",
   "execution_count": 6,
   "metadata": {},
   "outputs": [
    {
     "data": {
      "text/html": [
       "<div>\n",
       "<style scoped>\n",
       "    .dataframe tbody tr th:only-of-type {\n",
       "        vertical-align: middle;\n",
       "    }\n",
       "\n",
       "    .dataframe tbody tr th {\n",
       "        vertical-align: top;\n",
       "    }\n",
       "\n",
       "    .dataframe thead th {\n",
       "        text-align: right;\n",
       "    }\n",
       "</style>\n",
       "<table border=\"1\" class=\"dataframe\">\n",
       "  <thead>\n",
       "    <tr style=\"text-align: right;\">\n",
       "      <th></th>\n",
       "      <th>app_id</th>\n",
       "      <th>helpful</th>\n",
       "      <th>funny</th>\n",
       "      <th>date</th>\n",
       "      <th>is_recommended</th>\n",
       "      <th>hours</th>\n",
       "      <th>user_id</th>\n",
       "      <th>review_id</th>\n",
       "    </tr>\n",
       "  </thead>\n",
       "  <tbody>\n",
       "    <tr>\n",
       "      <th>0</th>\n",
       "      <td>236430</td>\n",
       "      <td>0</td>\n",
       "      <td>0</td>\n",
       "      <td>2014-06-19</td>\n",
       "      <td>True</td>\n",
       "      <td>82.9</td>\n",
       "      <td>434717</td>\n",
       "      <td>16300000</td>\n",
       "    </tr>\n",
       "    <tr>\n",
       "      <th>1</th>\n",
       "      <td>976730</td>\n",
       "      <td>0</td>\n",
       "      <td>0</td>\n",
       "      <td>2021-10-24</td>\n",
       "      <td>True</td>\n",
       "      <td>14.6</td>\n",
       "      <td>12122913</td>\n",
       "      <td>16300001</td>\n",
       "    </tr>\n",
       "    <tr>\n",
       "      <th>2</th>\n",
       "      <td>413150</td>\n",
       "      <td>0</td>\n",
       "      <td>0</td>\n",
       "      <td>2021-01-12</td>\n",
       "      <td>True</td>\n",
       "      <td>103.6</td>\n",
       "      <td>6920371</td>\n",
       "      <td>16300002</td>\n",
       "    </tr>\n",
       "    <tr>\n",
       "      <th>3</th>\n",
       "      <td>1551360</td>\n",
       "      <td>0</td>\n",
       "      <td>0</td>\n",
       "      <td>2022-09-04</td>\n",
       "      <td>True</td>\n",
       "      <td>748.5</td>\n",
       "      <td>10888033</td>\n",
       "      <td>16300003</td>\n",
       "    </tr>\n",
       "    <tr>\n",
       "      <th>4</th>\n",
       "      <td>250320</td>\n",
       "      <td>0</td>\n",
       "      <td>0</td>\n",
       "      <td>2022-04-25</td>\n",
       "      <td>True</td>\n",
       "      <td>9.6</td>\n",
       "      <td>13391688</td>\n",
       "      <td>16300004</td>\n",
       "    </tr>\n",
       "    <tr>\n",
       "      <th>...</th>\n",
       "      <td>...</td>\n",
       "      <td>...</td>\n",
       "      <td>...</td>\n",
       "      <td>...</td>\n",
       "      <td>...</td>\n",
       "      <td>...</td>\n",
       "      <td>...</td>\n",
       "      <td>...</td>\n",
       "    </tr>\n",
       "    <tr>\n",
       "      <th>41154789</th>\n",
       "      <td>740130</td>\n",
       "      <td>0</td>\n",
       "      <td>0</td>\n",
       "      <td>2021-09-18</td>\n",
       "      <td>True</td>\n",
       "      <td>93.6</td>\n",
       "      <td>12470978</td>\n",
       "      <td>9699994</td>\n",
       "    </tr>\n",
       "    <tr>\n",
       "      <th>41154790</th>\n",
       "      <td>740130</td>\n",
       "      <td>0</td>\n",
       "      <td>0</td>\n",
       "      <td>2021-10-01</td>\n",
       "      <td>True</td>\n",
       "      <td>166.0</td>\n",
       "      <td>799025</td>\n",
       "      <td>9699995</td>\n",
       "    </tr>\n",
       "    <tr>\n",
       "      <th>41154791</th>\n",
       "      <td>740130</td>\n",
       "      <td>0</td>\n",
       "      <td>0</td>\n",
       "      <td>2021-09-14</td>\n",
       "      <td>True</td>\n",
       "      <td>21.3</td>\n",
       "      <td>6697072</td>\n",
       "      <td>9699996</td>\n",
       "    </tr>\n",
       "    <tr>\n",
       "      <th>41154792</th>\n",
       "      <td>740130</td>\n",
       "      <td>0</td>\n",
       "      <td>0</td>\n",
       "      <td>2021-09-14</td>\n",
       "      <td>False</td>\n",
       "      <td>41.9</td>\n",
       "      <td>220653</td>\n",
       "      <td>9699997</td>\n",
       "    </tr>\n",
       "    <tr>\n",
       "      <th>41154793</th>\n",
       "      <td>740130</td>\n",
       "      <td>0</td>\n",
       "      <td>0</td>\n",
       "      <td>2021-09-25</td>\n",
       "      <td>True</td>\n",
       "      <td>64.3</td>\n",
       "      <td>2191506</td>\n",
       "      <td>9699998</td>\n",
       "    </tr>\n",
       "  </tbody>\n",
       "</table>\n",
       "<p>41154794 rows × 8 columns</p>\n",
       "</div>"
      ],
      "text/plain": [
       "           app_id helpful funny        date is_recommended hours   user_id  \\\n",
       "0          236430       0     0  2014-06-19           True  82.9    434717   \n",
       "1          976730       0     0  2021-10-24           True  14.6  12122913   \n",
       "2          413150       0     0  2021-01-12           True 103.6   6920371   \n",
       "3         1551360       0     0  2022-09-04           True 748.5  10888033   \n",
       "4          250320       0     0  2022-04-25           True   9.6  13391688   \n",
       "...           ...     ...   ...         ...            ...   ...       ...   \n",
       "41154789   740130       0     0  2021-09-18           True  93.6  12470978   \n",
       "41154790   740130       0     0  2021-10-01           True 166.0    799025   \n",
       "41154791   740130       0     0  2021-09-14           True  21.3   6697072   \n",
       "41154792   740130       0     0  2021-09-14          False  41.9    220653   \n",
       "41154793   740130       0     0  2021-09-25           True  64.3   2191506   \n",
       "\n",
       "         review_id  \n",
       "0         16300000  \n",
       "1         16300001  \n",
       "2         16300002  \n",
       "3         16300003  \n",
       "4         16300004  \n",
       "...            ...  \n",
       "41154789   9699994  \n",
       "41154790   9699995  \n",
       "41154791   9699996  \n",
       "41154792   9699997  \n",
       "41154793   9699998  \n",
       "\n",
       "[41154794 rows x 8 columns]"
      ]
     },
     "execution_count": 6,
     "metadata": {},
     "output_type": "execute_result"
    }
   ],
   "source": [
    "recommendations_df"
   ]
  },
  {
   "cell_type": "code",
   "execution_count": 7,
   "metadata": {},
   "outputs": [],
   "source": [
    "def get_df_pos_recs(df):\n",
    "    \"\"\"keep only positive recommendations, eliminate negative recommendations\"\"\"\n",
    "    df = df[df[\"is_recommended\"]==True]\n",
    "    return df\n",
    "\n",
    "recommendations_df = get_df_pos_recs(recommendations_df)"
   ]
  },
  {
   "cell_type": "code",
   "execution_count": 8,
   "metadata": {},
   "outputs": [
    {
     "name": "stdout",
     "output_type": "stream",
     "text": [
      "################  Recommendations (all data, positive recommendations only) ################\n",
      "Users: 12,636,209\n",
      "Games: 37,419\n"
     ]
    }
   ],
   "source": [
    "print(\"################  Recommendations (all data, positive recommendations only) ################\")\n",
    "print(\"Users:\", '{0:,.0f}'.format(len(recommendations_df.user_id.unique())))\n",
    "print(\"Games:\", '{0:,.0f}'.format(len(recommendations_df.app_id.unique())))"
   ]
  },
  {
   "cell_type": "code",
   "execution_count": 9,
   "metadata": {},
   "outputs": [
    {
     "name": "stdout",
     "output_type": "stream",
     "text": [
      "Number of users 10,000\n",
      "First five users id [11203022 12827342 11719330  9553563 11051045]\n"
     ]
    }
   ],
   "source": [
    "def users_at_least_k_recs(df, K, n_usr):\n",
    "    \"\"\"\n",
    "    Return a list of users who perform at least K recommendations. Also, filtering for n_users randomly selected\n",
    "    Args::\n",
    "        df: dataframe, recommendation dataset\n",
    "        K: integer, representing the minimum number of recommendations for a user to be included in the final list\n",
    "        n_usr: integer, number of randomly selected users\n",
    "    Return:\n",
    "        users: a list of randomly selected users who perform at least K recommendations\n",
    "    \"\"\"\n",
    "    # df = df[df[\"is_recommended\"]==True]\n",
    "    series = df.groupby(\"user_id\")[\"user_id\"].count()>=K\n",
    "    series1 = series[series]\n",
    "    users = list(series1.index)\n",
    "    usr_to_keep = np.random.choice(users, size = n_usr)\n",
    "    return usr_to_keep\n",
    "\n",
    "users_to_keep = users_at_least_k_recs(recommendations_df, K_REC, N_USERS)\n",
    "print(\"Number of users\",  '{0:,.0f}'.format(len(users_to_keep)))\n",
    "print(\"First five users id\", users_to_keep[:5])\n"
   ]
  },
  {
   "cell_type": "code",
   "execution_count": 10,
   "metadata": {
    "cell_id": "d6197eecc7fe46c39e9a0b69f0c21d23",
    "deepnote_cell_type": "code"
   },
   "outputs": [],
   "source": [
    "def loading_recommendations(df, sample=True):\n",
    "    \n",
    "    if sample==True:\n",
    "        df = df[df[\"user_id\"].isin(users_to_keep)]\n",
    "                \n",
    "    df1 = df.copy()\n",
    "    # df1 = df1[df1[\"is_recommended\"]==True]\n",
    "    df1[\"is_recommended\"] = df1[\"is_recommended\"].apply(lambda x: 1 if x == True else 0)\n",
    "    df1['user_id_categorical'] = pd.Categorical(df1['user_id']).codes\n",
    "    ## App_ID starts from 1. I leave the 0 to the user_id column. See later\n",
    "    df1['app_id_categorical'] = pd.Categorical(df1['app_id']).codes\n",
    "    df1 = df1.sort_values(by=\"user_id_categorical\")\n",
    "    df1[\"date\"] = pd.to_datetime(df1[\"date\"])\n",
    "    return df1"
   ]
  },
  {
   "cell_type": "code",
   "execution_count": 11,
   "metadata": {
    "cell_id": "da209489b64242cbbc7921f7e63beea6",
    "deepnote_cell_type": "code"
   },
   "outputs": [
    {
     "data": {
      "text/html": [
       "<div>\n",
       "<style scoped>\n",
       "    .dataframe tbody tr th:only-of-type {\n",
       "        vertical-align: middle;\n",
       "    }\n",
       "\n",
       "    .dataframe tbody tr th {\n",
       "        vertical-align: top;\n",
       "    }\n",
       "\n",
       "    .dataframe thead th {\n",
       "        text-align: right;\n",
       "    }\n",
       "</style>\n",
       "<table border=\"1\" class=\"dataframe\">\n",
       "  <thead>\n",
       "    <tr style=\"text-align: right;\">\n",
       "      <th></th>\n",
       "      <th>app_id</th>\n",
       "      <th>helpful</th>\n",
       "      <th>funny</th>\n",
       "      <th>date</th>\n",
       "      <th>is_recommended</th>\n",
       "      <th>hours</th>\n",
       "      <th>user_id</th>\n",
       "      <th>review_id</th>\n",
       "      <th>user_id_categorical</th>\n",
       "      <th>app_id_categorical</th>\n",
       "    </tr>\n",
       "  </thead>\n",
       "  <tbody>\n",
       "    <tr>\n",
       "      <th>27008251</th>\n",
       "      <td>292030</td>\n",
       "      <td>0</td>\n",
       "      <td>0</td>\n",
       "      <td>2019-06-24</td>\n",
       "      <td>1</td>\n",
       "      <td>309.5</td>\n",
       "      <td>2881</td>\n",
       "      <td>36353456</td>\n",
       "      <td>0</td>\n",
       "      <td>2488</td>\n",
       "    </tr>\n",
       "    <tr>\n",
       "      <th>22390813</th>\n",
       "      <td>319630</td>\n",
       "      <td>0</td>\n",
       "      <td>0</td>\n",
       "      <td>2021-02-22</td>\n",
       "      <td>1</td>\n",
       "      <td>176.1</td>\n",
       "      <td>2881</td>\n",
       "      <td>20736018</td>\n",
       "      <td>0</td>\n",
       "      <td>3067</td>\n",
       "    </tr>\n",
       "    <tr>\n",
       "      <th>3614243</th>\n",
       "      <td>38410</td>\n",
       "      <td>0</td>\n",
       "      <td>0</td>\n",
       "      <td>2022-05-19</td>\n",
       "      <td>1</td>\n",
       "      <td>139.3</td>\n",
       "      <td>2881</td>\n",
       "      <td>35414243</td>\n",
       "      <td>0</td>\n",
       "      <td>583</td>\n",
       "    </tr>\n",
       "    <tr>\n",
       "      <th>31371044</th>\n",
       "      <td>244450</td>\n",
       "      <td>0</td>\n",
       "      <td>0</td>\n",
       "      <td>2021-03-19</td>\n",
       "      <td>1</td>\n",
       "      <td>248.2</td>\n",
       "      <td>2881</td>\n",
       "      <td>25716249</td>\n",
       "      <td>0</td>\n",
       "      <td>1577</td>\n",
       "    </tr>\n",
       "    <tr>\n",
       "      <th>37593695</th>\n",
       "      <td>1461680</td>\n",
       "      <td>4</td>\n",
       "      <td>0</td>\n",
       "      <td>2021-08-24</td>\n",
       "      <td>1</td>\n",
       "      <td>45.0</td>\n",
       "      <td>2881</td>\n",
       "      <td>39738900</td>\n",
       "      <td>0</td>\n",
       "      <td>17120</td>\n",
       "    </tr>\n",
       "    <tr>\n",
       "      <th>...</th>\n",
       "      <td>...</td>\n",
       "      <td>...</td>\n",
       "      <td>...</td>\n",
       "      <td>...</td>\n",
       "      <td>...</td>\n",
       "      <td>...</td>\n",
       "      <td>...</td>\n",
       "      <td>...</td>\n",
       "      <td>...</td>\n",
       "      <td>...</td>\n",
       "    </tr>\n",
       "    <tr>\n",
       "      <th>32250651</th>\n",
       "      <td>674940</td>\n",
       "      <td>0</td>\n",
       "      <td>0</td>\n",
       "      <td>2020-06-29</td>\n",
       "      <td>1</td>\n",
       "      <td>26.7</td>\n",
       "      <td>14304542</td>\n",
       "      <td>21395856</td>\n",
       "      <td>9687</td>\n",
       "      <td>9160</td>\n",
       "    </tr>\n",
       "    <tr>\n",
       "      <th>5642530</th>\n",
       "      <td>356570</td>\n",
       "      <td>0</td>\n",
       "      <td>0</td>\n",
       "      <td>2020-06-29</td>\n",
       "      <td>1</td>\n",
       "      <td>10.6</td>\n",
       "      <td>14304542</td>\n",
       "      <td>30242530</td>\n",
       "      <td>9687</td>\n",
       "      <td>3918</td>\n",
       "    </tr>\n",
       "    <tr>\n",
       "      <th>29383695</th>\n",
       "      <td>588430</td>\n",
       "      <td>0</td>\n",
       "      <td>0</td>\n",
       "      <td>2021-11-16</td>\n",
       "      <td>1</td>\n",
       "      <td>1.9</td>\n",
       "      <td>14304542</td>\n",
       "      <td>22328900</td>\n",
       "      <td>9687</td>\n",
       "      <td>7989</td>\n",
       "    </tr>\n",
       "    <tr>\n",
       "      <th>4915235</th>\n",
       "      <td>360430</td>\n",
       "      <td>2</td>\n",
       "      <td>0</td>\n",
       "      <td>2022-02-04</td>\n",
       "      <td>1</td>\n",
       "      <td>39.9</td>\n",
       "      <td>14304542</td>\n",
       "      <td>31315235</td>\n",
       "      <td>9687</td>\n",
       "      <td>4011</td>\n",
       "    </tr>\n",
       "    <tr>\n",
       "      <th>3102256</th>\n",
       "      <td>203140</td>\n",
       "      <td>0</td>\n",
       "      <td>0</td>\n",
       "      <td>2021-11-16</td>\n",
       "      <td>1</td>\n",
       "      <td>12.8</td>\n",
       "      <td>14304542</td>\n",
       "      <td>26802256</td>\n",
       "      <td>9687</td>\n",
       "      <td>989</td>\n",
       "    </tr>\n",
       "  </tbody>\n",
       "</table>\n",
       "<p>365754 rows × 10 columns</p>\n",
       "</div>"
      ],
      "text/plain": [
       "           app_id helpful funny       date  is_recommended hours   user_id  \\\n",
       "27008251   292030       0     0 2019-06-24               1 309.5      2881   \n",
       "22390813   319630       0     0 2021-02-22               1 176.1      2881   \n",
       "3614243     38410       0     0 2022-05-19               1 139.3      2881   \n",
       "31371044   244450       0     0 2021-03-19               1 248.2      2881   \n",
       "37593695  1461680       4     0 2021-08-24               1  45.0      2881   \n",
       "...           ...     ...   ...        ...             ...   ...       ...   \n",
       "32250651   674940       0     0 2020-06-29               1  26.7  14304542   \n",
       "5642530    356570       0     0 2020-06-29               1  10.6  14304542   \n",
       "29383695   588430       0     0 2021-11-16               1   1.9  14304542   \n",
       "4915235    360430       2     0 2022-02-04               1  39.9  14304542   \n",
       "3102256    203140       0     0 2021-11-16               1  12.8  14304542   \n",
       "\n",
       "         review_id  user_id_categorical  app_id_categorical  \n",
       "27008251  36353456                    0                2488  \n",
       "22390813  20736018                    0                3067  \n",
       "3614243   35414243                    0                 583  \n",
       "31371044  25716249                    0                1577  \n",
       "37593695  39738900                    0               17120  \n",
       "...            ...                  ...                 ...  \n",
       "32250651  21395856                 9687                9160  \n",
       "5642530   30242530                 9687                3918  \n",
       "29383695  22328900                 9687                7989  \n",
       "4915235   31315235                 9687                4011  \n",
       "3102256   26802256                 9687                 989  \n",
       "\n",
       "[365754 rows x 10 columns]"
      ]
     },
     "execution_count": 11,
     "metadata": {},
     "output_type": "execute_result"
    }
   ],
   "source": [
    "recommendations = loading_recommendations(recommendations_df)\n",
    "recommendations"
   ]
  },
  {
   "cell_type": "code",
   "execution_count": 12,
   "metadata": {},
   "outputs": [
    {
     "name": "stdout",
     "output_type": "stream",
     "text": [
      "################  Recommendations (Sample) ################\n",
      "Minimum number of recommendations to included in the sample: 20\n",
      "Number of randomly selected users: 10000\n",
      "Users: 9,688\n",
      "Games: 20,615\n"
     ]
    }
   ],
   "source": [
    "print(\"################  Recommendations (Sample) ################\")\n",
    "print(\"Minimum number of recommendations to be included in the sample:\", K_REC)\n",
    "print(\"Number of randomly selected users:\", N_USERS)\n",
    "print(\"Users:\", '{0:,.0f}'.format(len(recommendations.user_id.unique())))\n",
    "print(\"Games:\", '{0:,.0f}'.format(len(recommendations.app_id.unique())))"
   ]
  },
  {
   "cell_type": "code",
   "execution_count": 13,
   "metadata": {},
   "outputs": [
    {
     "data": {
      "text/plain": [
       "(365754, 10)"
      ]
     },
     "execution_count": 13,
     "metadata": {},
     "output_type": "execute_result"
    }
   ],
   "source": [
    "recommendations.shape"
   ]
  },
  {
   "cell_type": "markdown",
   "metadata": {},
   "source": [
    "## Building the User-Game Matrix"
   ]
  },
  {
   "cell_type": "code",
   "execution_count": 14,
   "metadata": {},
   "outputs": [],
   "source": [
    "num_users = len(recommendations[\"user_id_categorical\"].unique())\n",
    "num_games = len(recommendations[\"app_id_categorical\"].unique())"
   ]
  },
  {
   "cell_type": "code",
   "execution_count": 15,
   "metadata": {},
   "outputs": [
    {
     "data": {
      "text/html": [
       "<div>\n",
       "<style scoped>\n",
       "    .dataframe tbody tr th:only-of-type {\n",
       "        vertical-align: middle;\n",
       "    }\n",
       "\n",
       "    .dataframe tbody tr th {\n",
       "        vertical-align: top;\n",
       "    }\n",
       "\n",
       "    .dataframe thead th {\n",
       "        text-align: right;\n",
       "    }\n",
       "</style>\n",
       "<table border=\"1\" class=\"dataframe\">\n",
       "  <thead>\n",
       "    <tr style=\"text-align: right;\">\n",
       "      <th></th>\n",
       "      <th>user_id_categorical</th>\n",
       "      <th>app_id_categorical</th>\n",
       "    </tr>\n",
       "  </thead>\n",
       "  <tbody>\n",
       "    <tr>\n",
       "      <th>27008251</th>\n",
       "      <td>0</td>\n",
       "      <td>2488</td>\n",
       "    </tr>\n",
       "    <tr>\n",
       "      <th>22390813</th>\n",
       "      <td>0</td>\n",
       "      <td>3067</td>\n",
       "    </tr>\n",
       "    <tr>\n",
       "      <th>3614243</th>\n",
       "      <td>0</td>\n",
       "      <td>583</td>\n",
       "    </tr>\n",
       "    <tr>\n",
       "      <th>31371044</th>\n",
       "      <td>0</td>\n",
       "      <td>1577</td>\n",
       "    </tr>\n",
       "    <tr>\n",
       "      <th>37593695</th>\n",
       "      <td>0</td>\n",
       "      <td>17120</td>\n",
       "    </tr>\n",
       "    <tr>\n",
       "      <th>...</th>\n",
       "      <td>...</td>\n",
       "      <td>...</td>\n",
       "    </tr>\n",
       "    <tr>\n",
       "      <th>32250651</th>\n",
       "      <td>9687</td>\n",
       "      <td>9160</td>\n",
       "    </tr>\n",
       "    <tr>\n",
       "      <th>5642530</th>\n",
       "      <td>9687</td>\n",
       "      <td>3918</td>\n",
       "    </tr>\n",
       "    <tr>\n",
       "      <th>29383695</th>\n",
       "      <td>9687</td>\n",
       "      <td>7989</td>\n",
       "    </tr>\n",
       "    <tr>\n",
       "      <th>4915235</th>\n",
       "      <td>9687</td>\n",
       "      <td>4011</td>\n",
       "    </tr>\n",
       "    <tr>\n",
       "      <th>3102256</th>\n",
       "      <td>9687</td>\n",
       "      <td>989</td>\n",
       "    </tr>\n",
       "  </tbody>\n",
       "</table>\n",
       "<p>365753 rows × 2 columns</p>\n",
       "</div>"
      ],
      "text/plain": [
       "          user_id_categorical  app_id_categorical\n",
       "27008251                    0                2488\n",
       "22390813                    0                3067\n",
       "3614243                     0                 583\n",
       "31371044                    0                1577\n",
       "37593695                    0               17120\n",
       "...                       ...                 ...\n",
       "32250651                 9687                9160\n",
       "5642530                  9687                3918\n",
       "29383695                 9687                7989\n",
       "4915235                  9687                4011\n",
       "3102256                  9687                 989\n",
       "\n",
       "[365753 rows x 2 columns]"
      ]
     },
     "execution_count": 15,
     "metadata": {},
     "output_type": "execute_result"
    }
   ],
   "source": [
    "recommendations[[\"user_id_categorical\",\"app_id_categorical\"]].drop_duplicates()"
   ]
  },
  {
   "cell_type": "code",
   "execution_count": 16,
   "metadata": {},
   "outputs": [
    {
     "data": {
      "text/plain": [
       "<9689x20616 sparse matrix of type '<class 'numpy.int8'>'\n",
       "\twith 365753 stored elements in Dictionary Of Keys format>"
      ]
     },
     "execution_count": 16,
     "metadata": {},
     "output_type": "execute_result"
    }
   ],
   "source": [
    "def build_user_game_matrix(num_usr, num_gms):\n",
    "    mat = sp.sparse.dok_matrix((num_usr+1, num_gms+1), dtype='int8')\n",
    "    for user_game in recommendations[[\"user_id_categorical\",\"app_id_categorical\"]].values:\n",
    "        mat[user_game[0], user_game[1]] = 1\n",
    "    return mat\n",
    "\n",
    "user_game_matrix = build_user_game_matrix(num_users, num_games)\n",
    "user_game_matrix"
   ]
  },
  {
   "cell_type": "code",
   "execution_count": 17,
   "metadata": {
    "scrolled": true
   },
   "outputs": [],
   "source": [
    "# user_game_matrix[0, :].keys()"
   ]
  },
  {
   "cell_type": "code",
   "execution_count": 18,
   "metadata": {},
   "outputs": [
    {
     "name": "stdout",
     "output_type": "stream",
     "text": [
      "################ User-Game Matrix ################\n",
      "Number of Rows: 9,689\n",
      "Numbeer of Columns: 20,616\n",
      "Number of stored values: 365,753\n"
     ]
    }
   ],
   "source": [
    "print(\"################ User-Game Matrix ################\")\n",
    "print(\"Number of Rows:\", '{0:,.0f}'.format(user_game_matrix.shape[0]))\n",
    "print(\"Numbeer of Columns:\", '{0:,.0f}'.format(user_game_matrix.shape[1]))\n",
    "print(\"Number of stored values:\", '{0:,.0f}'.format(user_game_matrix.size))\n"
   ]
  },
  {
   "cell_type": "markdown",
   "metadata": {},
   "source": [
    "## Save Users and Games Mapping"
   ]
  },
  {
   "cell_type": "code",
   "execution_count": 22,
   "metadata": {},
   "outputs": [],
   "source": [
    "games_idx = recommendations[[\"app_id\",\"app_id_categorical\"]].drop_duplicates()\n",
    "games_idx.to_csv(\"matrix/games_idx.csv\", index=False)"
   ]
  }
 ],
 "metadata": {
  "deepnote_execution_queue": [],
  "deepnote_notebook_id": "e390f7ca609a496ba0539d173516033e",
  "kernelspec": {
   "display_name": "Python 3 (ipykernel)",
   "language": "python",
   "name": "python3"
  },
  "language_info": {
   "codemirror_mode": {
    "name": "ipython",
    "version": 3
   },
   "file_extension": ".py",
   "mimetype": "text/x-python",
   "name": "python",
   "nbconvert_exporter": "python",
   "pygments_lexer": "ipython3",
   "version": "3.9.7"
  }
 },
 "nbformat": 4,
 "nbformat_minor": 1
}
