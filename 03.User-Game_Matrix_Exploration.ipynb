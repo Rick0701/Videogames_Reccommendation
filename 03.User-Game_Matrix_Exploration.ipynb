{
 "cells": [
  {
   "cell_type": "markdown",
   "metadata": {
    "cell_id": "4ede0aa9047d42248aca61268c021691",
    "deepnote_cell_type": "text-cell-h1",
    "formattedRanges": []
   },
   "source": [
    "# 3. User-Game Matrix - Exploration"
   ]
  },
  {
   "cell_type": "markdown",
   "metadata": {},
   "source": [
    "## Introduction\n",
    "\n",
    "Typically, in recommender systems we have to create a user-game matrix with the users to the rows and the items (in this case we have games) to the columns.\n",
    "\n",
    "This notebook explore the user-game matrix which has been already created in separate notebook (see detail below)"
   ]
  },
  {
   "cell_type": "code",
   "execution_count": 1,
   "metadata": {
    "cell_id": "5a402b37920143c395f5e434b227a406",
    "deepnote_cell_type": "code",
    "deepnote_to_be_reexecuted": false,
    "execution_millis": 105,
    "execution_start": 1708254820823,
    "source_hash": null
   },
   "outputs": [],
   "source": [
    "import pandas as pd\n",
    "import numpy as np\n",
    "import pickle\n",
    "from scipy import sparse\n",
    "import gzip"
   ]
  },
  {
   "cell_type": "markdown",
   "metadata": {},
   "source": [
    "## Building the User-Game Matrix\n",
    "\n",
    "Due to the large memory requirements, the user-game matrix has been created in the notebook \"User-Games_Matrix_Building\" available in the `help` directory\n",
    "The matrix, in sparse format, has been saved to a pickle file which you can read using the code below"
   ]
  },
  {
   "cell_type": "markdown",
   "metadata": {},
   "source": [
    "## Exploring the User-Game Matrix"
   ]
  },
  {
   "cell_type": "code",
   "execution_count": 2,
   "metadata": {},
   "outputs": [
    {
     "name": "stderr",
     "output_type": "stream",
     "text": [
      "C:\\Users\\riccardoricci\\AppData\\Local\\Temp\\ipykernel_20472\\3332260560.py:3: DeprecationWarning: Please use `csr_matrix` from the `scipy.sparse` namespace, the `scipy.sparse.csr` namespace is deprecated.\n",
      "  data = pickle.load(f)\n"
     ]
    },
    {
     "data": {
      "text/plain": [
       "<12663134x37420 sparse matrix of type '<class 'numpy.int32'>'\n",
       "\twith 47967516 stored elements in Compressed Sparse Row format>"
      ]
     },
     "execution_count": 2,
     "metadata": {},
     "output_type": "execute_result"
    }
   ],
   "source": [
    "def decompress_pickle(input_file):\n",
    "    with gzip.open(input_file, 'rb') as f:\n",
    "        data = pickle.load(f)\n",
    "    return data\n",
    "\n",
    "user_game_matrix = decompress_pickle('matrix/user_game_matrix.pkl.gz')\n",
    "user_game_matrix\n"
   ]
  },
  {
   "cell_type": "code",
   "execution_count": 3,
   "metadata": {
    "cell_id": "8b28abc6ad124355a8200c97824c2bb7",
    "deepnote_cell_type": "code",
    "deepnote_to_be_reexecuted": false,
    "execution_millis": 54,
    "execution_start": 1708254824635,
    "source_hash": null
   },
   "outputs": [
    {
     "name": "stdout",
     "output_type": "stream",
     "text": [
      "There are 12,663,134 users\n",
      "and 37,419 games\n"
     ]
    }
   ],
   "source": [
    "print(\"There are\", '{0:,.0f}'.format(user_game_matrix.shape[0]) , \"users\")\n",
    "print(\"and\", '{0:,.0f}'.format(user_game_matrix.shape[1]-1) , \"games\")\n",
    "# the first column of the matrix contains the user_id!"
   ]
  },
  {
   "cell_type": "code",
   "execution_count": 5,
   "metadata": {
    "cell_id": "ea77ebb6af7848a5a2492c72f6153f95",
    "deepnote_cell_type": "code",
    "deepnote_to_be_reexecuted": false,
    "execution_millis": 451,
    "execution_start": 1708254824643,
    "source_hash": null
   },
   "outputs": [
    {
     "data": {
      "text/plain": [
       "(12663134, 37419)"
      ]
     },
     "execution_count": 5,
     "metadata": {},
     "output_type": "execute_result"
    }
   ],
   "source": [
    "user_game_matrix_final = user_game_matrix[:, 1:]\n",
    "user_game_matrix_final.shape"
   ]
  },
  {
   "cell_type": "code",
   "execution_count": 6,
   "metadata": {
    "cell_id": "476d89b559fd4c21bd312e78a606bf9f",
    "deepnote_cell_type": "code",
    "deepnote_to_be_reexecuted": false,
    "execution_millis": 403,
    "execution_start": 1708254825115,
    "source_hash": null
   },
   "outputs": [
    {
     "data": {
      "text/plain": [
       "array([[       0],\n",
       "       [       1],\n",
       "       [       2],\n",
       "       ...,\n",
       "       [12663131],\n",
       "       [12663132],\n",
       "       [12663133]], dtype=int32)"
      ]
     },
     "execution_count": 6,
     "metadata": {},
     "output_type": "execute_result"
    }
   ],
   "source": [
    "user_game_matrix[:, 0].toarray()\n"
   ]
  },
  {
   "cell_type": "code",
   "execution_count": 16,
   "metadata": {},
   "outputs": [
    {
     "data": {
      "text/plain": [
       "<1x37420 sparse matrix of type '<class 'numpy.intc'>'\n",
       "\twith 2 stored elements in Compressed Sparse Row format>"
      ]
     },
     "execution_count": 16,
     "metadata": {},
     "output_type": "execute_result"
    }
   ],
   "source": [
    "user_game_matrix[2590]"
   ]
  },
  {
   "cell_type": "markdown",
   "metadata": {
    "cell_id": "7884e16bc64844fba84d2dcfd5f33673",
    "deepnote_app_block_visible": false,
    "deepnote_cell_type": "text-cell-h2",
    "formattedRanges": [
     {
      "fromCodePoint": 0,
      "marks": {
       "bold": true
      },
      "toCodePoint": 13,
      "type": "marks"
     }
    ],
    "is_collapsed": false
   },
   "source": [
    "## Sparse Matrix"
   ]
  },
  {
   "cell_type": "markdown",
   "metadata": {
    "cell_id": "aa35bf9e4e1a46198d01bb3689ac7375",
    "deepnote_cell_type": "text-cell-p",
    "formattedRanges": []
   },
   "source": [
    "A matrix with a huge number of zero values is a sparse matrix"
   ]
  },
  {
   "cell_type": "markdown",
   "metadata": {
    "cell_id": "fd37e24637e04067807279edb03143b9",
    "deepnote_cell_type": "text-cell-p",
    "formattedRanges": [
     {
      "fromCodePoint": 1,
      "marks": {
       "italic": true
      },
      "toCodePoint": 111,
      "type": "marks"
     },
     {
      "fromCodePoint": 114,
      "ranges": [],
      "toCodePoint": 186,
      "type": "link",
      "url": "https://machinelearningmastery.com/sparse-matrices-for-machine-learning/"
     },
     {
      "fromCodePoint": 186,
      "ranges": [],
      "toCodePoint": 186,
      "type": "link",
      "url": "https://machinelearningmastery.com/sparse-matrices-for-machine-learning/"
     },
     {
      "fromCodePoint": 186,
      "ranges": [],
      "toCodePoint": 186,
      "type": "link",
      "url": "https://machinelearningmastery.com/sparse-matrices-for-machine-learning/"
     }
    ]
   },
   "source": [
    "\"Very large matrices require a lot of memory, and some very large matrices that we wish to work with are sparse.\" https://machinelearningmastery.com/sparse-matrices-for-machine-learning/"
   ]
  },
  {
   "cell_type": "code",
   "execution_count": 7,
   "metadata": {
    "cell_id": "f5391bf697a3413d96feea2de890cb00",
    "deepnote_cell_type": "code",
    "deepnote_to_be_reexecuted": false,
    "execution_millis": 34,
    "execution_start": 1708254825523,
    "source_hash": null
   },
   "outputs": [
    {
     "data": {
      "text/plain": [
       "scipy.sparse._csr.csr_matrix"
      ]
     },
     "execution_count": 7,
     "metadata": {},
     "output_type": "execute_result"
    }
   ],
   "source": [
    "type(user_game_matrix)"
   ]
  },
  {
   "cell_type": "markdown",
   "metadata": {
    "cell_id": "a52ff8a3228e4dd7aced30dca0d3a0e2",
    "deepnote_cell_type": "text-cell-p",
    "formattedRanges": [
     {
      "fromCodePoint": 0,
      "marks": {
       "italic": true
      },
      "toCodePoint": 16,
      "type": "marks"
     },
     {
      "fromCodePoint": 22,
      "marks": {
       "bold": true,
       "italic": true
      },
      "toCodePoint": 44,
      "type": "marks"
     }
    ]
   },
   "source": [
    "user_game_matrix is a Compressed Sparse Row matrix. It supports indexing and can be used in machine learning pipelines. "
   ]
  },
  {
   "cell_type": "markdown",
   "metadata": {
    "cell_id": "d5d8e022f6d84c0aadce1d0be23b4106",
    "deepnote_cell_type": "text-cell-p",
    "formattedRanges": [
     {
      "fromCodePoint": 30,
      "ranges": [],
      "toCodePoint": 111,
      "type": "link",
      "url": "https://docs.scipy.org/doc/scipy/reference/generated/scipy.sparse.csr_matrix.html"
     }
    ]
   },
   "source": [
    "From the scipy documentation: https://docs.scipy.org/doc/scipy/reference/generated/scipy.sparse.csr_matrix.html"
   ]
  },
  {
   "cell_type": "markdown",
   "metadata": {
    "cell_id": "1352c0460d76483796350f55e20ed0a9",
    "deepnote_cell_type": "text-cell-p",
    "formattedRanges": [
     {
      "fromCodePoint": 0,
      "marks": {
       "bold": true
      },
      "toCodePoint": 29,
      "type": "marks"
     }
    ]
   },
   "source": [
    "Advantages of the CSR format\n"
   ]
  },
  {
   "cell_type": "markdown",
   "metadata": {
    "cell_id": "aa52e95e627c45158c7c194f6d90a7a7",
    "deepnote_cell_type": "text-cell-bullet",
    "formattedRanges": []
   },
   "source": [
    "- efficient arithmetic operations CSR + CSR, CSR * CSR, etc."
   ]
  },
  {
   "cell_type": "markdown",
   "metadata": {
    "cell_id": "21192147a2b840419d91404c2f072fa3",
    "deepnote_cell_type": "text-cell-bullet",
    "formattedRanges": []
   },
   "source": [
    "- efficient row slicing"
   ]
  },
  {
   "cell_type": "markdown",
   "metadata": {
    "cell_id": "b37edc651b9b489b811471eecddf36da",
    "deepnote_cell_type": "text-cell-bullet",
    "formattedRanges": []
   },
   "source": [
    "- fast matrix vector products"
   ]
  },
  {
   "cell_type": "markdown",
   "metadata": {
    "cell_id": "3aa27f4512534928a9caf308b7c4fbd1",
    "deepnote_cell_type": "text-cell-p",
    "formattedRanges": [
     {
      "fromCodePoint": 0,
      "marks": {
       "bold": true
      },
      "toCodePoint": 32,
      "type": "marks"
     }
    ]
   },
   "source": [
    "Disadvantages of the CSR format\n"
   ]
  },
  {
   "cell_type": "markdown",
   "metadata": {
    "cell_id": "a820f51d7ad744bf925474b5fe98d813",
    "deepnote_cell_type": "text-cell-bullet",
    "formattedRanges": []
   },
   "source": [
    "- slow column slicing operations (consider CSC)"
   ]
  },
  {
   "cell_type": "markdown",
   "metadata": {
    "cell_id": "29a20cd66bb7426dac61908d6129dd65",
    "deepnote_cell_type": "text-cell-bullet",
    "formattedRanges": []
   },
   "source": [
    "- changes to the sparsity structure are expensive (consider LIL or DOK)"
   ]
  },
  {
   "cell_type": "markdown",
   "metadata": {
    "cell_id": "a74f640f2c44405ea1b194c4c538ac8c",
    "deepnote_cell_type": "text-cell-p",
    "formattedRanges": [
     {
      "fromCodePoint": 14,
      "marks": {
       "bold": true,
       "underline": true
      },
      "toCodePoint": 23,
      "type": "marks"
     }
    ]
   },
   "source": [
    "An example of indexing a sparse matrix is provided below"
   ]
  },
  {
   "cell_type": "code",
   "execution_count": 9,
   "metadata": {
    "cell_id": "292495d9661649b6960bd4c1029d1f5e",
    "deepnote_cell_type": "code",
    "deepnote_to_be_reexecuted": false,
    "execution_millis": 351,
    "execution_start": 1708254825535,
    "source_hash": null
   },
   "outputs": [
    {
     "data": {
      "text/plain": [
       "array([[       0],\n",
       "       [       1],\n",
       "       [       2],\n",
       "       ...,\n",
       "       [12663131],\n",
       "       [12663132],\n",
       "       [12663133]])"
      ]
     },
     "execution_count": 9,
     "metadata": {},
     "output_type": "execute_result"
    }
   ],
   "source": [
    "# The first column contains the user id\n",
    "user_game_matrix[:, 0].toarray() # you can also use todense()"
   ]
  },
  {
   "cell_type": "code",
   "execution_count": 10,
   "metadata": {
    "cell_id": "cfb7676c8dec4ccab2cebdbd98ce29ac",
    "deepnote_cell_type": "code",
    "deepnote_to_be_reexecuted": false,
    "execution_millis": 378,
    "execution_start": 1708254825893,
    "source_hash": null
   },
   "outputs": [
    {
     "name": "stdout",
     "output_type": "stream",
     "text": [
      "12,663,134\n"
     ]
    }
   ],
   "source": [
    "print('{0:,.0f}'.format(len(user_game_matrix[:, 0].toarray())))"
   ]
  },
  {
   "cell_type": "code",
   "execution_count": 11,
   "metadata": {
    "cell_id": "5eea5675a64644cc9e4eef9fb3e15e53",
    "deepnote_cell_type": "code",
    "deepnote_to_be_reexecuted": false,
    "execution_millis": 119,
    "execution_start": 1708254826272,
    "source_hash": null
   },
   "outputs": [
    {
     "name": "stdout",
     "output_type": "stream",
     "text": [
      "There sparsity of the matrix is '99.9899%'\n",
      "There density of the matrix is '0.0101%'\n"
     ]
    }
   ],
   "source": [
    "sparsity = 1 - (user_game_matrix.count_nonzero() / (user_game_matrix.shape[0]*user_game_matrix.shape[1]))\n",
    "\n",
    "print(\"There sparsity of the matrix is '{0:.4%}'\".format(sparsity))\n",
    "print(\"There density of the matrix is '{0:.4%}'\".format(1-sparsity))"
   ]
  },
  {
   "cell_type": "markdown",
   "metadata": {
    "cell_id": "2b5b979cee514be5b9d20fcada23105d",
    "deepnote_cell_type": "text-cell-h2",
    "formattedRanges": []
   },
   "source": [
    "## Mapping of User ID and Games ID"
   ]
  },
  {
   "cell_type": "markdown",
   "metadata": {
    "cell_id": "18d02a41709346a5980596ddb8e1d550",
    "deepnote_cell_type": "text-cell-p",
    "formattedRanges": []
   },
   "source": [
    "The mapping between the original user id (in the recommendation dataset) and the new one starting from 0 is provided below"
   ]
  },
  {
   "cell_type": "code",
   "execution_count": 12,
   "metadata": {},
   "outputs": [],
   "source": [
    "def decompress_csv(input_file):\n",
    "    # Read the compressed CSV file\n",
    "    with gzip.open(input_file, 'rt', encoding='utf-8') as f:\n",
    "        df = pd.read_csv(f)\n",
    "    return df\n",
    "\n",
    "# Example usage\n",
    "users_idx = decompress_csv('matrix/users_idx.csv.gz')\n",
    "# The other columns, from the second contains the games sorted by the index (app_id_categorical)\n",
    "games_idx = decompress_csv('matrix/games_idx.csv.gz')"
   ]
  },
  {
   "cell_type": "code",
   "execution_count": 13,
   "metadata": {},
   "outputs": [
    {
     "data": {
      "text/html": [
       "<div>\n",
       "<style scoped>\n",
       "    .dataframe tbody tr th:only-of-type {\n",
       "        vertical-align: middle;\n",
       "    }\n",
       "\n",
       "    .dataframe tbody tr th {\n",
       "        vertical-align: top;\n",
       "    }\n",
       "\n",
       "    .dataframe thead th {\n",
       "        text-align: right;\n",
       "    }\n",
       "</style>\n",
       "<table border=\"1\" class=\"dataframe\">\n",
       "  <thead>\n",
       "    <tr style=\"text-align: right;\">\n",
       "      <th></th>\n",
       "      <th>user_id</th>\n",
       "      <th>user_id_categorical</th>\n",
       "    </tr>\n",
       "  </thead>\n",
       "  <tbody>\n",
       "    <tr>\n",
       "      <th>0</th>\n",
       "      <td>0</td>\n",
       "      <td>0</td>\n",
       "    </tr>\n",
       "    <tr>\n",
       "      <th>1</th>\n",
       "      <td>2</td>\n",
       "      <td>1</td>\n",
       "    </tr>\n",
       "    <tr>\n",
       "      <th>2</th>\n",
       "      <td>3</td>\n",
       "      <td>2</td>\n",
       "    </tr>\n",
       "    <tr>\n",
       "      <th>3</th>\n",
       "      <td>4</td>\n",
       "      <td>3</td>\n",
       "    </tr>\n",
       "    <tr>\n",
       "      <th>4</th>\n",
       "      <td>5</td>\n",
       "      <td>4</td>\n",
       "    </tr>\n",
       "  </tbody>\n",
       "</table>\n",
       "</div>"
      ],
      "text/plain": [
       "   user_id  user_id_categorical\n",
       "0        0                    0\n",
       "1        2                    1\n",
       "2        3                    2\n",
       "3        4                    3\n",
       "4        5                    4"
      ]
     },
     "execution_count": 13,
     "metadata": {},
     "output_type": "execute_result"
    }
   ],
   "source": [
    "users_idx.head()"
   ]
  },
  {
   "cell_type": "code",
   "execution_count": 14,
   "metadata": {},
   "outputs": [
    {
     "data": {
      "text/html": [
       "<div>\n",
       "<style scoped>\n",
       "    .dataframe tbody tr th:only-of-type {\n",
       "        vertical-align: middle;\n",
       "    }\n",
       "\n",
       "    .dataframe tbody tr th {\n",
       "        vertical-align: top;\n",
       "    }\n",
       "\n",
       "    .dataframe thead th {\n",
       "        text-align: right;\n",
       "    }\n",
       "</style>\n",
       "<table border=\"1\" class=\"dataframe\">\n",
       "  <thead>\n",
       "    <tr style=\"text-align: right;\">\n",
       "      <th></th>\n",
       "      <th>app_id</th>\n",
       "      <th>app_id_categorical</th>\n",
       "    </tr>\n",
       "  </thead>\n",
       "  <tbody>\n",
       "    <tr>\n",
       "      <th>0</th>\n",
       "      <td>10</td>\n",
       "      <td>1</td>\n",
       "    </tr>\n",
       "    <tr>\n",
       "      <th>1</th>\n",
       "      <td>20</td>\n",
       "      <td>2</td>\n",
       "    </tr>\n",
       "    <tr>\n",
       "      <th>2</th>\n",
       "      <td>30</td>\n",
       "      <td>3</td>\n",
       "    </tr>\n",
       "    <tr>\n",
       "      <th>3</th>\n",
       "      <td>40</td>\n",
       "      <td>4</td>\n",
       "    </tr>\n",
       "    <tr>\n",
       "      <th>4</th>\n",
       "      <td>50</td>\n",
       "      <td>5</td>\n",
       "    </tr>\n",
       "  </tbody>\n",
       "</table>\n",
       "</div>"
      ],
      "text/plain": [
       "   app_id  app_id_categorical\n",
       "0      10                   1\n",
       "1      20                   2\n",
       "2      30                   3\n",
       "3      40                   4\n",
       "4      50                   5"
      ]
     },
     "execution_count": 14,
     "metadata": {},
     "output_type": "execute_result"
    }
   ],
   "source": [
    "games_idx.head()"
   ]
  },
  {
   "cell_type": "markdown",
   "metadata": {
    "cell_id": "20f3e56f2ff04ff0994c51f1d8a9fd3a",
    "deepnote_app_block_visible": false,
    "deepnote_cell_type": "text-cell-p",
    "formattedRanges": [],
    "is_collapsed": false
   },
   "source": [
    "Indexing for a user and find the games she has recommended"
   ]
  },
  {
   "cell_type": "code",
   "execution_count": 15,
   "metadata": {
    "cell_id": "72e4607648e241289e2f6837f377c518",
    "deepnote_cell_type": "code",
    "deepnote_to_be_reexecuted": false,
    "execution_millis": 247,
    "execution_start": 1708254831331,
    "source_hash": null
   },
   "outputs": [
    {
     "data": {
      "text/plain": [
       "(array([0, 0], dtype=int64), array([10393, 27909], dtype=int64))"
      ]
     },
     "execution_count": 15,
     "metadata": {},
     "output_type": "execute_result"
    }
   ],
   "source": [
    "# Example: User_id = 3 -> User_id_categorical = 2\n",
    "USER_ID = 2\n",
    "sample = user_game_matrix[USER_ID,:].toarray()\n",
    "games_indices = np.where(sample == 1)\n",
    "games_indices"
   ]
  },
  {
   "cell_type": "markdown",
   "metadata": {
    "cell_id": "234e65a00f3640e9889e62f58ac024c8",
    "deepnote_cell_type": "text-cell-p",
    "formattedRanges": []
   },
   "source": [
    "app_id_categorical = 10393 and 27909"
   ]
  },
  {
   "cell_type": "code",
   "execution_count": 16,
   "metadata": {
    "cell_id": "88560cb25dcd4e6985395c654291347f",
    "deepnote_cell_type": "code",
    "deepnote_to_be_reexecuted": false,
    "execution_millis": 246,
    "execution_start": 1708254831332,
    "source_hash": null
   },
   "outputs": [
    {
     "data": {
      "text/html": [
       "<div>\n",
       "<style scoped>\n",
       "    .dataframe tbody tr th:only-of-type {\n",
       "        vertical-align: middle;\n",
       "    }\n",
       "\n",
       "    .dataframe tbody tr th {\n",
       "        vertical-align: top;\n",
       "    }\n",
       "\n",
       "    .dataframe thead th {\n",
       "        text-align: right;\n",
       "    }\n",
       "</style>\n",
       "<table border=\"1\" class=\"dataframe\">\n",
       "  <thead>\n",
       "    <tr style=\"text-align: right;\">\n",
       "      <th></th>\n",
       "      <th>app_id</th>\n",
       "      <th>app_id_categorical</th>\n",
       "    </tr>\n",
       "  </thead>\n",
       "  <tbody>\n",
       "    <tr>\n",
       "      <th>10392</th>\n",
       "      <td>552990</td>\n",
       "      <td>10393</td>\n",
       "    </tr>\n",
       "  </tbody>\n",
       "</table>\n",
       "</div>"
      ],
      "text/plain": [
       "       app_id  app_id_categorical\n",
       "10392  552990               10393"
      ]
     },
     "execution_count": 16,
     "metadata": {},
     "output_type": "execute_result"
    }
   ],
   "source": [
    "games_idx[games_idx[\"app_id_categorical\"]==10393]\n",
    "\n",
    "# corresponds to this app_id in the recommendation dataset"
   ]
  },
  {
   "cell_type": "code",
   "execution_count": 17,
   "metadata": {
    "cell_id": "b690f8f19e444feb8faa571b338ef0b1",
    "deepnote_cell_type": "code",
    "deepnote_to_be_reexecuted": false,
    "execution_millis": 242,
    "execution_start": 1708254831336,
    "source_hash": null
   },
   "outputs": [
    {
     "data": {
      "text/html": [
       "<div>\n",
       "<style scoped>\n",
       "    .dataframe tbody tr th:only-of-type {\n",
       "        vertical-align: middle;\n",
       "    }\n",
       "\n",
       "    .dataframe tbody tr th {\n",
       "        vertical-align: top;\n",
       "    }\n",
       "\n",
       "    .dataframe thead th {\n",
       "        text-align: right;\n",
       "    }\n",
       "</style>\n",
       "<table border=\"1\" class=\"dataframe\">\n",
       "  <thead>\n",
       "    <tr style=\"text-align: right;\">\n",
       "      <th></th>\n",
       "      <th>app_id</th>\n",
       "      <th>app_id_categorical</th>\n",
       "    </tr>\n",
       "  </thead>\n",
       "  <tbody>\n",
       "    <tr>\n",
       "      <th>27908</th>\n",
       "      <td>1407200</td>\n",
       "      <td>27909</td>\n",
       "    </tr>\n",
       "  </tbody>\n",
       "</table>\n",
       "</div>"
      ],
      "text/plain": [
       "        app_id  app_id_categorical\n",
       "27908  1407200               27909"
      ]
     },
     "execution_count": 17,
     "metadata": {},
     "output_type": "execute_result"
    }
   ],
   "source": [
    "games_idx[games_idx[\"app_id_categorical\"]==27909]"
   ]
  },
  {
   "cell_type": "markdown",
   "metadata": {
    "cell_id": "8954fefc80f242fe989fab62eb6b58e7",
    "deepnote_cell_type": "text-cell-h3",
    "formattedRanges": []
   },
   "source": [
    "### Reducing the dataset to only users who perform at least K recommendations"
   ]
  },
  {
   "cell_type": "markdown",
   "metadata": {
    "cell_id": "e8c7b88bec3d45ac9cd26026d274ecf9",
    "deepnote_cell_type": "text-cell-p",
    "formattedRanges": [
     {
      "fromCodePoint": 129,
      "marks": {
       "bold": true
      },
      "toCodePoint": 147,
      "type": "marks"
     }
    ]
   },
   "source": [
    "The code below may be needed if we do not include side / query features (e.g. games metadata). The additional features solve the cold-stat problem i.e. for users with limited number of recommendations the model would have difficulty to predict relevance."
   ]
  },
  {
   "cell_type": "markdown",
   "metadata": {
    "cell_id": "b09a8cd32488453198648ff9c0f25f46",
    "deepnote_cell_type": "text-cell-p",
    "formattedRanges": [
     {
      "fromCodePoint": 50,
      "marks": {
       "italic": true
      },
      "toCodePoint": 52,
      "type": "marks"
     }
    ]
   },
   "source": [
    "Some papers filter for users who perform at least k recommendations"
   ]
  },
  {
   "cell_type": "markdown",
   "metadata": {
    "cell_id": "6297206e78ee477b8b1168a54392fad9",
    "deepnote_cell_type": "text-cell-p",
    "formattedRanges": []
   },
   "source": [
    "e.g. He, X., Liao, L., Zhang, H., Nie, L., Hu, X., & Chua, T. S. (2017, April). Neural collaborative filtering. In Proceedings of the 26th international conference on world wide web (pp. 173-182)."
   ]
  },
  {
   "cell_type": "code",
   "execution_count": 18,
   "metadata": {
    "cell_id": "58e5b8c689f9481aa56faa002913ec00",
    "deepnote_cell_type": "code",
    "deepnote_to_be_reexecuted": false,
    "execution_millis": 496,
    "execution_start": 1708254831387,
    "source_hash": null
   },
   "outputs": [
    {
     "data": {
      "text/plain": [
       "(12663134, 37419)"
      ]
     },
     "execution_count": 18,
     "metadata": {},
     "output_type": "execute_result"
    }
   ],
   "source": [
    "# removing the user id\n",
    "user_game_matrix_final = user_game_matrix[:,1:]\n",
    "user_game_matrix_final.shape"
   ]
  },
  {
   "cell_type": "code",
   "execution_count": 19,
   "metadata": {
    "cell_id": "083561ebec3946639ebc38aa03e4005a",
    "deepnote_cell_type": "code",
    "deepnote_to_be_reexecuted": false,
    "execution_millis": 440,
    "execution_start": 1708254831890,
    "source_hash": null
   },
   "outputs": [
    {
     "data": {
      "text/plain": [
       "(12663134, 1)"
      ]
     },
     "execution_count": 19,
     "metadata": {},
     "output_type": "execute_result"
    }
   ],
   "source": [
    "sum_of_recs = np.sum(user_game_matrix_final, axis=1)\n",
    "sum_of_recs.shape"
   ]
  },
  {
   "cell_type": "code",
   "execution_count": 20,
   "metadata": {
    "cell_id": "b3143618ac1442e2b8fefdc38845ca33",
    "deepnote_cell_type": "code",
    "deepnote_to_be_reexecuted": false,
    "execution_millis": 1546,
    "execution_start": 1708254832331,
    "source_hash": null
   },
   "outputs": [
    {
     "data": {
      "text/plain": [
       "(12663134, 37420)"
      ]
     },
     "execution_count": 20,
     "metadata": {},
     "output_type": "execute_result"
    }
   ],
   "source": [
    "# Adding this column to the user game matrix, so that I can filter it later\n",
    "sparse_matrix = sparse.hstack((user_game_matrix_final, sum_of_recs), format=\"csr\")\n",
    "sparse_matrix.shape"
   ]
  },
  {
   "cell_type": "code",
   "execution_count": 21,
   "metadata": {
    "cell_id": "d35e18e81e6e47969785cbd800d15901",
    "deepnote_cell_type": "code",
    "deepnote_to_be_reexecuted": false,
    "execution_millis": 491,
    "execution_start": 1708254833882,
    "source_hash": null
   },
   "outputs": [],
   "source": [
    "condition_column = -1  # the column index to filter \n",
    "threshold_value = 5  # Set the k values aka number of recommendations\n",
    "\n",
    "# Extract the values in the condition column\n",
    "condition_values = sparse_matrix[:, condition_column].toarray().flatten()\n",
    "\n",
    "# Create a boolean mask for rows based on the condition\n",
    "row_mask = condition_values > threshold_value\n",
    "\n",
    "# Filter the sparse matrix based on the condition for rows\n",
    "user_game_matrix_k_recs = sparse_matrix[row_mask, :]"
   ]
  },
  {
   "cell_type": "code",
   "execution_count": 22,
   "metadata": {
    "cell_id": "55c23f5c6b0647d6badbca348b325b37",
    "deepnote_cell_type": "code",
    "deepnote_to_be_reexecuted": false,
    "execution_millis": 135,
    "execution_start": 1708254834376,
    "source_hash": null
   },
   "outputs": [
    {
     "name": "stdout",
     "output_type": "stream",
     "text": [
      "There are 1,236,797 users\n",
      "and 37,418 games\n"
     ]
    }
   ],
   "source": [
    "# removing the last column\n",
    "user_game_matrix_k_recs = user_game_matrix_k_recs[:,:-1]\n",
    "print(\"There are\", '{0:,.0f}'.format(user_game_matrix_k_recs.shape[0]) , \"users\")\n",
    "print(\"and\", '{0:,.0f}'.format(user_game_matrix_k_recs.shape[1]-1) , \"games\")"
   ]
  },
  {
   "cell_type": "code",
   "execution_count": 23,
   "metadata": {
    "cell_id": "f142236a096b408b81e7485f402b274f",
    "deepnote_cell_type": "code",
    "deepnote_to_be_reexecuted": false,
    "execution_millis": 30,
    "execution_start": 1708254834513,
    "source_hash": null
   },
   "outputs": [
    {
     "name": "stdout",
     "output_type": "stream",
     "text": [
      "There sparsity of the matrix is '99.9652%'\n",
      "There density of the matrix is '0.0348%'\n"
     ]
    }
   ],
   "source": [
    "sparsity = 1 - (user_game_matrix_k_recs.count_nonzero() \n",
    "/ (user_game_matrix_k_recs.shape[0]*user_game_matrix_k_recs.shape[1]))\n",
    "\n",
    "print(\"There sparsity of the matrix is '{0:.4%}'\".format(sparsity))\n",
    "print(\"There density of the matrix is '{0:.4%}'\".format(1-sparsity))"
   ]
  },
  {
   "cell_type": "markdown",
   "metadata": {
    "cell_id": "f5eb75770958427bae3ac67d77755bf9",
    "deepnote_cell_type": "text-cell-h2",
    "formattedRanges": []
   },
   "source": [
    "## "
   ]
  },
  {
   "cell_type": "markdown",
   "metadata": {
    "created_in_deepnote_cell": true,
    "deepnote_cell_type": "markdown"
   },
   "source": [
    "<a style='text-decoration:none;line-height:16px;display:flex;color:#5B5B62;padding:10px;justify-content:end;' href='https://deepnote.com?utm_source=created-in-deepnote-cell&projectId=78c133f5-defd-458d-ba8f-cbdc9ae58cfb' target=\"_blank\">\n",
    "<img alt='Created in deepnote.com' style='display:inline;max-height:16px;margin:0px;margin-right:7.5px;' src='data:image/svg+xml;base64,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' > </img>\n",
    "Created in <span style='font-weight:600;margin-left:4px;'>Deepnote</span></a>"
   ]
  }
 ],
 "metadata": {
  "deepnote_execution_queue": [],
  "deepnote_notebook_id": "50e5993e4745455ab969fb1d203f0e01",
  "kernelspec": {
   "display_name": "Python 3 (ipykernel)",
   "language": "python",
   "name": "python3"
  },
  "language_info": {
   "codemirror_mode": {
    "name": "ipython",
    "version": 3
   },
   "file_extension": ".py",
   "mimetype": "text/x-python",
   "name": "python",
   "nbconvert_exporter": "python",
   "pygments_lexer": "ipython3",
   "version": "3.9.7"
  }
 },
 "nbformat": 4,
 "nbformat_minor": 1
}
