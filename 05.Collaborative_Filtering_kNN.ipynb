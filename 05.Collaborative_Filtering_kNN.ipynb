{
 "cells": [
  {
   "cell_type": "markdown",
   "metadata": {},
   "source": [
    "# 5. Collaborative Filtering - k-NN"
   ]
  },
  {
   "cell_type": "code",
   "execution_count": 1,
   "metadata": {},
   "outputs": [],
   "source": [
    "import pandas as pd\n",
    "import scipy as sp\n",
    "from sklearn.metrics.pairwise import cosine_similarity\n",
    "from sklearn.neighbors import NearestNeighbors\n"
   ]
  },
  {
   "cell_type": "code",
   "execution_count": 2,
   "metadata": {},
   "outputs": [
    {
     "name": "stdout",
     "output_type": "stream",
     "text": [
      "################  Recommendations (all data, positive recommendations only) ################\n",
      "Users: 12,636,209\n",
      "Games: 37,419\n",
      "Number of users 2,000\n",
      "First five users id [11203022 12827342 11719330  9553563 11051045]\n",
      "################  Recommendations (Sample) ################\n",
      "Minimum number of recommendations to be included in the sample: 20\n",
      "Number of randomly selected users: 2000\n",
      "Users: 1,991\n",
      "Games: 11,108\n",
      "################ User-Game Matrix ################\n",
      "Number of Rows: 1,992\n",
      "Numbeer of Columns: 11,109\n",
      "Number of stored values: 75,831\n"
     ]
    }
   ],
   "source": [
    "%run \"01.Recommendation_Loading.ipynb\""
   ]
  },
  {
   "cell_type": "code",
   "execution_count": 3,
   "metadata": {},
   "outputs": [],
   "source": [
    "pd.set_option('display.float_format', lambda x: '%.4f' % x)"
   ]
  },
  {
   "cell_type": "markdown",
   "metadata": {},
   "source": [
    "## Training and Test Istances"
   ]
  },
  {
   "cell_type": "code",
   "execution_count": 4,
   "metadata": {},
   "outputs": [
    {
     "name": "stdout",
     "output_type": "stream",
     "text": [
      "################  Get Test Data ################\n",
      "x_test.shape: (1991, 2)\n",
      "y_test.shape: (1991, 1)\n",
      "Number of Users: 1,992\n",
      "Number of Games: 11,109\n",
      "Number of Negatives Sample per User-Game: 2\n",
      "################  Get Training Data ################\n",
      "x_train.shape: (226553, 2)\n",
      "y_train.shape: (226553, 2)\n"
     ]
    }
   ],
   "source": [
    "%run \"Get_Training_and_Test_Instances.ipynb\""
   ]
  },
  {
   "cell_type": "code",
   "execution_count": 5,
   "metadata": {},
   "outputs": [
    {
     "data": {
      "text/plain": [
       "array([[    0, 10918],\n",
       "       [    1,  9556],\n",
       "       [    2, 10978],\n",
       "       ...,\n",
       "       [ 1988,  8424],\n",
       "       [ 1989, 10918],\n",
       "       [ 1990, 10648]])"
      ]
     },
     "execution_count": 5,
     "metadata": {},
     "output_type": "execute_result"
    }
   ],
   "source": [
    "x_test"
   ]
  },
  {
   "cell_type": "code",
   "execution_count": 6,
   "metadata": {},
   "outputs": [
    {
     "data": {
      "text/plain": [
       "(226553, 2)"
      ]
     },
     "execution_count": 6,
     "metadata": {},
     "output_type": "execute_result"
    }
   ],
   "source": [
    "x_train.shape"
   ]
  },
  {
   "cell_type": "markdown",
   "metadata": {},
   "source": [
    "Removing the test items from the user game matrix which will be used for training"
   ]
  },
  {
   "cell_type": "code",
   "execution_count": 7,
   "metadata": {},
   "outputs": [
    {
     "data": {
      "text/plain": [
       "<1992x11109 sparse matrix of type '<class 'numpy.int8'>'\n",
       "\twith 75831 stored elements in Dictionary Of Keys format>"
      ]
     },
     "execution_count": 7,
     "metadata": {},
     "output_type": "execute_result"
    }
   ],
   "source": [
    "# Check how many stored values before\n",
    "user_game_matrix"
   ]
  },
  {
   "cell_type": "code",
   "execution_count": 8,
   "metadata": {},
   "outputs": [],
   "source": [
    "# user_game_matrix_train = user_game_matrix.tocsc().astype(\"float32\")\n",
    "# user_game_matrix_train"
   ]
  },
  {
   "cell_type": "code",
   "execution_count": 9,
   "metadata": {},
   "outputs": [],
   "source": [
    "for user_item in x_test:\n",
    "    # user_game_matrix_train[user_item[0], user_item[1]] = np.NaN\n",
    "    # user_game_matrix_k_rec_values = user_game_matrix_k_rec_values.astype('int8')\n",
    "    user_game_matrix.pop((user_item[0], user_item[1]))\n"
   ]
  },
  {
   "cell_type": "code",
   "execution_count": 10,
   "metadata": {},
   "outputs": [
    {
     "data": {
      "text/plain": [
       "<1992x11109 sparse matrix of type '<class 'numpy.int8'>'\n",
       "\twith 73840 stored elements in Dictionary Of Keys format>"
      ]
     },
     "execution_count": 10,
     "metadata": {},
     "output_type": "execute_result"
    }
   ],
   "source": [
    "# Check how many stored values after\n",
    "user_game_matrix"
   ]
  },
  {
   "cell_type": "markdown",
   "metadata": {},
   "source": [
    "## Cosine Similarity and kNN Model"
   ]
  },
  {
   "cell_type": "code",
   "execution_count": 11,
   "metadata": {},
   "outputs": [],
   "source": [
    "similarities = cosine_similarity(user_game_matrix)"
   ]
  },
  {
   "cell_type": "code",
   "execution_count": 12,
   "metadata": {},
   "outputs": [
    {
     "data": {
      "text/plain": [
       "(1992, 1992)"
      ]
     },
     "execution_count": 12,
     "metadata": {},
     "output_type": "execute_result"
    }
   ],
   "source": [
    "similarities.shape"
   ]
  },
  {
   "cell_type": "code",
   "execution_count": 13,
   "metadata": {},
   "outputs": [],
   "source": [
    "def knn_model(similarity_matrix, K, metric):\n",
    "    knn_model = NearestNeighbors(n_neighbors=K, metric=metric)\n",
    "    knn_model.fit(similarity_matrix)\n",
    "    # Create an empty table to store the nearest neighbors' indices and distances for all users\n",
    "    neighbor_table = []\n",
    "    \n",
    "    # Iterate over each user in the similarity matrix\n",
    "    for user_index in range(similarity_matrix.shape[0]-1):\n",
    "        # Query the nearest neighbors for the current user\n",
    "        query_user = similarity_matrix[user_index].reshape(1, -1)  # Reshape to match the input format\n",
    "        distances, neighbor_indices = knn_model.kneighbors(query_user, K)\n",
    "        \n",
    "        # Append the user's nearest neighbors' indices and distances to the table\n",
    "        neighbor_table.append({\"User\": user_index, \"Nearest Neighbors\": neighbor_indices[0], \"Distances\": distances[0]})\n",
    "\n",
    "    # Convert the table to a pandas DataFrame for easier visualization\n",
    "    neighbor_table_df = pd.DataFrame(neighbor_table)\n",
    "    return neighbor_table_df\n",
    "\n",
    "# Kn = 2\n",
    "# neighbor_table_df = knn_model(similarities, Kn, 'cosine')\n"
   ]
  },
  {
   "cell_type": "code",
   "execution_count": 14,
   "metadata": {},
   "outputs": [],
   "source": [
    "# neighbor_table_df.tail()"
   ]
  },
  {
   "cell_type": "code",
   "execution_count": 15,
   "metadata": {},
   "outputs": [],
   "source": [
    "# neighbor_table_df_explode = neighbor_table_df[neighbor_table_df[\"User\"]==96].explode([\"Nearest Neighbors\",\"Distances\"])"
   ]
  },
  {
   "cell_type": "markdown",
   "metadata": {},
   "source": [
    "## Model Evaluation"
   ]
  },
  {
   "cell_type": "code",
   "execution_count": 16,
   "metadata": {},
   "outputs": [],
   "source": [
    "def eval_k_kNN(userid1, userid2, relevant_items, x_train, y_train, x_test):\n",
    "    user_items1 = get_y_true(userid1, x_train, y_train)\n",
    "    user_items1_test = x_test[userid1][1]\n",
    "    user_items2 = get_y_true(userid2, x_train, y_train)\n",
    "    intersection = set(user_items1).intersection(set(user_items2))\n",
    "    prec = len(intersection) / relevant_items\n",
    "    precision = prec if prec <= 1 else 1 \n",
    "    recall = len(intersection) / len(set(user_items1))\n",
    "    hgr = 1 if user_items1_test in user_items2 else 0\n",
    "    return precision, recall, hgr\n",
    "    "
   ]
  },
  {
   "cell_type": "code",
   "execution_count": 17,
   "metadata": {},
   "outputs": [
    {
     "data": {
      "text/plain": [
       "array([[    0, 10918],\n",
       "       [    1,  9556],\n",
       "       [    2, 10978],\n",
       "       ...,\n",
       "       [ 1988,  8424],\n",
       "       [ 1989, 10918],\n",
       "       [ 1990, 10648]])"
      ]
     },
     "execution_count": 17,
     "metadata": {},
     "output_type": "execute_result"
    }
   ],
   "source": [
    "x_test"
   ]
  },
  {
   "cell_type": "code",
   "execution_count": 18,
   "metadata": {},
   "outputs": [
    {
     "data": {
      "text/plain": [
       "(0.1, 0.03125, 0)"
      ]
     },
     "execution_count": 18,
     "metadata": {},
     "output_type": "execute_result"
    }
   ],
   "source": [
    "eval_k_kNN(0, 997, 10, x_train, y_train, x_test)"
   ]
  },
  {
   "cell_type": "code",
   "execution_count": 19,
   "metadata": {},
   "outputs": [],
   "source": [
    "def avg_recall(row):\n",
    "    user_id_current = row[\"User\"]\n",
    "    # print(user_id_current)\n",
    "    precision_current = []\n",
    "    recall_current = []\n",
    "    hgr_current = []\n",
    "    for i, neigh in enumerate(row[\"Nearest Neighbors\"]):\n",
    "        # print(i)\n",
    "        # The computation should not be done for the same user\n",
    "        if i>0:\n",
    "            prec, recl, hgr = eval_k_kNN(user_id_current, neigh, 10, x_train, y_train, x_test)\n",
    "            precision_current.append(prec)\n",
    "            recall_current.append(recl)\n",
    "            hgr_current.append(hgr)\n",
    "    row[\"avg_precision\"] = np.mean(precision_current)\n",
    "    row[\"avg_recall\"] = np.mean(recall_current)\n",
    "    row[\"avg_hgr\"] = np.mean(hgr_current)\n",
    "    return row\n"
   ]
  },
  {
   "cell_type": "code",
   "execution_count": 20,
   "metadata": {},
   "outputs": [],
   "source": [
    "# neighbor_table_df[\"avg_precision\"] = np.NaN\n",
    "# neighbor_table_df[\"avg_recall\"] = np.NaN"
   ]
  },
  {
   "cell_type": "code",
   "execution_count": 21,
   "metadata": {},
   "outputs": [],
   "source": [
    "# neighbor_table_df_acc = neighbor_table_df.apply(avg_recall, axis=1)\n",
    "# neighbor_table_df_acc.head()"
   ]
  },
  {
   "cell_type": "code",
   "execution_count": 22,
   "metadata": {},
   "outputs": [],
   "source": [
    "def accuracy_model(df):\n",
    "    avg_prec_model = np.mean(df[\"avg_precision\"])\n",
    "    avg_recall_model = np.mean(df[\"avg_recall\"])\n",
    "    avg_hgr = np.mean(df[\"avg_hgr\"])\n",
    "    return avg_prec_model, avg_recall_model, avg_hgr\n",
    "\n",
    "# accuracy_model(neighbor_table_df_acc)"
   ]
  },
  {
   "cell_type": "code",
   "execution_count": 38,
   "metadata": {},
   "outputs": [
    {
     "name": "stdout",
     "output_type": "stream",
     "text": [
      "############ K = 2  ####################\n",
      "############ K = 3  ####################\n",
      "############ K = 4  ####################\n",
      "############ K = 5  ####################\n",
      "############ K = 6  ####################\n",
      "############ K = 7  ####################\n",
      "############ K = 8  ####################\n",
      "############ K = 9  ####################\n",
      "############ K = 10  ####################\n"
     ]
    }
   ],
   "source": [
    "precision_model = []\n",
    "recall_model = []\n",
    "hgr_model = []\n",
    "num_neighbours = 11\n",
    "\n",
    "for k in range(2,num_neighbours):\n",
    "    print(\"############ K =\", k, \" ####################\")\n",
    "    neighbor_table_df = knn_model(similarities, k, \"cosine\")\n",
    "    neighbor_table_df_acc = neighbor_table_df.apply(avg_recall, axis=1)\n",
    "    prec, rec, hgr = accuracy_model(neighbor_table_df_acc)\n",
    "    precision_model.append(prec)\n",
    "    recall_model.append(rec)\n",
    "    hgr_model.append(hgr)\n",
    " "
   ]
  },
  {
   "cell_type": "code",
   "execution_count": 39,
   "metadata": {},
   "outputs": [
    {
     "data": {
      "text/plain": [
       "[0.6709693621295832,\n",
       " 0.6553741838272223,\n",
       " 0.6406161058094763,\n",
       " 0.6290055248618784,\n",
       " 0.619337016574585,\n",
       " 0.6095345722417543,\n",
       " 0.6010619215039106,\n",
       " 0.5938159216474134,\n",
       " 0.5866789441375072]"
      ]
     },
     "execution_count": 39,
     "metadata": {},
     "output_type": "execute_result"
    }
   ],
   "source": [
    "precision_model"
   ]
  },
  {
   "cell_type": "code",
   "execution_count": 40,
   "metadata": {},
   "outputs": [
    {
     "data": {
      "text/plain": [
       "[0.22649739743703834,\n",
       " 0.21837685126889247,\n",
       " 0.2115423083236383,\n",
       " 0.20637772936783969,\n",
       " 0.20227999381823786,\n",
       " 0.1982046781911863,\n",
       " 0.19476489580959194,\n",
       " 0.19181463267003152,\n",
       " 0.18902243936322718]"
      ]
     },
     "execution_count": 40,
     "metadata": {},
     "output_type": "execute_result"
    }
   ],
   "source": [
    "recall_model"
   ]
  },
  {
   "cell_type": "code",
   "execution_count": 41,
   "metadata": {},
   "outputs": [
    {
     "data": {
      "text/plain": [
       "[0.05474635861376193,\n",
       " 0.05851330989452536,\n",
       " 0.05508119872760741,\n",
       " 0.05487192365645404,\n",
       " 0.05384229030637897,\n",
       " 0.05282102795914962,\n",
       " 0.05280906938365498,\n",
       " 0.05210949271722752,\n",
       " 0.05134215078966503]"
      ]
     },
     "execution_count": 41,
     "metadata": {},
     "output_type": "execute_result"
    }
   ],
   "source": [
    "hgr_model"
   ]
  },
  {
   "cell_type": "code",
   "execution_count": 42,
   "metadata": {},
   "outputs": [],
   "source": [
    "neighb = range(2,num_neighbours)"
   ]
  },
  {
   "cell_type": "code",
   "execution_count": 55,
   "metadata": {},
   "outputs": [
    {
     "data": {
      "image/png": "[encoded data removed]",
      "text/plain": [
       "<Figure size 432x288 with 1 Axes>"
      ]
     },
     "metadata": {
      "needs_background": "light"
     },
     "output_type": "display_data"
    }
   ],
   "source": [
    "plt.plot(neighb, precision_model, label=\"Avg Precision\")\n",
    "plt.scatter(neighb, precision_model)\n",
    "plt.plot(neighb, recall_model, label='Avg Recall')\n",
    "plt.scatter(neighb, recall_model)\n",
    "plt.title(\"k-NN Training Evaluation\")\n",
    "plt.xlabel(\"k neighbors\")\n",
    "plt.legend()\n",
    "plt.show()\n"
   ]
  },
  {
   "cell_type": "code",
   "execution_count": 29,
   "metadata": {},
   "outputs": [],
   "source": [
    "# plt.plot(neighb, recall_model, label='Avg Recall (Training Set)')\n",
    "# plt.legend()\n",
    "# plt.show()"
   ]
  },
  {
   "cell_type": "code",
   "execution_count": 54,
   "metadata": {},
   "outputs": [
    {
     "data": {
      "image/png": "[encoded data removed]",
      "text/plain": [
       "<Figure size 432x288 with 1 Axes>"
      ]
     },
     "metadata": {
      "needs_background": "light"
     },
     "output_type": "display_data"
    }
   ],
   "source": [
    "plt.plot(neighb, hgr_model, label=\"Hit Gain Ratio\", c=\"black\")\n",
    "plt.scatter(neighb, hgr_model, c=\"black\")\n",
    "plt.xlabel(\"k neighbors\")\n",
    "plt.legend()\n",
    "plt.title(\"k-NN Test Evaluation\")\n",
    "plt.show()"
   ]
  }
 ],
 "metadata": {
  "kernelspec": {
   "display_name": "Python 3 (ipykernel)",
   "language": "python",
   "name": "python3"
  },
  "language_info": {
   "codemirror_mode": {
    "name": "ipython",
    "version": 3
   },
   "file_extension": ".py",
   "mimetype": "text/x-python",
   "name": "python",
   "nbconvert_exporter": "python",
   "pygments_lexer": "ipython3",
   "version": "3.9.7"
  }
 },
 "nbformat": 4,
 "nbformat_minor": 2
}
