{
 "cells": [
  {
   "cell_type": "markdown",
   "metadata": {},
   "source": [
    "## 7. Popularity-based Model"
   ]
  },
  {
   "cell_type": "markdown",
   "metadata": {},
   "source": [
    "This is the baseline approach to compare other models. We will assign the most N popular games to each gamer and compute the Hit Gain Ratio"
   ]
  },
  {
   "cell_type": "code",
   "execution_count": 16,
   "metadata": {},
   "outputs": [],
   "source": [
    "import pandas as pd\n",
    "import numpy as np\n"
   ]
  },
  {
   "cell_type": "code",
   "execution_count": 17,
   "metadata": {},
   "outputs": [],
   "source": [
    "### All random states are assigned to 42 for reproducible results\n",
    "RANDOM_SEED = 42\n",
    "np.random.seed(RANDOM_SEED)\n"
   ]
  },
  {
   "cell_type": "markdown",
   "metadata": {},
   "source": [
    "### Sorting top-N Popularity"
   ]
  },
  {
   "cell_type": "markdown",
   "metadata": {},
   "source": [
    "Exploring columns to represent popularity of games"
   ]
  },
  {
   "cell_type": "code",
   "execution_count": 18,
   "metadata": {},
   "outputs": [
    {
     "name": "stdout",
     "output_type": "stream",
     "text": [
      "################  Recommendations (all data, positive recommendations only) ################\n",
      "Users: 12,636,209\n",
      "Games: 37,419\n",
      "Number of users 10,000\n",
      "First five users id [11203022 12827342 11719330  9553563 11051045]\n",
      "################  Recommendations (Sample) ################\n",
      "Minimum number of recommendations to be included in the sample: 20\n",
      "Number of randomly selected users: 10000\n",
      "Users: 9,688\n",
      "Games: 20,615\n",
      "################ User-Game Matrix ################\n",
      "Number of Rows: 9,689\n",
      "Numbeer of Columns: 20,616\n",
      "Number of stored values: 365,753\n"
     ]
    }
   ],
   "source": [
    "%run \"01.Recommendation_Loading.ipynb\""
   ]
  },
  {
   "cell_type": "code",
   "execution_count": 19,
   "metadata": {},
   "outputs": [
    {
     "data": {
      "text/html": [
       "<div>\n",
       "<style scoped>\n",
       "    .dataframe tbody tr th:only-of-type {\n",
       "        vertical-align: middle;\n",
       "    }\n",
       "\n",
       "    .dataframe tbody tr th {\n",
       "        vertical-align: top;\n",
       "    }\n",
       "\n",
       "    .dataframe thead th {\n",
       "        text-align: right;\n",
       "    }\n",
       "</style>\n",
       "<table border=\"1\" class=\"dataframe\">\n",
       "  <thead>\n",
       "    <tr style=\"text-align: right;\">\n",
       "      <th></th>\n",
       "      <th>app_id_categorical</th>\n",
       "      <th>sum</th>\n",
       "    </tr>\n",
       "  </thead>\n",
       "  <tbody>\n",
       "    <tr>\n",
       "      <th>0</th>\n",
       "      <td>2488</td>\n",
       "      <td>1221</td>\n",
       "    </tr>\n",
       "    <tr>\n",
       "      <th>1</th>\n",
       "      <td>22</td>\n",
       "      <td>1187</td>\n",
       "    </tr>\n",
       "    <tr>\n",
       "      <th>2</th>\n",
       "      <td>13742</td>\n",
       "      <td>1170</td>\n",
       "    </tr>\n",
       "    <tr>\n",
       "      <th>3</th>\n",
       "      <td>4318</td>\n",
       "      <td>1161</td>\n",
       "    </tr>\n",
       "    <tr>\n",
       "      <th>4</th>\n",
       "      <td>18</td>\n",
       "      <td>1161</td>\n",
       "    </tr>\n",
       "    <tr>\n",
       "      <th>5</th>\n",
       "      <td>20</td>\n",
       "      <td>1139</td>\n",
       "    </tr>\n",
       "    <tr>\n",
       "      <th>6</th>\n",
       "      <td>4426</td>\n",
       "      <td>1116</td>\n",
       "    </tr>\n",
       "    <tr>\n",
       "      <th>7</th>\n",
       "      <td>990</td>\n",
       "      <td>1097</td>\n",
       "    </tr>\n",
       "    <tr>\n",
       "      <th>8</th>\n",
       "      <td>4370</td>\n",
       "      <td>1045</td>\n",
       "    </tr>\n",
       "    <tr>\n",
       "      <th>9</th>\n",
       "      <td>9</td>\n",
       "      <td>1037</td>\n",
       "    </tr>\n",
       "  </tbody>\n",
       "</table>\n",
       "</div>"
      ],
      "text/plain": [
       "   app_id_categorical   sum\n",
       "0                2488  1221\n",
       "1                  22  1187\n",
       "2               13742  1170\n",
       "3                4318  1161\n",
       "4                  18  1161\n",
       "5                  20  1139\n",
       "6                4426  1116\n",
       "7                 990  1097\n",
       "8                4370  1045\n",
       "9                   9  1037"
      ]
     },
     "execution_count": 19,
     "metadata": {},
     "output_type": "execute_result"
    }
   ],
   "source": [
    "def get_popular_games(df, K_pop):\n",
    "    rec_pop = df.groupby(\"app_id_categorical\")\\\n",
    "                        .is_recommended.agg([\"sum\"])\\\n",
    "                        .sort_values(\"sum\", ascending=False)\\\n",
    "                        .reset_index()\\\n",
    "                        .head(K_pop)\\\n",
    "                        .loc[:,[\"app_id_categorical\", \"sum\"]]\n",
    "                        #.values\n",
    "    return rec_pop\n",
    "\n",
    "recommendations_pop = get_popular_games(recommendations, 10)\n",
    "recommendations_pop"
   ]
  },
  {
   "cell_type": "code",
   "execution_count": 20,
   "metadata": {},
   "outputs": [
    {
     "data": {
      "text/plain": [
       "0     2488\n",
       "1       22\n",
       "2    13742\n",
       "3     4318\n",
       "4       18\n",
       "Name: app_id_categorical, dtype: int16"
      ]
     },
     "execution_count": 20,
     "metadata": {},
     "output_type": "execute_result"
    }
   ],
   "source": [
    "games_top_pop = recommendations_pop.loc[:,\"app_id_categorical\"]\n",
    "games_top_pop.head()"
   ]
  },
  {
   "cell_type": "code",
   "execution_count": 21,
   "metadata": {},
   "outputs": [
    {
     "data": {
      "text/html": [
       "<div>\n",
       "<style scoped>\n",
       "    .dataframe tbody tr th:only-of-type {\n",
       "        vertical-align: middle;\n",
       "    }\n",
       "\n",
       "    .dataframe tbody tr th {\n",
       "        vertical-align: top;\n",
       "    }\n",
       "\n",
       "    .dataframe thead th {\n",
       "        text-align: right;\n",
       "    }\n",
       "</style>\n",
       "<table border=\"1\" class=\"dataframe\">\n",
       "  <thead>\n",
       "    <tr style=\"text-align: right;\">\n",
       "      <th></th>\n",
       "      <th>app_id</th>\n",
       "      <th>app_id_categorical</th>\n",
       "    </tr>\n",
       "  </thead>\n",
       "  <tbody>\n",
       "    <tr>\n",
       "      <th>0</th>\n",
       "      <td>203160</td>\n",
       "      <td>990</td>\n",
       "    </tr>\n",
       "    <tr>\n",
       "      <th>1</th>\n",
       "      <td>337340</td>\n",
       "      <td>3433</td>\n",
       "    </tr>\n",
       "    <tr>\n",
       "      <th>2</th>\n",
       "      <td>238320</td>\n",
       "      <td>1485</td>\n",
       "    </tr>\n",
       "    <tr>\n",
       "      <th>3</th>\n",
       "      <td>460920</td>\n",
       "      <td>6004</td>\n",
       "    </tr>\n",
       "    <tr>\n",
       "      <th>4</th>\n",
       "      <td>8870</td>\n",
       "      <td>213</td>\n",
       "    </tr>\n",
       "  </tbody>\n",
       "</table>\n",
       "</div>"
      ],
      "text/plain": [
       "   app_id  app_id_categorical\n",
       "0  203160                 990\n",
       "1  337340                3433\n",
       "2  238320                1485\n",
       "3  460920                6004\n",
       "4    8870                 213"
      ]
     },
     "execution_count": 21,
     "metadata": {},
     "output_type": "execute_result"
    }
   ],
   "source": [
    "games_idx = pd.read_csv('matrix/games_idx.csv')\n",
    "games_idx.head()\n"
   ]
  },
  {
   "cell_type": "code",
   "execution_count": 22,
   "metadata": {},
   "outputs": [
    {
     "data": {
      "text/html": [
       "<div>\n",
       "<style scoped>\n",
       "    .dataframe tbody tr th:only-of-type {\n",
       "        vertical-align: middle;\n",
       "    }\n",
       "\n",
       "    .dataframe tbody tr th {\n",
       "        vertical-align: top;\n",
       "    }\n",
       "\n",
       "    .dataframe thead th {\n",
       "        text-align: right;\n",
       "    }\n",
       "</style>\n",
       "<table border=\"1\" class=\"dataframe\">\n",
       "  <thead>\n",
       "    <tr style=\"text-align: right;\">\n",
       "      <th></th>\n",
       "      <th>app_id</th>\n",
       "      <th>app_id_categorical</th>\n",
       "    </tr>\n",
       "  </thead>\n",
       "  <tbody>\n",
       "    <tr>\n",
       "      <th>0</th>\n",
       "      <td>203160</td>\n",
       "      <td>990</td>\n",
       "    </tr>\n",
       "    <tr>\n",
       "      <th>62</th>\n",
       "      <td>620</td>\n",
       "      <td>22</td>\n",
       "    </tr>\n",
       "    <tr>\n",
       "      <th>109</th>\n",
       "      <td>292030</td>\n",
       "      <td>2488</td>\n",
       "    </tr>\n",
       "    <tr>\n",
       "      <th>112</th>\n",
       "      <td>374320</td>\n",
       "      <td>4318</td>\n",
       "    </tr>\n",
       "    <tr>\n",
       "      <th>116</th>\n",
       "      <td>550</td>\n",
       "      <td>20</td>\n",
       "    </tr>\n",
       "    <tr>\n",
       "      <th>122</th>\n",
       "      <td>377160</td>\n",
       "      <td>4370</td>\n",
       "    </tr>\n",
       "    <tr>\n",
       "      <th>158</th>\n",
       "      <td>220</td>\n",
       "      <td>9</td>\n",
       "    </tr>\n",
       "    <tr>\n",
       "      <th>165</th>\n",
       "      <td>1091500</td>\n",
       "      <td>13742</td>\n",
       "    </tr>\n",
       "    <tr>\n",
       "      <th>232</th>\n",
       "      <td>440</td>\n",
       "      <td>18</td>\n",
       "    </tr>\n",
       "    <tr>\n",
       "      <th>444</th>\n",
       "      <td>379720</td>\n",
       "      <td>4426</td>\n",
       "    </tr>\n",
       "  </tbody>\n",
       "</table>\n",
       "</div>"
      ],
      "text/plain": [
       "      app_id  app_id_categorical\n",
       "0     203160                 990\n",
       "62       620                  22\n",
       "109   292030                2488\n",
       "112   374320                4318\n",
       "116      550                  20\n",
       "122   377160                4370\n",
       "158      220                   9\n",
       "165  1091500               13742\n",
       "232      440                  18\n",
       "444   379720                4426"
      ]
     },
     "execution_count": 22,
     "metadata": {},
     "output_type": "execute_result"
    }
   ],
   "source": [
    "games_idx_pop = games_idx[games_idx[\"app_id_categorical\"].isin(games_top_pop)]\n",
    "games_idx_pop"
   ]
  },
  {
   "cell_type": "code",
   "execution_count": 23,
   "metadata": {},
   "outputs": [
    {
     "data": {
      "text/html": [
       "<div>\n",
       "<style scoped>\n",
       "    .dataframe tbody tr th:only-of-type {\n",
       "        vertical-align: middle;\n",
       "    }\n",
       "\n",
       "    .dataframe tbody tr th {\n",
       "        vertical-align: top;\n",
       "    }\n",
       "\n",
       "    .dataframe thead th {\n",
       "        text-align: right;\n",
       "    }\n",
       "</style>\n",
       "<table border=\"1\" class=\"dataframe\">\n",
       "  <thead>\n",
       "    <tr style=\"text-align: right;\">\n",
       "      <th></th>\n",
       "      <th>app_id</th>\n",
       "      <th>app_id_categorical</th>\n",
       "      <th>sum</th>\n",
       "    </tr>\n",
       "  </thead>\n",
       "  <tbody>\n",
       "    <tr>\n",
       "      <th>0</th>\n",
       "      <td>203160</td>\n",
       "      <td>990</td>\n",
       "      <td>1097</td>\n",
       "    </tr>\n",
       "    <tr>\n",
       "      <th>1</th>\n",
       "      <td>620</td>\n",
       "      <td>22</td>\n",
       "      <td>1187</td>\n",
       "    </tr>\n",
       "    <tr>\n",
       "      <th>2</th>\n",
       "      <td>292030</td>\n",
       "      <td>2488</td>\n",
       "      <td>1221</td>\n",
       "    </tr>\n",
       "    <tr>\n",
       "      <th>3</th>\n",
       "      <td>374320</td>\n",
       "      <td>4318</td>\n",
       "      <td>1161</td>\n",
       "    </tr>\n",
       "    <tr>\n",
       "      <th>4</th>\n",
       "      <td>550</td>\n",
       "      <td>20</td>\n",
       "      <td>1139</td>\n",
       "    </tr>\n",
       "    <tr>\n",
       "      <th>5</th>\n",
       "      <td>377160</td>\n",
       "      <td>4370</td>\n",
       "      <td>1045</td>\n",
       "    </tr>\n",
       "    <tr>\n",
       "      <th>6</th>\n",
       "      <td>220</td>\n",
       "      <td>9</td>\n",
       "      <td>1037</td>\n",
       "    </tr>\n",
       "    <tr>\n",
       "      <th>7</th>\n",
       "      <td>1091500</td>\n",
       "      <td>13742</td>\n",
       "      <td>1170</td>\n",
       "    </tr>\n",
       "    <tr>\n",
       "      <th>8</th>\n",
       "      <td>440</td>\n",
       "      <td>18</td>\n",
       "      <td>1161</td>\n",
       "    </tr>\n",
       "    <tr>\n",
       "      <th>9</th>\n",
       "      <td>379720</td>\n",
       "      <td>4426</td>\n",
       "      <td>1116</td>\n",
       "    </tr>\n",
       "  </tbody>\n",
       "</table>\n",
       "</div>"
      ],
      "text/plain": [
       "    app_id  app_id_categorical   sum\n",
       "0   203160                 990  1097\n",
       "1      620                  22  1187\n",
       "2   292030                2488  1221\n",
       "3   374320                4318  1161\n",
       "4      550                  20  1139\n",
       "5   377160                4370  1045\n",
       "6      220                   9  1037\n",
       "7  1091500               13742  1170\n",
       "8      440                  18  1161\n",
       "9   379720                4426  1116"
      ]
     },
     "execution_count": 23,
     "metadata": {},
     "output_type": "execute_result"
    }
   ],
   "source": [
    "games_idx_pop = pd.merge(games_idx_pop, recommendations_pop,\n",
    "                         left_on=\"app_id_categorical\",\n",
    "                         right_on=\"app_id_categorical\")\n",
    "games_idx_pop"
   ]
  },
  {
   "cell_type": "code",
   "execution_count": 24,
   "metadata": {},
   "outputs": [
    {
     "data": {
      "text/html": [
       "<div>\n",
       "<style scoped>\n",
       "    .dataframe tbody tr th:only-of-type {\n",
       "        vertical-align: middle;\n",
       "    }\n",
       "\n",
       "    .dataframe tbody tr th {\n",
       "        vertical-align: top;\n",
       "    }\n",
       "\n",
       "    .dataframe thead th {\n",
       "        text-align: right;\n",
       "    }\n",
       "</style>\n",
       "<table border=\"1\" class=\"dataframe\">\n",
       "  <thead>\n",
       "    <tr style=\"text-align: right;\">\n",
       "      <th></th>\n",
       "      <th>app_id</th>\n",
       "      <th>title</th>\n",
       "      <th>date_release</th>\n",
       "      <th>win</th>\n",
       "      <th>mac</th>\n",
       "      <th>linux</th>\n",
       "      <th>rating</th>\n",
       "      <th>positive_ratio</th>\n",
       "      <th>user_reviews</th>\n",
       "      <th>price_final</th>\n",
       "      <th>price_original</th>\n",
       "      <th>discount</th>\n",
       "      <th>steam_deck</th>\n",
       "    </tr>\n",
       "  </thead>\n",
       "  <tbody>\n",
       "    <tr>\n",
       "      <th>0</th>\n",
       "      <td>13500</td>\n",
       "      <td>Prince of Persia: Warrior Within™</td>\n",
       "      <td>2008-11-21</td>\n",
       "      <td>True</td>\n",
       "      <td>False</td>\n",
       "      <td>False</td>\n",
       "      <td>Very Positive</td>\n",
       "      <td>84</td>\n",
       "      <td>2199</td>\n",
       "      <td>10.0</td>\n",
       "      <td>10.0</td>\n",
       "      <td>0.0</td>\n",
       "      <td>True</td>\n",
       "    </tr>\n",
       "    <tr>\n",
       "      <th>1</th>\n",
       "      <td>22364</td>\n",
       "      <td>BRINK: Agents of Change</td>\n",
       "      <td>2011-08-03</td>\n",
       "      <td>True</td>\n",
       "      <td>False</td>\n",
       "      <td>False</td>\n",
       "      <td>Positive</td>\n",
       "      <td>85</td>\n",
       "      <td>21</td>\n",
       "      <td>3.0</td>\n",
       "      <td>3.0</td>\n",
       "      <td>0.0</td>\n",
       "      <td>True</td>\n",
       "    </tr>\n",
       "    <tr>\n",
       "      <th>2</th>\n",
       "      <td>113020</td>\n",
       "      <td>Monaco: What's Yours Is Mine</td>\n",
       "      <td>2013-04-24</td>\n",
       "      <td>True</td>\n",
       "      <td>True</td>\n",
       "      <td>True</td>\n",
       "      <td>Very Positive</td>\n",
       "      <td>92</td>\n",
       "      <td>3722</td>\n",
       "      <td>15.0</td>\n",
       "      <td>15.0</td>\n",
       "      <td>0.0</td>\n",
       "      <td>True</td>\n",
       "    </tr>\n",
       "    <tr>\n",
       "      <th>3</th>\n",
       "      <td>226560</td>\n",
       "      <td>Escape Dead Island</td>\n",
       "      <td>2014-11-18</td>\n",
       "      <td>True</td>\n",
       "      <td>False</td>\n",
       "      <td>False</td>\n",
       "      <td>Mixed</td>\n",
       "      <td>61</td>\n",
       "      <td>873</td>\n",
       "      <td>15.0</td>\n",
       "      <td>15.0</td>\n",
       "      <td>0.0</td>\n",
       "      <td>True</td>\n",
       "    </tr>\n",
       "    <tr>\n",
       "      <th>4</th>\n",
       "      <td>249050</td>\n",
       "      <td>Dungeon of the ENDLESS™</td>\n",
       "      <td>2014-10-27</td>\n",
       "      <td>True</td>\n",
       "      <td>True</td>\n",
       "      <td>False</td>\n",
       "      <td>Very Positive</td>\n",
       "      <td>88</td>\n",
       "      <td>8784</td>\n",
       "      <td>12.0</td>\n",
       "      <td>12.0</td>\n",
       "      <td>0.0</td>\n",
       "      <td>True</td>\n",
       "    </tr>\n",
       "  </tbody>\n",
       "</table>\n",
       "</div>"
      ],
      "text/plain": [
       "   app_id                              title date_release   win    mac  linux  \\\n",
       "0   13500  Prince of Persia: Warrior Within™   2008-11-21  True  False  False   \n",
       "1   22364            BRINK: Agents of Change   2011-08-03  True  False  False   \n",
       "2  113020       Monaco: What's Yours Is Mine   2013-04-24  True   True   True   \n",
       "3  226560                 Escape Dead Island   2014-11-18  True  False  False   \n",
       "4  249050            Dungeon of the ENDLESS™   2014-10-27  True   True  False   \n",
       "\n",
       "          rating  positive_ratio  user_reviews  price_final  price_original  \\\n",
       "0  Very Positive              84          2199         10.0            10.0   \n",
       "1       Positive              85            21          3.0             3.0   \n",
       "2  Very Positive              92          3722         15.0            15.0   \n",
       "3          Mixed              61           873         15.0            15.0   \n",
       "4  Very Positive              88          8784         12.0            12.0   \n",
       "\n",
       "   discount  steam_deck  \n",
       "0       0.0        True  \n",
       "1       0.0        True  \n",
       "2       0.0        True  \n",
       "3       0.0        True  \n",
       "4       0.0        True  "
      ]
     },
     "execution_count": 24,
     "metadata": {},
     "output_type": "execute_result"
    }
   ],
   "source": [
    "games = pd.read_csv(\"resources/games.csv\")\n",
    "games.head()"
   ]
  },
  {
   "cell_type": "markdown",
   "metadata": {},
   "source": [
    "Let's see the top K games by popularity"
   ]
  },
  {
   "cell_type": "code",
   "execution_count": 25,
   "metadata": {},
   "outputs": [
    {
     "data": {
      "text/html": [
       "<div>\n",
       "<style scoped>\n",
       "    .dataframe tbody tr th:only-of-type {\n",
       "        vertical-align: middle;\n",
       "    }\n",
       "\n",
       "    .dataframe tbody tr th {\n",
       "        vertical-align: top;\n",
       "    }\n",
       "\n",
       "    .dataframe thead th {\n",
       "        text-align: right;\n",
       "    }\n",
       "</style>\n",
       "<table border=\"1\" class=\"dataframe\">\n",
       "  <thead>\n",
       "    <tr style=\"text-align: right;\">\n",
       "      <th></th>\n",
       "      <th>app_id</th>\n",
       "      <th>app_id_categorical</th>\n",
       "      <th>sum</th>\n",
       "      <th>title</th>\n",
       "      <th>date_release</th>\n",
       "      <th>win</th>\n",
       "      <th>mac</th>\n",
       "      <th>linux</th>\n",
       "      <th>rating</th>\n",
       "      <th>positive_ratio</th>\n",
       "      <th>user_reviews</th>\n",
       "      <th>price_final</th>\n",
       "      <th>price_original</th>\n",
       "      <th>discount</th>\n",
       "      <th>steam_deck</th>\n",
       "    </tr>\n",
       "  </thead>\n",
       "  <tbody>\n",
       "    <tr>\n",
       "      <th>0</th>\n",
       "      <td>203160</td>\n",
       "      <td>990</td>\n",
       "      <td>1097</td>\n",
       "      <td>Tomb Raider</td>\n",
       "      <td>2013-03-04</td>\n",
       "      <td>True</td>\n",
       "      <td>True</td>\n",
       "      <td>True</td>\n",
       "      <td>Overwhelmingly Positive</td>\n",
       "      <td>96</td>\n",
       "      <td>136055</td>\n",
       "      <td>3.0</td>\n",
       "      <td>15.0</td>\n",
       "      <td>80.0</td>\n",
       "      <td>True</td>\n",
       "    </tr>\n",
       "    <tr>\n",
       "      <th>1</th>\n",
       "      <td>620</td>\n",
       "      <td>22</td>\n",
       "      <td>1187</td>\n",
       "      <td>Portal 2</td>\n",
       "      <td>2011-04-18</td>\n",
       "      <td>True</td>\n",
       "      <td>True</td>\n",
       "      <td>True</td>\n",
       "      <td>Overwhelmingly Positive</td>\n",
       "      <td>98</td>\n",
       "      <td>293053</td>\n",
       "      <td>10.0</td>\n",
       "      <td>0.0</td>\n",
       "      <td>0.0</td>\n",
       "      <td>True</td>\n",
       "    </tr>\n",
       "    <tr>\n",
       "      <th>2</th>\n",
       "      <td>292030</td>\n",
       "      <td>2488</td>\n",
       "      <td>1221</td>\n",
       "      <td>The Witcher® 3: Wild Hunt</td>\n",
       "      <td>2015-05-18</td>\n",
       "      <td>True</td>\n",
       "      <td>False</td>\n",
       "      <td>False</td>\n",
       "      <td>Overwhelmingly Positive</td>\n",
       "      <td>96</td>\n",
       "      <td>668455</td>\n",
       "      <td>40.0</td>\n",
       "      <td>0.0</td>\n",
       "      <td>0.0</td>\n",
       "      <td>True</td>\n",
       "    </tr>\n",
       "    <tr>\n",
       "      <th>3</th>\n",
       "      <td>374320</td>\n",
       "      <td>4318</td>\n",
       "      <td>1161</td>\n",
       "      <td>DARK SOULS™ III</td>\n",
       "      <td>2016-04-11</td>\n",
       "      <td>True</td>\n",
       "      <td>False</td>\n",
       "      <td>False</td>\n",
       "      <td>Very Positive</td>\n",
       "      <td>94</td>\n",
       "      <td>230407</td>\n",
       "      <td>30.0</td>\n",
       "      <td>0.0</td>\n",
       "      <td>0.0</td>\n",
       "      <td>True</td>\n",
       "    </tr>\n",
       "    <tr>\n",
       "      <th>4</th>\n",
       "      <td>550</td>\n",
       "      <td>20</td>\n",
       "      <td>1139</td>\n",
       "      <td>Left 4 Dead 2</td>\n",
       "      <td>2009-11-16</td>\n",
       "      <td>True</td>\n",
       "      <td>True</td>\n",
       "      <td>True</td>\n",
       "      <td>Overwhelmingly Positive</td>\n",
       "      <td>97</td>\n",
       "      <td>574470</td>\n",
       "      <td>10.0</td>\n",
       "      <td>0.0</td>\n",
       "      <td>0.0</td>\n",
       "      <td>True</td>\n",
       "    </tr>\n",
       "    <tr>\n",
       "      <th>5</th>\n",
       "      <td>377160</td>\n",
       "      <td>4370</td>\n",
       "      <td>1045</td>\n",
       "      <td>Fallout 4</td>\n",
       "      <td>2015-11-09</td>\n",
       "      <td>True</td>\n",
       "      <td>False</td>\n",
       "      <td>False</td>\n",
       "      <td>Very Positive</td>\n",
       "      <td>83</td>\n",
       "      <td>205094</td>\n",
       "      <td>20.0</td>\n",
       "      <td>0.0</td>\n",
       "      <td>0.0</td>\n",
       "      <td>True</td>\n",
       "    </tr>\n",
       "    <tr>\n",
       "      <th>6</th>\n",
       "      <td>220</td>\n",
       "      <td>9</td>\n",
       "      <td>1037</td>\n",
       "      <td>Half-Life 2</td>\n",
       "      <td>2007-10-10</td>\n",
       "      <td>True</td>\n",
       "      <td>True</td>\n",
       "      <td>True</td>\n",
       "      <td>Overwhelmingly Positive</td>\n",
       "      <td>97</td>\n",
       "      <td>122230</td>\n",
       "      <td>10.0</td>\n",
       "      <td>10.0</td>\n",
       "      <td>0.0</td>\n",
       "      <td>True</td>\n",
       "    </tr>\n",
       "    <tr>\n",
       "      <th>7</th>\n",
       "      <td>1091500</td>\n",
       "      <td>13742</td>\n",
       "      <td>1170</td>\n",
       "      <td>Cyberpunk 2077</td>\n",
       "      <td>2020-12-09</td>\n",
       "      <td>True</td>\n",
       "      <td>False</td>\n",
       "      <td>False</td>\n",
       "      <td>Very Positive</td>\n",
       "      <td>80</td>\n",
       "      <td>557051</td>\n",
       "      <td>60.0</td>\n",
       "      <td>0.0</td>\n",
       "      <td>0.0</td>\n",
       "      <td>True</td>\n",
       "    </tr>\n",
       "    <tr>\n",
       "      <th>8</th>\n",
       "      <td>440</td>\n",
       "      <td>18</td>\n",
       "      <td>1161</td>\n",
       "      <td>Team Fortress 2</td>\n",
       "      <td>2007-10-10</td>\n",
       "      <td>True</td>\n",
       "      <td>True</td>\n",
       "      <td>True</td>\n",
       "      <td>Very Positive</td>\n",
       "      <td>93</td>\n",
       "      <td>985819</td>\n",
       "      <td>0.0</td>\n",
       "      <td>0.0</td>\n",
       "      <td>0.0</td>\n",
       "      <td>True</td>\n",
       "    </tr>\n",
       "    <tr>\n",
       "      <th>9</th>\n",
       "      <td>379720</td>\n",
       "      <td>4426</td>\n",
       "      <td>1116</td>\n",
       "      <td>DOOM</td>\n",
       "      <td>2016-05-12</td>\n",
       "      <td>True</td>\n",
       "      <td>False</td>\n",
       "      <td>False</td>\n",
       "      <td>Overwhelmingly Positive</td>\n",
       "      <td>95</td>\n",
       "      <td>121343</td>\n",
       "      <td>20.0</td>\n",
       "      <td>0.0</td>\n",
       "      <td>0.0</td>\n",
       "      <td>True</td>\n",
       "    </tr>\n",
       "  </tbody>\n",
       "</table>\n",
       "</div>"
      ],
      "text/plain": [
       "    app_id  app_id_categorical   sum                      title date_release  \\\n",
       "0   203160                 990  1097                Tomb Raider   2013-03-04   \n",
       "1      620                  22  1187                   Portal 2   2011-04-18   \n",
       "2   292030                2488  1221  The Witcher® 3: Wild Hunt   2015-05-18   \n",
       "3   374320                4318  1161            DARK SOULS™ III   2016-04-11   \n",
       "4      550                  20  1139              Left 4 Dead 2   2009-11-16   \n",
       "5   377160                4370  1045                  Fallout 4   2015-11-09   \n",
       "6      220                   9  1037                Half-Life 2   2007-10-10   \n",
       "7  1091500               13742  1170             Cyberpunk 2077   2020-12-09   \n",
       "8      440                  18  1161            Team Fortress 2   2007-10-10   \n",
       "9   379720                4426  1116                       DOOM   2016-05-12   \n",
       "\n",
       "    win    mac  linux                   rating  positive_ratio  user_reviews  \\\n",
       "0  True   True   True  Overwhelmingly Positive              96        136055   \n",
       "1  True   True   True  Overwhelmingly Positive              98        293053   \n",
       "2  True  False  False  Overwhelmingly Positive              96        668455   \n",
       "3  True  False  False            Very Positive              94        230407   \n",
       "4  True   True   True  Overwhelmingly Positive              97        574470   \n",
       "5  True  False  False            Very Positive              83        205094   \n",
       "6  True   True   True  Overwhelmingly Positive              97        122230   \n",
       "7  True  False  False            Very Positive              80        557051   \n",
       "8  True   True   True            Very Positive              93        985819   \n",
       "9  True  False  False  Overwhelmingly Positive              95        121343   \n",
       "\n",
       "   price_final  price_original  discount  steam_deck  \n",
       "0          3.0            15.0      80.0        True  \n",
       "1         10.0             0.0       0.0        True  \n",
       "2         40.0             0.0       0.0        True  \n",
       "3         30.0             0.0       0.0        True  \n",
       "4         10.0             0.0       0.0        True  \n",
       "5         20.0             0.0       0.0        True  \n",
       "6         10.0            10.0       0.0        True  \n",
       "7         60.0             0.0       0.0        True  \n",
       "8          0.0             0.0       0.0        True  \n",
       "9         20.0             0.0       0.0        True  "
      ]
     },
     "execution_count": 25,
     "metadata": {},
     "output_type": "execute_result"
    }
   ],
   "source": [
    "pop_games_df = pd.merge(games_idx_pop,games, left_on=\"app_id\", right_on=\"app_id\")\n",
    "pop_games_df"
   ]
  },
  {
   "cell_type": "code",
   "execution_count": 26,
   "metadata": {},
   "outputs": [
    {
     "name": "stdout",
     "output_type": "stream",
     "text": [
      "Requirement already satisfied: tabulate in /opt/anaconda3/lib/python3.11/site-packages (0.9.0)\n"
     ]
    }
   ],
   "source": [
    "!pip install tabulate"
   ]
  },
  {
   "cell_type": "code",
   "execution_count": 27,
   "metadata": {},
   "outputs": [
    {
     "data": {
      "text/plain": [
       "{}"
      ]
     },
     "execution_count": 27,
     "metadata": {},
     "output_type": "execute_result"
    }
   ],
   "source": [
    "{}"
   ]
  },
  {
   "cell_type": "code",
   "execution_count": 28,
   "metadata": {
    "scrolled": true
   },
   "outputs": [
    {
     "name": "stdout",
     "output_type": "stream",
     "text": [
      "|    | Game                      |   # reviews |\n",
      "|---:|:--------------------------|------------:|\n",
      "|  0 | The Witcher® 3: Wild Hunt |        1221 |\n",
      "|  1 | Portal 2                  |        1187 |\n",
      "|  2 | Cyberpunk 2077            |        1170 |\n",
      "|  3 | DARK SOULS™ III           |        1161 |\n",
      "|  4 | Team Fortress 2           |        1161 |\n",
      "|  5 | Left 4 Dead 2             |        1139 |\n",
      "|  6 | DOOM                      |        1116 |\n",
      "|  7 | Tomb Raider               |        1097 |\n",
      "|  8 | Fallout 4                 |        1045 |\n",
      "|  9 | Half-Life 2               |        1037 |\n"
     ]
    }
   ],
   "source": [
    "print(pop_games_df[[\"title\",\"sum\"]].sort_values(\"sum\", ascending=False).rename({\"title\":\"Game\", \"sum\":\"# reviews\"}, axis=1).reset_index(drop=True).to_markdown())"
   ]
  },
  {
   "cell_type": "markdown",
   "metadata": {},
   "source": [
    "|    | Game                      |   # reviews |\n",
    "|---:|:--------------------------|------------:|\n",
    "|  0 | The Witcher® 3: Wild Hunt |        1221 |\n",
    "|  1 | Portal 2                  |        1187 |\n",
    "|  2 | Cyberpunk 2077            |        1170 |\n",
    "|  3 | DARK SOULS™ III           |        1161 |\n",
    "|  4 | Team Fortress 2           |        1161 |\n",
    "|  5 | Left 4 Dead 2             |        1139 |\n",
    "|  6 | DOOM                      |        1116 |\n",
    "|  7 | Tomb Raider               |        1097 |\n",
    "|  8 | Fallout 4                 |        1045 |\n",
    "|  9 | Half-Life 2               |        1037 |"
   ]
  },
  {
   "cell_type": "markdown",
   "metadata": {},
   "source": [
    "Define game popularity as the highest number of recommended reviews:"
   ]
  },
  {
   "cell_type": "code",
   "execution_count": 29,
   "metadata": {},
   "outputs": [
    {
     "name": "stdout",
     "output_type": "stream",
     "text": [
      "################  Get Test Data ################\n"
     ]
    },
    {
     "name": "stderr",
     "output_type": "stream",
     "text": [
      "/var/folders/h5/_4d00bcd69b71883jm4jldn40000gn/T/ipykernel_24920/520038405.py:7: FutureWarning: The provided callable <function nanmax at 0x1069cf380> is currently using SeriesGroupBy.max. In a future version of pandas, the provided callable will be used directly. To keep current behavior pass the string \"max\" instead.\n",
      "  max_df = df.groupby(\"user_id_categorical\").agg({\"date\": np.nanmax}).reset_index()\n",
      "/var/folders/h5/_4d00bcd69b71883jm4jldn40000gn/T/ipykernel_24920/520038405.py:9: FutureWarning: The provided callable <function nanmax at 0x1069cf380> is currently using SeriesGroupBy.max. In a future version of pandas, the provided callable will be used directly. To keep current behavior pass the string \"max\" instead.\n",
      "  rec_df = df.groupby(\"user_id_categorical\").agg({\"app_id_categorical\": np.nanmax}).reset_index()\n"
     ]
    },
    {
     "name": "stdout",
     "output_type": "stream",
     "text": [
      "x_test.shape: (9688, 2)\n",
      "y_test.shape: (9688, 1)\n",
      "Number of Users: 9,689\n",
      "Number of Games: 20,616\n",
      "Number of Negatives Sample per User-Game: 2\n",
      "################  Get Training Data ################\n",
      "x_train.shape: (1094928, 2)\n",
      "y_train.shape: (1094928, 2)\n"
     ]
    }
   ],
   "source": [
    "%run \"Get_Training_and_Test_Instances.ipynb\""
   ]
  },
  {
   "cell_type": "code",
   "execution_count": 30,
   "metadata": {
    "scrolled": true
   },
   "outputs": [
    {
     "data": {
      "text/plain": [
       "array([ 2488,    22, 13742,  4318,    18,    20,  4426,   990,  4370,\n",
       "           9], dtype=int16)"
      ]
     },
     "execution_count": 30,
     "metadata": {},
     "output_type": "execute_result"
    }
   ],
   "source": [
    "games_top_pop_values = games_top_pop.values\n",
    "games_top_pop_values"
   ]
  },
  {
   "cell_type": "code",
   "execution_count": 31,
   "metadata": {},
   "outputs": [
    {
     "data": {
      "text/plain": [
       "0.004644921552436003"
      ]
     },
     "execution_count": 31,
     "metadata": {},
     "output_type": "execute_result"
    }
   ],
   "source": [
    "eval_hit_ratio_pop(games_top_pop_values, x_test)"
   ]
  },
  {
   "cell_type": "code",
   "execution_count": 32,
   "metadata": {},
   "outputs": [
    {
     "name": "stdout",
     "output_type": "stream",
     "text": [
      "Top @ 0 popular games, Hit Gain Ratio 0.0000%\n",
      "Top @ 1 popular games, Hit Gain Ratio 0.0000%\n",
      "Top @ 2 popular games, Hit Gain Ratio 0.0000%\n",
      "Top @ 3 popular games, Hit Gain Ratio 0.4232%\n",
      "Top @ 4 popular games, Hit Gain Ratio 0.4232%\n",
      "Top @ 5 popular games, Hit Gain Ratio 0.4232%\n",
      "Top @ 6 popular games, Hit Gain Ratio 0.4232%\n",
      "Top @ 7 popular games, Hit Gain Ratio 0.4232%\n",
      "Top @ 8 popular games, Hit Gain Ratio 0.4232%\n",
      "Top @ 9 popular games, Hit Gain Ratio 0.4645%\n",
      "Top @ 10 popular games, Hit Gain Ratio 0.4645%\n",
      "Top @ 11 popular games, Hit Gain Ratio 0.4748%\n",
      "Top @ 12 popular games, Hit Gain Ratio 0.4748%\n",
      "Top @ 13 popular games, Hit Gain Ratio 0.4748%\n",
      "Top @ 14 popular games, Hit Gain Ratio 0.4748%\n",
      "Top @ 15 popular games, Hit Gain Ratio 0.4748%\n",
      "Top @ 16 popular games, Hit Gain Ratio 0.4748%\n",
      "Top @ 17 popular games, Hit Gain Ratio 0.5058%\n",
      "Top @ 18 popular games, Hit Gain Ratio 0.5884%\n",
      "Top @ 19 popular games, Hit Gain Ratio 1.1870%\n",
      "Top @ 20 popular games, Hit Gain Ratio 1.1870%\n",
      "Top @ 21 popular games, Hit Gain Ratio 1.5793%\n",
      "Top @ 22 popular games, Hit Gain Ratio 1.5793%\n",
      "Top @ 23 popular games, Hit Gain Ratio 1.5793%\n",
      "Top @ 24 popular games, Hit Gain Ratio 1.5793%\n",
      "Top @ 25 popular games, Hit Gain Ratio 1.5793%\n",
      "Top @ 26 popular games, Hit Gain Ratio 1.5793%\n",
      "Top @ 27 popular games, Hit Gain Ratio 1.5793%\n",
      "Top @ 28 popular games, Hit Gain Ratio 1.5793%\n",
      "Top @ 29 popular games, Hit Gain Ratio 1.5793%\n",
      "Top @ 30 popular games, Hit Gain Ratio 1.5793%\n",
      "Top @ 31 popular games, Hit Gain Ratio 1.5793%\n",
      "Top @ 32 popular games, Hit Gain Ratio 1.5896%\n",
      "Top @ 33 popular games, Hit Gain Ratio 1.6309%\n",
      "Top @ 34 popular games, Hit Gain Ratio 1.6928%\n",
      "Top @ 35 popular games, Hit Gain Ratio 1.9405%\n",
      "Top @ 36 popular games, Hit Gain Ratio 1.9612%\n",
      "Top @ 37 popular games, Hit Gain Ratio 1.9612%\n",
      "Top @ 38 popular games, Hit Gain Ratio 1.9715%\n",
      "Top @ 39 popular games, Hit Gain Ratio 1.9715%\n",
      "Top @ 40 popular games, Hit Gain Ratio 1.9715%\n",
      "Top @ 41 popular games, Hit Gain Ratio 2.1470%\n",
      "Top @ 42 popular games, Hit Gain Ratio 2.1676%\n",
      "Top @ 43 popular games, Hit Gain Ratio 2.1780%\n",
      "Top @ 44 popular games, Hit Gain Ratio 2.1780%\n",
      "Top @ 45 popular games, Hit Gain Ratio 2.1780%\n",
      "Top @ 46 popular games, Hit Gain Ratio 2.1780%\n",
      "Top @ 47 popular games, Hit Gain Ratio 2.2605%\n",
      "Top @ 48 popular games, Hit Gain Ratio 2.3018%\n",
      "Top @ 49 popular games, Hit Gain Ratio 2.3018%\n"
     ]
    }
   ],
   "source": [
    "hgr_pop_list = []\n",
    "for k in range(50):\n",
    "    recommendations_pop = get_popular_games(recommendations, k)\n",
    "    games_top_pop_values = recommendations_pop.loc[:,\"app_id_categorical\"].values\n",
    "    hgr_pop = eval_hit_ratio_pop(games_top_pop_values, x_test)\n",
    "    hgr_pop_list.append(hgr_pop)\n",
    "    print(\"Top @\", k, \"popular games,\", \"Hit Gain Ratio\", '{0:.4%}'.format(hgr_pop))\n",
    "    "
   ]
  },
  {
   "cell_type": "code",
   "execution_count": 33,
   "metadata": {},
   "outputs": [
    {
     "data": {
      "image/png": "[encoded data removed]",
      "text/plain": [
       "<Figure size 640x480 with 1 Axes>"
      ]
     },
     "metadata": {},
     "output_type": "display_data"
    }
   ],
   "source": [
    "plt.plot(hgr_pop_list, label=\"Hit Gain Ratio\")\n",
    "plt.title(\"Popularity-based Model\")\n",
    "plt.xlabel(\"Top @K popular games\")\n",
    "plt.ylabel(\"HGR\")\n",
    "plt.legend()\n",
    "plt.show()"
   ]
  },
  {
   "cell_type": "markdown",
   "metadata": {},
   "source": [
    "# "
   ]
  }
 ],
 "metadata": {
  "kernelspec": {
   "display_name": "Python 3 (ipykernel)",
   "language": "python",
   "name": "python3"
  },
  "language_info": {
   "codemirror_mode": {
    "name": "ipython",
    "version": 3
   },
   "file_extension": ".py",
   "mimetype": "text/x-python",
   "name": "python",
   "nbconvert_exporter": "python",
   "pygments_lexer": "ipython3",
   "version": "3.11.7"
  }
 },
 "nbformat": 4,
 "nbformat_minor": 2
}
