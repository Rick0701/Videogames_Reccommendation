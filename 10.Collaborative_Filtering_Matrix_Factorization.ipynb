{
 "cells": [
  {
   "cell_type": "markdown",
   "metadata": {},
   "source": [
    "# 10. Collaborative Filtering - Matrix Factorization"
   ]
  },
  {
   "cell_type": "code",
   "execution_count": 10,
   "metadata": {},
   "outputs": [],
   "source": [
    "import numpy as np\n",
    "from scipy.sparse import csr_matrix\n",
    "from sklearn.metrics import mean_squared_error\n",
    "from sklearn.decomposition import TruncatedSVD\n",
    "from scipy.sparse.linalg import svds"
   ]
  },
  {
   "cell_type": "code",
   "execution_count": 25,
   "metadata": {},
   "outputs": [],
   "source": [
    "np.set_printoptions(suppress=True)"
   ]
  },
  {
   "cell_type": "code",
   "execution_count": 2,
   "metadata": {},
   "outputs": [
    {
     "name": "stdout",
     "output_type": "stream",
     "text": [
      "################  Recommendations (all data, positive recommendations only) ################\n",
      "Users: 12,636,209\n",
      "Games: 37,419\n",
      "Number of users 10,000\n",
      "First five users id [11203022 12827342 11719330  9553563 11051045]\n",
      "################  Recommendations (Sample) ################\n",
      "Minimum number of recommendations to included in the sample: 20\n",
      "Number of randomly selected users: 10000\n",
      "Users: 9,688\n",
      "Games: 20,615\n",
      "################ User-Game Matrix ################\n",
      "Number of Rows: 9,689\n",
      "Numbeer of Columns: 20,616\n",
      "Number of stored values: 365,753\n"
     ]
    }
   ],
   "source": [
    "%run \"01.Recommendation_Loading.ipynb\""
   ]
  },
  {
   "cell_type": "code",
   "execution_count": 69,
   "metadata": {},
   "outputs": [],
   "source": [
    "NUMBER_OF_FACTORS = 100"
   ]
  },
  {
   "cell_type": "code",
   "execution_count": 70,
   "metadata": {},
   "outputs": [],
   "source": [
    "user_game_matrix = user_game_matrix.astype(\"float\")"
   ]
  },
  {
   "cell_type": "code",
   "execution_count": 71,
   "metadata": {},
   "outputs": [
    {
     "data": {
      "text/plain": [
       "<9689x20616 sparse matrix of type '<class 'numpy.float64'>'\n",
       "\twith 365753 stored elements in Dictionary Of Keys format>"
      ]
     },
     "execution_count": 71,
     "metadata": {},
     "output_type": "execute_result"
    }
   ],
   "source": [
    "user_game_matrix"
   ]
  },
  {
   "cell_type": "code",
   "execution_count": 72,
   "metadata": {},
   "outputs": [],
   "source": [
    "U, sigma, Vt = svds(user_game_matrix, k = NUMBER_OF_FACTORS)"
   ]
  },
  {
   "cell_type": "code",
   "execution_count": 73,
   "metadata": {},
   "outputs": [
    {
     "data": {
      "text/plain": [
       "(9689, 100)"
      ]
     },
     "execution_count": 73,
     "metadata": {},
     "output_type": "execute_result"
    }
   ],
   "source": [
    "U.shape"
   ]
  },
  {
   "cell_type": "code",
   "execution_count": 74,
   "metadata": {},
   "outputs": [
    {
     "data": {
      "text/plain": [
       "(100, 20616)"
      ]
     },
     "execution_count": 74,
     "metadata": {},
     "output_type": "execute_result"
    }
   ],
   "source": [
    "Vt.shape"
   ]
  },
  {
   "cell_type": "code",
   "execution_count": 75,
   "metadata": {},
   "outputs": [
    {
     "data": {
      "text/plain": [
       "(100, 100)"
      ]
     },
     "execution_count": 75,
     "metadata": {},
     "output_type": "execute_result"
    }
   ],
   "source": [
    "sigma = np.diag(sigma)\n",
    "sigma.shape"
   ]
  },
  {
   "cell_type": "markdown",
   "metadata": {},
   "source": [
    "Let's reconstruct the original matrix by multiplying its factors. The resulting matrix is not sparse anymore"
   ]
  },
  {
   "cell_type": "code",
   "execution_count": 76,
   "metadata": {},
   "outputs": [],
   "source": [
    "all_user_predicted_rating = np.dot(np.dot(U, sigma), Vt)"
   ]
  },
  {
   "cell_type": "code",
   "execution_count": 77,
   "metadata": {},
   "outputs": [
    {
     "data": {
      "text/plain": [
       "array([[ 0.26476862,  0.13575434,  0.15843898, ..., -0.00495697,\n",
       "         0.00044043,  0.        ],\n",
       "       [ 0.04590524,  0.02980932,  0.02213353, ...,  0.00032821,\n",
       "         0.00001036,  0.        ],\n",
       "       [-0.02146728,  0.03849372,  0.01747572, ...,  0.0001989 ,\n",
       "        -0.0000167 ,  0.        ],\n",
       "       ...,\n",
       "       [-0.10411044, -0.00696651, -0.00416716, ..., -0.00082547,\n",
       "         0.0000398 ,  0.        ],\n",
       "       [ 0.01923727, -0.00401907,  0.00460032, ...,  0.00087787,\n",
       "        -0.00009203,  0.        ],\n",
       "       [ 0.        , -0.        , -0.        , ..., -0.        ,\n",
       "        -0.        ,  0.        ]])"
      ]
     },
     "execution_count": 77,
     "metadata": {},
     "output_type": "execute_result"
    }
   ],
   "source": [
    "all_user_predicted_rating"
   ]
  },
  {
   "cell_type": "code",
   "execution_count": 78,
   "metadata": {},
   "outputs": [
    {
     "data": {
      "text/plain": [
       "(9689, 20616)"
      ]
     },
     "execution_count": 78,
     "metadata": {},
     "output_type": "execute_result"
    }
   ],
   "source": [
    "all_user_predicted_rating.shape"
   ]
  },
  {
   "cell_type": "code",
   "execution_count": 79,
   "metadata": {},
   "outputs": [],
   "source": [
    "all_user_predicted_rating_norms = (all_user_predicted_rating - all_user_predicted_rating.min()) / (all_user_predicted_rating.max() - all_user_predicted_rating.min())"
   ]
  },
  {
   "cell_type": "code",
   "execution_count": 80,
   "metadata": {},
   "outputs": [
    {
     "data": {
      "text/plain": [
       "array([[0.49445361, 0.46477366, 0.4699923 , ..., 0.4324028 , 0.43364448,\n",
       "        0.43354316],\n",
       "       [0.44410373, 0.44040084, 0.43863501, ..., 0.43361866, 0.43354554,\n",
       "        0.43354316],\n",
       "       [0.42860457, 0.4423987 , 0.43756347, ..., 0.43358891, 0.43353931,\n",
       "        0.43354316],\n",
       "       ...,\n",
       "       [0.40959238, 0.4319405 , 0.43258449, ..., 0.43335325, 0.43355231,\n",
       "        0.43354316],\n",
       "       [0.43796872, 0.43261856, 0.43460147, ..., 0.43374511, 0.43352198,\n",
       "        0.43354316],\n",
       "       [0.43354316, 0.43354316, 0.43354316, ..., 0.43354316, 0.43354316,\n",
       "        0.43354316]])"
      ]
     },
     "execution_count": 80,
     "metadata": {},
     "output_type": "execute_result"
    }
   ],
   "source": [
    "all_user_predicted_rating_norms"
   ]
  },
  {
   "cell_type": "code",
   "execution_count": 81,
   "metadata": {},
   "outputs": [
    {
     "name": "stdout",
     "output_type": "stream",
     "text": [
      "################  Get Test Data ################\n",
      "x_test.shape: (9688, 2)\n",
      "y_test.shape: (9688, 1)\n",
      "Number of Users: 9,689\n",
      "Number of Games: 20,616\n",
      "Number of Negatives Sample per User-Game: 2\n",
      "################  Get Training Data ################\n",
      "x_train.shape: (1094959, 2)\n",
      "y_train.shape: (1094959, 2)\n"
     ]
    }
   ],
   "source": [
    "%run \"Get_Training_and_Test_Instances.ipynb\""
   ]
  },
  {
   "cell_type": "code",
   "execution_count": 82,
   "metadata": {},
   "outputs": [],
   "source": [
    "def eval_hit_ratio_SVD(n_users2val, K, x_test):\n",
    "    counter = 0\n",
    "    choosen_user = np.random.choice(x_test[:,0], size = n_users2val)\n",
    "    for user_game in x_test[choosen_user,:]:\n",
    "        # print(user_game[0])\n",
    "        y_pred = np.argsort(-all_user_predicted_rating_norms[user_game[0],:][:K])\n",
    "        # print(y_pred)\n",
    "        if(user_game[1] in y_pred):\n",
    "            counter += 1\n",
    "    return counter / n_users2val"
   ]
  },
  {
   "cell_type": "code",
   "execution_count": 58,
   "metadata": {},
   "outputs": [
    {
     "data": {
      "text/plain": [
       "array([ 3067,   103,     9, ...,   120,  4426, 12226])"
      ]
     },
     "execution_count": 58,
     "metadata": {},
     "output_type": "execute_result"
    }
   ],
   "source": [
    "np.argsort(-all_user_predicted_rating_norms[0,:])  "
   ]
  },
  {
   "cell_type": "code",
   "execution_count": 83,
   "metadata": {},
   "outputs": [
    {
     "data": {
      "text/plain": [
       "0.051"
      ]
     },
     "execution_count": 83,
     "metadata": {},
     "output_type": "execute_result"
    }
   ],
   "source": [
    "eval_hit_ratio_SVD(1000, 10000, x_test)"
   ]
  },
  {
   "cell_type": "code",
   "execution_count": null,
   "metadata": {},
   "outputs": [],
   "source": [
    "sorted_indices = np.argsort(-user_games_preds[:, -1])"
   ]
  },
  {
   "cell_type": "code",
   "execution_count": null,
   "metadata": {},
   "outputs": [],
   "source": []
  },
  {
   "cell_type": "code",
   "execution_count": null,
   "metadata": {},
   "outputs": [],
   "source": []
  },
  {
   "cell_type": "code",
   "execution_count": null,
   "metadata": {},
   "outputs": [],
   "source": []
  },
  {
   "cell_type": "code",
   "execution_count": null,
   "metadata": {},
   "outputs": [],
   "source": []
  }
 ],
 "metadata": {
  "kernelspec": {
   "display_name": "Python 3 (ipykernel)",
   "language": "python",
   "name": "python3"
  },
  "language_info": {
   "codemirror_mode": {
    "name": "ipython",
    "version": 3
   },
   "file_extension": ".py",
   "mimetype": "text/x-python",
   "name": "python",
   "nbconvert_exporter": "python",
   "pygments_lexer": "ipython3",
   "version": "3.9.7"
  }
 },
 "nbformat": 4,
 "nbformat_minor": 2
}
