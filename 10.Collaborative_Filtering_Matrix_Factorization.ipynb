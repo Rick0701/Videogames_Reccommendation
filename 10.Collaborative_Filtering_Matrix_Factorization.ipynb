{
 "cells": [
  {
   "cell_type": "markdown",
   "metadata": {},
   "source": [
    "# 10. Collaborative Filtering - Matrix Factorization"
   ]
  },
  {
   "cell_type": "code",
   "execution_count": 3,
   "metadata": {},
   "outputs": [
    {
     "name": "stderr",
     "output_type": "stream",
     "text": [
      "/var/folders/zt/3tyx89hj6gnf_t8m4vc8mfwm0000gn/T/ipykernel_57139/2749845937.py:9: DtypeWarning: Columns (0,1,2,4,5,6,7) have mixed types. Specify dtype option on import or set low_memory=False.\n",
      "  chunk_df = pd.read_csv(file_path, header=None, skiprows=skiprow)\n"
     ]
    }
   ],
   "source": [
    "%run \"1.Recommendation_Loading.ipynb\""
   ]
  },
  {
   "cell_type": "code",
   "execution_count": 4,
   "metadata": {},
   "outputs": [],
   "source": [
    "import scipy as sp"
   ]
  },
  {
   "cell_type": "code",
   "execution_count": 5,
   "metadata": {},
   "outputs": [],
   "source": [
    "recommendations[\"date\"] = pd.to_datetime(recommendations[\"date\"])"
   ]
  },
  {
   "cell_type": "markdown",
   "metadata": {},
   "source": [
    "## Data Preparation"
   ]
  },
  {
   "cell_type": "markdown",
   "metadata": {},
   "source": [
    "### Filtering For Users and Games"
   ]
  },
  {
   "cell_type": "code",
   "execution_count": 6,
   "metadata": {},
   "outputs": [
    {
     "name": "stdout",
     "output_type": "stream",
     "text": [
      "Number of users 5,000\n",
      "First five users id [11343657  2977524  2145654 10764314  6764024]\n"
     ]
    }
   ],
   "source": [
    "def users_at_least_k_recs(df, K, n_users):\n",
    "    \"\"\"\n",
    "    Return a list of users who perform at least K recommendations. Also, filtering for n_users randomòy selected\n",
    "    Args::\n",
    "        df: dataframe, recommendation dataset\n",
    "        K: integer, representing the minimum number of recommendations for a user to be included in the final list\n",
    "        n_users: integer, number of randomly selected users\n",
    "    Return:\n",
    "        users: a list of randomly selected users who perform at least K recommendations\n",
    "    \"\"\"\n",
    "    series = df.groupby(\"user_id_categorical\")[\"user_id_categorical\"].count()>=K\n",
    "    series1 = series[series]\n",
    "    users = list(series1.index)\n",
    "    return np.random.choice(users, size = n_users)\n",
    "\n",
    "users_to_keep = users_at_least_k_recs(recommendations, 20, 5000)\n",
    "print(\"Number of users\",  '{0:,.0f}'.format(len(users_to_keep)))\n",
    "print(\"First five users id\", users_to_keep[:5])\n"
   ]
  },
  {
   "cell_type": "markdown",
   "metadata": {},
   "source": [
    "### Loading the matrix and Apply Filtering"
   ]
  },
  {
   "cell_type": "code",
   "execution_count": 8,
   "metadata": {},
   "outputs": [
    {
     "name": "stderr",
     "output_type": "stream",
     "text": [
      "/var/folders/zt/3tyx89hj6gnf_t8m4vc8mfwm0000gn/T/ipykernel_57139/4252727310.py:7: DeprecationWarning: Please use `csc_matrix` from the `scipy.sparse` namespace, the `scipy.sparse.csc` namespace is deprecated.\n",
      "  user_game_matrix = pickle.load(file)\n"
     ]
    },
    {
     "name": "stdout",
     "output_type": "stream",
     "text": [
      "Number of Rows: 12,663,134\n",
      "Numbeer of Columns: 37,420\n",
      "Number of stored values: 47,967,516\n"
     ]
    }
   ],
   "source": [
    "# LOADING THE MATRIX\n",
    "# Due to the large memory requirements, the user-game matrix has been created in the notebook \"User-Games Matrix - Building\"\n",
    "import gzip\n",
    "import pickle\n",
    "\n",
    "with open(\"matrix/user_game_matrix.pkl\", 'rb') as file:\n",
    "    user_game_matrix = pickle.load(file)\n",
    "\n",
    "# Convert this array/matrix to Dictionary Of Keys format\n",
    "# user_game_matrix = user_game_matrix.todok()\n",
    "print(\"Number of Rows:\", '{0:,.0f}'.format(user_game_matrix.shape[0]))\n",
    "print(\"Numbeer of Columns:\", '{0:,.0f}'.format(user_game_matrix.shape[1]))\n",
    "print(\"Number of stored values:\", '{0:,.0f}'.format(user_game_matrix.size))\n"
   ]
  },
  {
   "cell_type": "code",
   "execution_count": 9,
   "metadata": {},
   "outputs": [
    {
     "name": "stdout",
     "output_type": "stream",
     "text": [
      "Number of Rows: 4,911\n",
      "Numbeer of Columns: 37,420\n",
      "Number of stored values: 19,823\n"
     ]
    },
    {
     "data": {
      "text/plain": [
       "<4911x37420 sparse matrix of type '<class 'numpy.int32'>'\n",
       "\twith 19823 stored elements in Compressed Sparse Column format>"
      ]
     },
     "execution_count": 9,
     "metadata": {},
     "output_type": "execute_result"
    }
   ],
   "source": [
    "# FILTERING the MATRIX for USERS to KEEP\n",
    "# Matrix with only the subset of users who did at least k recs\n",
    "mask = np.isin(np.array(user_game_matrix[:,0].todense()).reshape(-1), users_to_keep)\n",
    "user_game_matrix_k_rec = user_game_matrix[mask]\n",
    "print(\"Number of Rows:\", '{0:,.0f}'.format(user_game_matrix_k_rec.shape[0]))\n",
    "print(\"Numbeer of Columns:\", '{0:,.0f}'.format(user_game_matrix_k_rec.shape[1]))\n",
    "print(\"Number of stored values:\", '{0:,.0f}'.format(user_game_matrix_k_rec.size))\n",
    "user_game_matrix_k_rec"
   ]
  },
  {
   "cell_type": "code",
   "execution_count": 10,
   "metadata": {},
   "outputs": [
    {
     "data": {
      "text/plain": [
       "matrix([[       0,        1,        2, ...,    37417,    37418,    37419],\n",
       "        [    1753,        0,        0, ...,        0,        0,        0],\n",
       "        [    1768,        0,        0, ...,        0,        0,        0],\n",
       "        ...,\n",
       "        [12609922,        0,        0, ...,        0,        0,        0],\n",
       "        [12627813,        0,        0, ...,        0,        0,        0],\n",
       "        [12637580,        0,        0, ...,        0,        0,        0]])"
      ]
     },
     "execution_count": 10,
     "metadata": {},
     "output_type": "execute_result"
    }
   ],
   "source": [
    "# INSERTING a GAME ID ROW to the user-game matrix\n",
    "games_id = np.arange(0, user_game_matrix_k_rec.shape[1]).reshape(1,-1)\n",
    "games_id = sp.sparse.csc_matrix(games_id)\n",
    "user_game_matrix_k_rec = sp.sparse.vstack((games_id, user_game_matrix_k_rec))\n",
    "user_game_matrix_k_rec.todense()\n"
   ]
  },
  {
   "cell_type": "code",
   "execution_count": 11,
   "metadata": {},
   "outputs": [
    {
     "name": "stdout",
     "output_type": "stream",
     "text": [
      "Number of Rows: 4,912\n",
      "Numbeer of Columns: 3,553\n",
      "Number of stored values: 23,375\n"
     ]
    },
    {
     "data": {
      "text/plain": [
       "matrix([[       0,        1,        2, ...,    37121,    37132,    37324],\n",
       "        [    1753,        0,        0, ...,        0,        0,        0],\n",
       "        [    1768,        0,        0, ...,        0,        0,        0],\n",
       "        ...,\n",
       "        [12609922,        0,        0, ...,        0,        0,        0],\n",
       "        [12627813,        0,        0, ...,        0,        0,        0],\n",
       "        [12637580,        0,        0, ...,        0,        0,        0]])"
      ]
     },
     "execution_count": 11,
     "metadata": {},
     "output_type": "execute_result"
    }
   ],
   "source": [
    "# dropping games with no recommendations\n",
    "mask = list(np.array(np.sum(user_game_matrix_k_rec[1:,1:], axis=0)>=1).reshape(-1))\n",
    "mask.insert(0,True)\n",
    "user_game_matrix_k_rec = user_game_matrix_k_rec.T[mask].T\n",
    "print(\"Number of Rows:\", '{0:,.0f}'.format(user_game_matrix_k_rec.shape[0]))\n",
    "print(\"Numbeer of Columns:\", '{0:,.0f}'.format(user_game_matrix_k_rec.shape[1]))\n",
    "print(\"Number of stored values:\", '{0:,.0f}'.format(user_game_matrix_k_rec.size))\n",
    "user_game_matrix_k_rec.todense()"
   ]
  },
  {
   "cell_type": "code",
   "execution_count": 12,
   "metadata": {},
   "outputs": [],
   "source": [
    "# GAMES MAPPING \n",
    "# keys: integer, starting from 1 which are the columns of the filtered matrix\n",
    "# values: original app_id_categorical\n",
    "all_games = np.array(user_game_matrix_k_rec[0,1:].todense()).reshape(-1)\n",
    "games_mapping = {k:i for k,i in enumerate(all_games)}\n",
    "swapped_games_dict = {v: k for k, v in games_mapping.items()}\n",
    "# swapped_games_dict[3481]"
   ]
  },
  {
   "cell_type": "code",
   "execution_count": 13,
   "metadata": {},
   "outputs": [],
   "source": [
    "# USERS mapping\n",
    "users_to_keep = np.array(user_game_matrix_k_rec[1:,0].todense()).reshape(-1)\n",
    "users_mapping = {k:i for k,i in enumerate(users_to_keep)}\n",
    "swapped_users_dict = {v: k for k, v in users_mapping.items()}\n"
   ]
  },
  {
   "cell_type": "code",
   "execution_count": 14,
   "metadata": {},
   "outputs": [],
   "source": [
    "def build_recommendations_sample(df):\n",
    "    # recommendations_sample = df[(df[\"user_id_categorical\"].isin(users_to_keep)) & (df[\"app_id_categorical\"].isin(games_to_keep))]\n",
    "    recommendations_sample = df[(df[\"user_id_categorical\"].isin(users_to_keep))]\n",
    "    return recommendations_sample\n",
    "\n",
    "recommendations_sample = build_recommendations_sample(recommendations)\n",
    "# recommendations_sample[recommendations_sample[\"user_id_categorical\"]==731702]\n"
   ]
  },
  {
   "cell_type": "code",
   "execution_count": 15,
   "metadata": {},
   "outputs": [
    {
     "name": "stderr",
     "output_type": "stream",
     "text": [
      "/var/folders/zt/3tyx89hj6gnf_t8m4vc8mfwm0000gn/T/ipykernel_57139/414577607.py:9: DeprecationWarning: Please use `csc_matrix` from the `scipy.sparse` namespace, the `scipy.sparse.csc` namespace is deprecated.\n",
      "  user_game_matrix = pickle.load(file)\n"
     ]
    },
    {
     "name": "stdout",
     "output_type": "stream",
     "text": [
      "RMSE: 0.005169280487673951\n"
     ]
    }
   ],
   "source": [
    "import numpy as np\n",
    "from scipy.sparse import csr_matrix\n",
    "from sklearn.metrics import mean_squared_error\n",
    "from sklearn.decomposition import TruncatedSVD\n",
    "import pickle\n",
    "\n",
    "# Load the user-game matrix\n",
    "with open(\"matrix/user_game_matrix.pkl\", 'rb') as file:\n",
    "    user_game_matrix = pickle.load(file)\n",
    "\n",
    "# Filtering the matrix for users to keep\n",
    "mask = np.isin(np.array(user_game_matrix[:, 0].todense()).reshape(-1), users_to_keep)\n",
    "user_game_matrix_k_rec = user_game_matrix[mask]\n",
    "\n",
    "# Convert the matrix to a dense array\n",
    "user_game_matrix_dense = user_game_matrix_k_rec.toarray()\n",
    "\n",
    "# Perform matrix factorization using SVD\n",
    "k = 50  # Number of latent factors\n",
    "model = TruncatedSVD(n_components=k)\n",
    "latent_factors = model.fit_transform(user_game_matrix_dense)\n",
    "\n",
    "# Example: Predict ratings for a user (index 0) based on the latent factors\n",
    "user_index = 0\n",
    "user_ratings = user_game_matrix_dense[user_index, :]\n",
    "predicted_ratings = np.dot(latent_factors, model.components_)[user_index, :]\n",
    "\n",
    "# Calculate RMSE\n",
    "actual_ratings = user_ratings\n",
    "rmse = np.sqrt(mean_squared_error(actual_ratings, predicted_ratings))\n",
    "print(\"RMSE:\", rmse)"
   ]
  },
  {
   "cell_type": "code",
   "execution_count": null,
   "metadata": {},
   "outputs": [],
   "source": []
  },
  {
   "cell_type": "code",
   "execution_count": null,
   "metadata": {},
   "outputs": [],
   "source": []
  }
 ],
 "metadata": {
  "kernelspec": {
   "display_name": "base",
   "language": "python",
   "name": "python3"
  },
  "language_info": {
   "codemirror_mode": {
    "name": "ipython",
    "version": 3
   },
   "file_extension": ".py",
   "mimetype": "text/x-python",
   "name": "python",
   "nbconvert_exporter": "python",
   "pygments_lexer": "ipython3",
   "version": "3.11.5"
  }
 },
 "nbformat": 4,
 "nbformat_minor": 2
}
