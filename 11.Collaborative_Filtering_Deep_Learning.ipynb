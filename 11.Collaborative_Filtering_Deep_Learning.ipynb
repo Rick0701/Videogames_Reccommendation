{
 "cells": [
  {
   "cell_type": "markdown",
   "metadata": {},
   "source": [
    "# 11. Collaborative Filtering - Deep Learning\n",
    "## Neural Collaborative Filtering"
   ]
  },
  {
   "cell_type": "code",
   "execution_count": 1,
   "metadata": {},
   "outputs": [],
   "source": [
    "import pandas as pd\n",
    "import numpy as np\n",
    "import pickle\n",
    "from sklearn.preprocessing import OneHotEncoder\n",
    "import scipy as sp\n",
    "from sklearn.model_selection import train_test_split\n",
    "from keras.layers import Embedding, Input, Dense, Reshape, Flatten, Dropout, Concatenate\n",
    "from keras.models import Sequential, Model\n",
    "from tensorflow.sparse import SparseTensor\n",
    "import keras\n",
    "from keras import layers\n",
    "from keras import ops\n",
    "import tensorflow as tf\n"
   ]
  },
  {
   "cell_type": "code",
   "execution_count": 2,
   "metadata": {},
   "outputs": [
    {
     "name": "stdout",
     "output_type": "stream",
     "text": [
      "Number of users 5,000\n",
      "First five users id [ 9880850 11308871 10339131  8414394  9734353]\n"
     ]
    },
    {
     "name": "stderr",
     "output_type": "stream",
     "text": [
      "C:\\Users\\riccardoricci\\AppData\\Local\\Temp\\ipykernel_2952\\3332260560.py:3: DeprecationWarning: Please use `csr_matrix` from the `scipy.sparse` namespace, the `scipy.sparse.csr` namespace is deprecated.\n",
      "  data = pickle.load(f)\n"
     ]
    },
    {
     "name": "stdout",
     "output_type": "stream",
     "text": [
      "Number of Rows: 12,663,134\n",
      "Numbeer of Columns: 37,420\n",
      "Number of stored values: 47,967,516\n",
      "Number of Rows: 4,916\n",
      "Numbeer of Columns: 37,420\n",
      "Number of stored values: 191,000\n",
      "Number of Rows: 4,917\n",
      "Numbeer of Columns: 17,109\n",
      "Number of stored values: 208,108\n"
     ]
    }
   ],
   "source": [
    "%run \"6.Recommendations_Sample.ipynb\""
   ]
  },
  {
   "cell_type": "code",
   "execution_count": 3,
   "metadata": {},
   "outputs": [
    {
     "data": {
      "text/html": [
       "<div>\n",
       "<style scoped>\n",
       "    .dataframe tbody tr th:only-of-type {\n",
       "        vertical-align: middle;\n",
       "    }\n",
       "\n",
       "    .dataframe tbody tr th {\n",
       "        vertical-align: top;\n",
       "    }\n",
       "\n",
       "    .dataframe thead th {\n",
       "        text-align: right;\n",
       "    }\n",
       "</style>\n",
       "<table border=\"1\" class=\"dataframe\">\n",
       "  <thead>\n",
       "    <tr style=\"text-align: right;\">\n",
       "      <th></th>\n",
       "      <th>app_id</th>\n",
       "      <th>helpful</th>\n",
       "      <th>funny</th>\n",
       "      <th>date</th>\n",
       "      <th>is_recommended</th>\n",
       "      <th>hours</th>\n",
       "      <th>user_id</th>\n",
       "      <th>review_id</th>\n",
       "      <th>user_id_categorical</th>\n",
       "      <th>app_id_categorical</th>\n",
       "    </tr>\n",
       "  </thead>\n",
       "  <tbody>\n",
       "    <tr>\n",
       "      <th>38408207</th>\n",
       "      <td>238010</td>\n",
       "      <td>0</td>\n",
       "      <td>0</td>\n",
       "      <td>2019-12-01</td>\n",
       "      <td>1</td>\n",
       "      <td>39.0</td>\n",
       "      <td>12039</td>\n",
       "      <td>38408207</td>\n",
       "      <td>10783</td>\n",
       "      <td>1742</td>\n",
       "    </tr>\n",
       "    <tr>\n",
       "      <th>40762148</th>\n",
       "      <td>1782210</td>\n",
       "      <td>0</td>\n",
       "      <td>0</td>\n",
       "      <td>2021-12-14</td>\n",
       "      <td>1</td>\n",
       "      <td>5.0</td>\n",
       "      <td>12039</td>\n",
       "      <td>40762148</td>\n",
       "      <td>10783</td>\n",
       "      <td>33450</td>\n",
       "    </tr>\n",
       "    <tr>\n",
       "      <th>13596940</th>\n",
       "      <td>453480</td>\n",
       "      <td>12</td>\n",
       "      <td>6</td>\n",
       "      <td>2022-02-13</td>\n",
       "      <td>1</td>\n",
       "      <td>5.4</td>\n",
       "      <td>12039</td>\n",
       "      <td>13596940</td>\n",
       "      <td>10783</td>\n",
       "      <td>7783</td>\n",
       "    </tr>\n",
       "    <tr>\n",
       "      <th>5429077</th>\n",
       "      <td>381210</td>\n",
       "      <td>0</td>\n",
       "      <td>0</td>\n",
       "      <td>2021-10-20</td>\n",
       "      <td>1</td>\n",
       "      <td>10.0</td>\n",
       "      <td>12039</td>\n",
       "      <td>5429077</td>\n",
       "      <td>10783</td>\n",
       "      <td>5720</td>\n",
       "    </tr>\n",
       "    <tr>\n",
       "      <th>40340451</th>\n",
       "      <td>420110</td>\n",
       "      <td>4</td>\n",
       "      <td>2</td>\n",
       "      <td>2016-06-16</td>\n",
       "      <td>1</td>\n",
       "      <td>6.0</td>\n",
       "      <td>12039</td>\n",
       "      <td>40340451</td>\n",
       "      <td>10783</td>\n",
       "      <td>6843</td>\n",
       "    </tr>\n",
       "  </tbody>\n",
       "</table>\n",
       "</div>"
      ],
      "text/plain": [
       "           app_id  helpful  funny        date  is_recommended  hours  user_id  \\\n",
       "38408207   238010        0      0  2019-12-01               1   39.0    12039   \n",
       "40762148  1782210        0      0  2021-12-14               1    5.0    12039   \n",
       "13596940   453480       12      6  2022-02-13               1    5.4    12039   \n",
       "5429077    381210        0      0  2021-10-20               1   10.0    12039   \n",
       "40340451   420110        4      2  2016-06-16               1    6.0    12039   \n",
       "\n",
       "          review_id  user_id_categorical  app_id_categorical  \n",
       "38408207   38408207                10783                1742  \n",
       "40762148   40762148                10783               33450  \n",
       "13596940   13596940                10783                7783  \n",
       "5429077     5429077                10783                5720  \n",
       "40340451   40340451                10783                6843  "
      ]
     },
     "execution_count": 3,
     "metadata": {},
     "output_type": "execute_result"
    }
   ],
   "source": [
    "recommendations_sample.head()"
   ]
  },
  {
   "cell_type": "code",
   "execution_count": 4,
   "metadata": {},
   "outputs": [
    {
     "data": {
      "text/plain": [
       "matrix([[       0,        1,        2, ...,    37399,    37401,    37414],\n",
       "        [   10783,        0,        0, ...,        0,        0,        0],\n",
       "        [   11762,        0,        0, ...,        0,        0,        0],\n",
       "        ...,\n",
       "        [12659873,        0,        0, ...,        0,        0,        0],\n",
       "        [12660359,        0,        0, ...,        0,        0,        0],\n",
       "        [12662371,        0,        0, ...,        0,        0,        0]],\n",
       "       dtype=int32)"
      ]
     },
     "execution_count": 4,
     "metadata": {},
     "output_type": "execute_result"
    }
   ],
   "source": [
    "user_game_matrix_k_rec.todense()"
   ]
  },
  {
   "cell_type": "markdown",
   "metadata": {},
   "source": [
    "## Train Test Split"
   ]
  },
  {
   "cell_type": "markdown",
   "metadata": {},
   "source": [
    "### Test Set"
   ]
  },
  {
   "cell_type": "code",
   "execution_count": 5,
   "metadata": {},
   "outputs": [
    {
     "name": "stderr",
     "output_type": "stream",
     "text": [
      "C:\\Users\\riccardoricci\\AppData\\Local\\Temp\\ipykernel_2952\\3121204030.py:6: FutureWarning: The provided callable <function nanmax at 0x000002053A94DAF0> is currently using SeriesGroupBy.max. In a future version of pandas, the provided callable will be used directly. To keep current behavior pass the string \"max\" instead.\n",
      "  max_df = df.groupby(\"user_id_categorical\").agg({\"date\": np.nanmax}).reset_index()\n"
     ]
    },
    {
     "name": "stdout",
     "output_type": "stream",
     "text": [
      "x_test.shape (6533, 2)\n",
      "y_test.shape (6533, 1)\n"
     ]
    }
   ],
   "source": [
    "# def get_test_instances(test):\n",
    "def get_test_instances(df):\n",
    "    \"\"\"\n",
    "    This functions generates test instances using the Leave One Out Approach taking the maximum recommendation date\n",
    "    \"\"\"\n",
    "    max_df = df.groupby(\"user_id_categorical\").agg({\"date\": np.nanmax}).reset_index()\n",
    "    rec_df = pd.merge(df, max_df, left_on=[\"user_id_categorical\",\"date\"], right_on=[\"user_id_categorical\",\"date\"])\n",
    "    rec_df[\"user_id_categorical_new\"] = rec_df[\"user_id_categorical\"].map(swapped_users_dict)\n",
    "    rec_df[\"app_id_categorical_new\"] = rec_df[\"app_id_categorical\"].map(swapped_games_dict)\n",
    "    x_test = rec_df[[\"user_id_categorical_new\", \"app_id_categorical_new\"]].values\n",
    "    y_test = np.full((x_test.shape[0],1), 1)\n",
    "    return x_test, y_test\n",
    "\n",
    "x_test, y_test = get_test_instances(recommendations_sample)\n",
    "print(\"x_test.shape\",  x_test.shape)\n",
    "print(\"y_test.shape\",  y_test.shape)\n"
   ]
  },
  {
   "cell_type": "code",
   "execution_count": 6,
   "metadata": {},
   "outputs": [],
   "source": [
    "x_test_dict = dict(x_test)"
   ]
  },
  {
   "cell_type": "markdown",
   "metadata": {},
   "source": [
    "### Get Training Istances\n",
    "\n",
    "Including negative samples"
   ]
  },
  {
   "cell_type": "code",
   "execution_count": 7,
   "metadata": {},
   "outputs": [
    {
     "name": "stdout",
     "output_type": "stream",
     "text": [
      "Number of Users: 4,916\n",
      "Number of Games: 17,108\n"
     ]
    }
   ],
   "source": [
    "train = user_game_matrix_k_rec[1:,1:].todok()\n",
    "num_users, num_items = train.shape\n",
    "print(\"Number of Users:\", '{0:,.0f}'.format(num_users))\n",
    "print(\"Number of Games:\", '{0:,.0f}'.format(num_items))\n"
   ]
  },
  {
   "cell_type": "code",
   "execution_count": 8,
   "metadata": {},
   "outputs": [
    {
     "name": "stdout",
     "output_type": "stream",
     "text": [
      "x_train.shape (924063, 2)\n",
      "y_train.shape (924063, 2)\n"
     ]
    }
   ],
   "source": [
    "def get_train_instances(train, num_negatives):\n",
    "    \"\"\"\n",
    "    This function generates training instances. For each user in the training data,\n",
    "    I should have users who recommended games and users who do not recommend games\n",
    "    \"\"\"\n",
    "    user_input, item_input, labels = [],[],[]\n",
    "    for (u, i) in train.keys():\n",
    "        # positive instance\n",
    "        user_input.append(u)\n",
    "        item_input.append(i)\n",
    "        labels.append(1)\n",
    "        # negative instances\n",
    "        item_selected = [] # to avoid duplicates\n",
    "        for t in range(num_negatives):\n",
    "            j = np.random.randint(num_items)\n",
    "            while ((u, j) in train.keys()) or ((u,j) in item_selected) or ((u,j) in x_test_dict.keys()):\n",
    "                j = np.random.randint(num_items)\n",
    "               # print(\"user:\", u)\n",
    "               #  print(\"game:\", j)\n",
    "            user_input.append(u)\n",
    "            item_input.append(j)\n",
    "            labels.append(0)\n",
    "            item_selected.append((u,j))\n",
    "        \n",
    "    p = np.vstack([user_input, item_input, labels]).T\n",
    "    p = np.unique(p, axis=0)\n",
    "    x_train = p[:,:2]\n",
    "    y_train = p[:, 2].reshape(-1, 1) # np.array(labels).reshape(1,-1).T\n",
    "    return x_train, y_train\n",
    "\n",
    "x_train, y_train = get_train_instances(train, 4)\n",
    "print(\"x_train.shape\",  x_train.shape)\n",
    "print(\"y_train.shape\",  x_train.shape)\n"
   ]
  },
  {
   "cell_type": "markdown",
   "metadata": {},
   "source": [
    "## Create the model"
   ]
  },
  {
   "cell_type": "code",
   "execution_count": 9,
   "metadata": {},
   "outputs": [
    {
     "name": "stderr",
     "output_type": "stream",
     "text": [
      "c:\\Users\\riccardoricci\\.conda\\envs\\NCF\\lib\\site-packages\\keras\\src\\layers\\core\\dense.py:85: UserWarning: Do not pass an `input_shape`/`input_dim` argument to a layer. When using Sequential models, prefer using an `Input(shape)` object as the first layer in the model instead.\n",
      "  super().__init__(activity_regularizer=activity_regularizer, **kwargs)\n"
     ]
    }
   ],
   "source": [
    "# EMBEDDING_SIZE = 50\n",
    "\n",
    "class RecommenderNet(keras.Model):\n",
    "    # def __init__(self, num_users, num_items, embedding_size, num_units_layers=[64,32],  **kwargs):\n",
    "    def __init__(self, num_users, num_items, num_units_layers,  **kwargs):\n",
    "        super().__init__(**kwargs)\n",
    "        self.num_users = num_users\n",
    "        self.num_items = num_items\n",
    "        # embeddings reduce the dimensionality, they are like look up tables\n",
    "        # self.embedding_size = embedding_size\n",
    "        self.user_input = Input(shape=(1,), dtype='int32', name = 'user_input')\n",
    "        self.item_input = Input(shape=(1,), dtype='int32', name = 'item_input')\n",
    "        self.user_embedding = layers.Embedding(\n",
    "            input_dim=num_users,\n",
    "            output_dim= int(num_units_layers[0]/2), # embedding_size,\n",
    "            embeddings_initializer=\"he_normal\",\n",
    "            embeddings_regularizer=keras.regularizers.l2(1e-6),\n",
    "        )\n",
    "        # self.user_bias = layers.Embedding(num_users, 1)\n",
    "        \n",
    "        self.game_embedding = layers.Embedding(\n",
    "            input_dim=num_items,\n",
    "            output_dim= int(num_units_layers[0]/2), # embedding_size,\n",
    "            embeddings_initializer=\"he_normal\",\n",
    "            embeddings_regularizer=keras.regularizers.l2(1e-6),\n",
    "        )\n",
    "        # self.game_bias = layers.Embedding(num_items, 1)\n",
    "\n",
    "        # \n",
    "        self.flatten_users = layers.Flatten()\n",
    "        self.flatten_games = layers.Flatten()\n",
    "        self.concat_users_games = layers.Concatenate()\n",
    "        self.dense_layer_1 = layers.Dense(\n",
    "            units = num_units_layers[0],\n",
    "            activation = \"relu\",\n",
    "            kernel_initializer=\"glorot_uniform\"\n",
    "        )\n",
    "        self.dense_layer_2 = layers.Dense(\n",
    "            units = num_units_layers[1],\n",
    "            activation = \"relu\",\n",
    "            kernel_initializer=\"glorot_uniform\"\n",
    "        )\n",
    "        self.prediction = layers.Dense(\n",
    "            units = 1,\n",
    "            activation = \"sigmoid\",\n",
    "            input_dim = num_units_layers[1]\n",
    "        )\n",
    "\n",
    "\n",
    "    def call(self, inputs):\n",
    "        user_vector = self.user_embedding(inputs[:,0])\n",
    "        # user_bias = self.user_bias(inputs[:,0])\n",
    "        game_vector = self.game_embedding(inputs[:,1])\n",
    "        # game_bias = self.game_bias(inputs[:,1])\n",
    "        # dot_user_game = ops.tensordot(user_vector, game_vector, 2)\n",
    "        # x = dot_user_game + user_bias + game_bias\n",
    "        users_flat = self.flatten_users(user_vector)\n",
    "        # print(users_flat.shape)\n",
    "        games_flat = self.flatten_games(game_vector)\n",
    "        concat = self.concat_users_games([users_flat, games_flat])\n",
    "        dense_layer_1 = self.dense_layer_1(concat)\n",
    "        dense_layer_2 = self.dense_layer_2(dense_layer_1)\n",
    "        prediction = self.prediction(dense_layer_2)\n",
    "        # return ops.nn.softmax(prediction)    \n",
    "        # return ops.nn.sigmoid(x)\n",
    "        return prediction # ops.nn.sigmoid(prediction)\n",
    "\n",
    "\n",
    "# model = RecommenderNet(num_users, num_items, EMBEDDING_SIZE)\n",
    "model = RecommenderNet(num_users, num_items, [20,10])\n",
    "model.compile(\n",
    "    loss=keras.losses.BinaryCrossentropy(),\n",
    "    optimizer=keras.optimizers.Adam(learning_rate=0.001), # Adagrad is suited for sparse data\n",
    "    # metrics=['accuracy']\n",
    ")"
   ]
  },
  {
   "cell_type": "code",
   "execution_count": 10,
   "metadata": {},
   "outputs": [
    {
     "name": "stdout",
     "output_type": "stream",
     "text": [
      "Epoch 1/10\n",
      "\u001b[1m28877/28877\u001b[0m \u001b[32m━━━━━━━━━━━━━━━━━━━━\u001b[0m\u001b[37m\u001b[0m \u001b[1m34s\u001b[0m 1ms/step - loss: 0.3594 - val_loss: 0.9571\n",
      "Epoch 2/10\n",
      "\u001b[1m28877/28877\u001b[0m \u001b[32m━━━━━━━━━━━━━━━━━━━━\u001b[0m\u001b[37m\u001b[0m \u001b[1m33s\u001b[0m 1ms/step - loss: 0.3171 - val_loss: 1.0214\n",
      "Epoch 3/10\n",
      "\u001b[1m28877/28877\u001b[0m \u001b[32m━━━━━━━━━━━━━━━━━━━━\u001b[0m\u001b[37m\u001b[0m \u001b[1m34s\u001b[0m 1ms/step - loss: 0.3132 - val_loss: 0.9687\n",
      "Epoch 4/10\n",
      "\u001b[1m28877/28877\u001b[0m \u001b[32m━━━━━━━━━━━━━━━━━━━━\u001b[0m\u001b[37m\u001b[0m \u001b[1m34s\u001b[0m 1ms/step - loss: 0.3109 - val_loss: 0.9493\n",
      "Epoch 5/10\n",
      "\u001b[1m28877/28877\u001b[0m \u001b[32m━━━━━━━━━━━━━━━━━━━━\u001b[0m\u001b[37m\u001b[0m \u001b[1m33s\u001b[0m 1ms/step - loss: 0.3069 - val_loss: 0.9086\n",
      "Epoch 6/10\n",
      "\u001b[1m28877/28877\u001b[0m \u001b[32m━━━━━━━━━━━━━━━━━━━━\u001b[0m\u001b[37m\u001b[0m \u001b[1m33s\u001b[0m 1ms/step - loss: 0.3069 - val_loss: 0.9357\n",
      "Epoch 7/10\n",
      "\u001b[1m28877/28877\u001b[0m \u001b[32m━━━━━━━━━━━━━━━━━━━━\u001b[0m\u001b[37m\u001b[0m \u001b[1m34s\u001b[0m 1ms/step - loss: 0.3051 - val_loss: 0.9030\n",
      "Epoch 8/10\n",
      "\u001b[1m28877/28877\u001b[0m \u001b[32m━━━━━━━━━━━━━━━━━━━━\u001b[0m\u001b[37m\u001b[0m \u001b[1m34s\u001b[0m 1ms/step - loss: 0.3050 - val_loss: 0.9340\n",
      "Epoch 9/10\n",
      "\u001b[1m28877/28877\u001b[0m \u001b[32m━━━━━━━━━━━━━━━━━━━━\u001b[0m\u001b[37m\u001b[0m \u001b[1m33s\u001b[0m 1ms/step - loss: 0.3025 - val_loss: 0.7947\n",
      "Epoch 10/10\n",
      "\u001b[1m28877/28877\u001b[0m \u001b[32m━━━━━━━━━━━━━━━━━━━━\u001b[0m\u001b[37m\u001b[0m \u001b[1m34s\u001b[0m 1ms/step - loss: 0.3015 - val_loss: 0.8578\n"
     ]
    }
   ],
   "source": [
    "# https://www.tensorflow.org/api_docs/python/tf/keras/Model#fit\n",
    "history = model.fit(\n",
    "    x=x_train, # user_idx and app_idx\n",
    "    y=y_train, # recommendations, always 1\n",
    "    #batch_size=64, # Number of samples per gradient update aka Minibatch Gradient Descent\n",
    "    epochs=10, # Number of epochs to train the model. An epoch is an iteration over the entire x and y data provided\n",
    "    verbose=1, # progress line\n",
    "    validation_data=(x_test, y_test) # Data on which to evaluate the loss and any model metrics at the end of each epoch\n",
    "    \n",
    ")"
   ]
  },
  {
   "cell_type": "code",
   "execution_count": 11,
   "metadata": {},
   "outputs": [
    {
     "data": {
      "image/png": "[encoded data removed]",
      "text/plain": [
       "<Figure size 640x480 with 1 Axes>"
      ]
     },
     "metadata": {},
     "output_type": "display_data"
    }
   ],
   "source": [
    "plt.plot(history.history[\"loss\"])\n",
    "plt.plot(history.history[\"val_loss\"])\n",
    "plt.title(\"model loss\")\n",
    "plt.ylabel(\"loss\")\n",
    "plt.xlabel(\"epoch\")\n",
    "plt.legend([\"train\", \"test\"], loc=\"upper left\")\n",
    "plt.show()"
   ]
  },
  {
   "cell_type": "markdown",
   "metadata": {},
   "source": [
    "## Model Evaluation"
   ]
  },
  {
   "cell_type": "code",
   "execution_count": 12,
   "metadata": {},
   "outputs": [
    {
     "data": {
      "text/plain": [
       "array([[    0,    20],\n",
       "       [    0,   279],\n",
       "       [    0,   297],\n",
       "       ...,\n",
       "       [ 4915, 16815],\n",
       "       [ 4915, 16967],\n",
       "       [ 4915, 17057]])"
      ]
     },
     "execution_count": 12,
     "metadata": {},
     "output_type": "execute_result"
    }
   ],
   "source": [
    "x_train"
   ]
  },
  {
   "cell_type": "code",
   "execution_count": 13,
   "metadata": {},
   "outputs": [
    {
     "data": {
      "text/plain": [
       "array([[1],\n",
       "       [1],\n",
       "       [0],\n",
       "       ...,\n",
       "       [0],\n",
       "       [0],\n",
       "       [0]])"
      ]
     },
     "execution_count": 13,
     "metadata": {},
     "output_type": "execute_result"
    }
   ],
   "source": [
    "y_train"
   ]
  },
  {
   "cell_type": "code",
   "execution_count": 14,
   "metadata": {},
   "outputs": [
    {
     "data": {
      "text/plain": [
       "array([[    0, 12246],\n",
       "       [    1, 11826],\n",
       "       [    2, 15161],\n",
       "       ...,\n",
       "       [ 4913,  2208],\n",
       "       [ 4914,  9434],\n",
       "       [ 4915, 12246]], dtype=int64)"
      ]
     },
     "execution_count": 14,
     "metadata": {},
     "output_type": "execute_result"
    }
   ],
   "source": [
    "x_test"
   ]
  },
  {
   "cell_type": "code",
   "execution_count": 15,
   "metadata": {},
   "outputs": [
    {
     "data": {
      "text/plain": [
       "array([[1],\n",
       "       [1],\n",
       "       [1],\n",
       "       ...,\n",
       "       [1],\n",
       "       [1],\n",
       "       [1]])"
      ]
     },
     "execution_count": 15,
     "metadata": {},
     "output_type": "execute_result"
    }
   ],
   "source": [
    "y_test"
   ]
  },
  {
   "cell_type": "code",
   "execution_count": 16,
   "metadata": {},
   "outputs": [],
   "source": [
    "num_users, num_games = train.shape"
   ]
  },
  {
   "cell_type": "code",
   "execution_count": 17,
   "metadata": {},
   "outputs": [],
   "source": [
    "%run \"Model_Evaluation.ipynb\""
   ]
  },
  {
   "cell_type": "code",
   "execution_count": 18,
   "metadata": {},
   "outputs": [],
   "source": [
    "K = 30 ### CHOOSE K FOR TOP-K ACCURACY\n",
    "n_users2val = 10 ### CHOOSE THE NUMBER OF USERS YOU WANT TO EVALUATE"
   ]
  },
  {
   "cell_type": "code",
   "execution_count": 19,
   "metadata": {},
   "outputs": [
    {
     "name": "stdout",
     "output_type": "stream",
     "text": [
      "\u001b[1m535/535\u001b[0m \u001b[32m━━━━━━━━━━━━━━━━━━━━\u001b[0m\u001b[37m\u001b[0m \u001b[1m1s\u001b[0m 1ms/step\n",
      "\u001b[1m535/535\u001b[0m \u001b[32m━━━━━━━━━━━━━━━━━━━━\u001b[0m\u001b[37m\u001b[0m \u001b[1m0s\u001b[0m 615us/step\n",
      "\u001b[1m535/535\u001b[0m \u001b[32m━━━━━━━━━━━━━━━━━━━━\u001b[0m\u001b[37m\u001b[0m \u001b[1m0s\u001b[0m 583us/step\n",
      "\u001b[1m535/535\u001b[0m \u001b[32m━━━━━━━━━━━━━━━━━━━━\u001b[0m\u001b[37m\u001b[0m \u001b[1m0s\u001b[0m 624us/step\n",
      "\u001b[1m535/535\u001b[0m \u001b[32m━━━━━━━━━━━━━━━━━━━━\u001b[0m\u001b[37m\u001b[0m \u001b[1m0s\u001b[0m 626us/step\n",
      "\u001b[1m535/535\u001b[0m \u001b[32m━━━━━━━━━━━━━━━━━━━━\u001b[0m\u001b[37m\u001b[0m \u001b[1m0s\u001b[0m 797us/step\n",
      "\u001b[1m535/535\u001b[0m \u001b[32m━━━━━━━━━━━━━━━━━━━━\u001b[0m\u001b[37m\u001b[0m \u001b[1m0s\u001b[0m 802us/step\n",
      "\u001b[1m535/535\u001b[0m \u001b[32m━━━━━━━━━━━━━━━━━━━━\u001b[0m\u001b[37m\u001b[0m \u001b[1m0s\u001b[0m 703us/step\n",
      "\u001b[1m535/535\u001b[0m \u001b[32m━━━━━━━━━━━━━━━━━━━━\u001b[0m\u001b[37m\u001b[0m \u001b[1m0s\u001b[0m 829us/step\n",
      "\u001b[1m535/535\u001b[0m \u001b[32m━━━━━━━━━━━━━━━━━━━━\u001b[0m\u001b[37m\u001b[0m \u001b[1m0s\u001b[0m 727us/step\n",
      "Number of users: 10\n",
      "K: 30\n",
      "Average Precision 5.0000%\n",
      "Average Recall 5.9539%\n"
     ]
    }
   ],
   "source": [
    "prec, rec = eval_k_avg(n_users2val, K, num_users, num_games, x_train, y_train)\n",
    "print(\"Number of users:\", n_users2val)\n",
    "print(\"K:\",K)\n",
    "print(\"Average Precision\", '{0:.4%}'.format(prec))\n",
    "print(\"Average Recall\", '{0:.4%}'.format(rec))\n"
   ]
  },
  {
   "cell_type": "code",
   "execution_count": 20,
   "metadata": {},
   "outputs": [
    {
     "name": "stdout",
     "output_type": "stream",
     "text": [
      "\u001b[1m535/535\u001b[0m \u001b[32m━━━━━━━━━━━━━━━━━━━━\u001b[0m\u001b[37m\u001b[0m \u001b[1m1s\u001b[0m 848us/step\n",
      "\u001b[1m535/535\u001b[0m \u001b[32m━━━━━━━━━━━━━━━━━━━━\u001b[0m\u001b[37m\u001b[0m \u001b[1m0s\u001b[0m 884us/step\n",
      "\u001b[1m535/535\u001b[0m \u001b[32m━━━━━━━━━━━━━━━━━━━━\u001b[0m\u001b[37m\u001b[0m \u001b[1m0s\u001b[0m 712us/step\n",
      "\u001b[1m535/535\u001b[0m \u001b[32m━━━━━━━━━━━━━━━━━━━━\u001b[0m\u001b[37m\u001b[0m \u001b[1m0s\u001b[0m 694us/step\n",
      "\u001b[1m535/535\u001b[0m \u001b[32m━━━━━━━━━━━━━━━━━━━━\u001b[0m\u001b[37m\u001b[0m \u001b[1m0s\u001b[0m 684us/step\n",
      "\u001b[1m535/535\u001b[0m \u001b[32m━━━━━━━━━━━━━━━━━━━━\u001b[0m\u001b[37m\u001b[0m \u001b[1m0s\u001b[0m 691us/step\n",
      "\u001b[1m535/535\u001b[0m \u001b[32m━━━━━━━━━━━━━━━━━━━━\u001b[0m\u001b[37m\u001b[0m \u001b[1m0s\u001b[0m 667us/step\n",
      "\u001b[1m535/535\u001b[0m \u001b[32m━━━━━━━━━━━━━━━━━━━━\u001b[0m\u001b[37m\u001b[0m \u001b[1m0s\u001b[0m 658us/step\n",
      "\u001b[1m535/535\u001b[0m \u001b[32m━━━━━━━━━━━━━━━━━━━━\u001b[0m\u001b[37m\u001b[0m \u001b[1m0s\u001b[0m 705us/step\n",
      "\u001b[1m535/535\u001b[0m \u001b[32m━━━━━━━━━━━━━━━━━━━━\u001b[0m\u001b[37m\u001b[0m \u001b[1m0s\u001b[0m 767us/step\n",
      "Number of users: 10\n",
      "K: 30\n",
      "Hit Ratio: 20.0000%\n"
     ]
    }
   ],
   "source": [
    "hit_r = eval_hit_ratio(n_users2val, K, num_games, x_test)\n",
    "print(\"Number of users:\", n_users2val)\n",
    "print(\"K:\",K)\n",
    "print(\"Hit Ratio:\", '{0:.4%}'.format(hit_r))"
   ]
  }
 ],
 "metadata": {
  "kernelspec": {
   "display_name": "NCF",
   "language": "python",
   "name": "python3"
  },
  "language_info": {
   "codemirror_mode": {
    "name": "ipython",
    "version": 3
   },
   "file_extension": ".py",
   "mimetype": "text/x-python",
   "name": "python",
   "nbconvert_exporter": "python",
   "pygments_lexer": "ipython3",
   "version": "3.9.18"
  }
 },
 "nbformat": 4,
 "nbformat_minor": 2
}
