{
 "cells": [
  {
   "cell_type": "markdown",
   "metadata": {},
   "source": [
    "# 12. Cluster Analysis\n"
   ]
  },
  {
   "cell_type": "code",
   "execution_count": 5,
   "metadata": {},
   "outputs": [
    {
     "name": "stderr",
     "output_type": "stream",
     "text": [
      "/var/folders/zt/3tyx89hj6gnf_t8m4vc8mfwm0000gn/T/ipykernel_85605/2749845937.py:9: DtypeWarning: Columns (0,1,2,4,5,6,7) have mixed types. Specify dtype option on import or set low_memory=False.\n",
      "  chunk_df = pd.read_csv(file_path, header=None, skiprows=skiprow)\n"
     ]
    },
    {
     "name": "stdout",
     "output_type": "stream",
     "text": [
      "Number of users 5,000\n",
      "First five users id [ 9876316 11314799 10333834  8415484  9737805]\n"
     ]
    },
    {
     "name": "stderr",
     "output_type": "stream",
     "text": [
      "/var/folders/zt/3tyx89hj6gnf_t8m4vc8mfwm0000gn/T/ipykernel_85605/3332260560.py:3: DeprecationWarning: Please use `csr_matrix` from the `scipy.sparse` namespace, the `scipy.sparse.csr` namespace is deprecated.\n",
      "  data = pickle.load(f)\n"
     ]
    },
    {
     "name": "stdout",
     "output_type": "stream",
     "text": [
      "Number of Rows: 12,663,134\n",
      "Numbeer of Columns: 37,420\n",
      "Number of stored values: 47,967,516\n",
      "Number of Rows: 4,916\n",
      "Numbeer of Columns: 37,420\n",
      "Number of stored values: 19,474\n",
      "Number of Rows: 4,917\n",
      "Numbeer of Columns: 3,629\n",
      "Number of stored values: 23,102\n"
     ]
    }
   ],
   "source": [
    "%run \"6.Recommendations_Sample.ipynb\""
   ]
  },
  {
   "cell_type": "code",
   "execution_count": 6,
   "metadata": {},
   "outputs": [],
   "source": [
    "import numpy as np\n",
    "import pandas as pd\n",
    "import matplotlib.pyplot as plt\n",
    "from scipy.cluster.hierarchy import dendrogram, linkage\n",
    "import gzip\n",
    "import pickle\n",
    "from scipy.spatial.distance import pdist"
   ]
  },
  {
   "cell_type": "markdown",
   "metadata": {},
   "source": [
    "def decompress_pickle(input_file):\n",
    "    with gzip.open(input_file, 'rb') as f:\n",
    "        data = pickle.load(f)\n",
    "    return data\n",
    "\n",
    "user_game_matrix = decompress_pickle('matrix/user_game_matrix.pkl.gz')\n",
    "user_game_matrix"
   ]
  },
  {
   "cell_type": "code",
   "execution_count": 7,
   "metadata": {},
   "outputs": [
    {
     "name": "stderr",
     "output_type": "stream",
     "text": [
      "/var/folders/zt/3tyx89hj6gnf_t8m4vc8mfwm0000gn/T/ipykernel_85605/3332260560.py:3: DeprecationWarning: Please use `csr_matrix` from the `scipy.sparse` namespace, the `scipy.sparse.csr` namespace is deprecated.\n",
      "  data = pickle.load(f)\n"
     ]
    },
    {
     "data": {
      "image/png": "[encoded data removed]",
      "text/plain": [
       "<Figure size 640x480 with 1 Axes>"
      ]
     },
     "metadata": {},
     "output_type": "display_data"
    }
   ],
   "source": [
    "# Load the user-game matrix\n",
    "user_game_matrix = decompress_pickle('matrix/user_game_matrix.pkl.gz')\n",
    "\n",
    "# Reduce the size of the user-game matrix\n",
    "# Replace this with your own filtering logic\n",
    "filtered_matrix = user_game_matrix[:1000, :1000]\n",
    "\n",
    "# Convert the sparse matrix to a dense matrix\n",
    "dense_matrix = filtered_matrix.toarray()\n",
    "\n",
    "# Compute pairwise distances\n",
    "pairwise_distances = pdist(dense_matrix)\n",
    "\n",
    "# Perform hierarchical clustering\n",
    "# Using the linkage function with the 'ward' method\n",
    "# Replace 'ward' with your desired linkage method\n",
    "clusters = linkage(pairwise_distances, method='ward')\n",
    "\n",
    "# Plot the dendrogram\n",
    "dendrogram(clusters)\n",
    "\n",
    "# Show the plot\n",
    "import matplotlib.pyplot as plt\n",
    "plt.show()"
   ]
  },
  {
   "cell_type": "code",
   "execution_count": null,
   "metadata": {},
   "outputs": [],
   "source": []
  }
 ],
 "metadata": {
  "kernelspec": {
   "display_name": "base",
   "language": "python",
   "name": "python3"
  },
  "language_info": {
   "codemirror_mode": {
    "name": "ipython",
    "version": 3
   },
   "file_extension": ".py",
   "mimetype": "text/x-python",
   "name": "python",
   "nbconvert_exporter": "python",
   "pygments_lexer": "ipython3",
   "version": "3.11.5"
  }
 },
 "nbformat": 4,
 "nbformat_minor": 2
}
