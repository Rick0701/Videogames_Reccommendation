{
 "cells": [
  {
   "cell_type": "markdown",
   "metadata": {},
   "source": [
    "## 6. Popularity-based Model"
   ]
  },
  {
   "cell_type": "markdown",
   "metadata": {},
   "source": [
    "This is the baseline approach. We will assign the most N popular reviews to each gamer and compute specific accuracy metrics for recommender systems such as Precision@N, Recall@N, average precision with cutoff."
   ]
  },
  {
   "cell_type": "markdown",
   "metadata": {},
   "source": [
    "### Sorting top-N Popularity"
   ]
  },
  {
   "cell_type": "markdown",
   "metadata": {},
   "source": [
    "Exploring columns to represent popularity of games"
   ]
  },
  {
   "cell_type": "code",
   "execution_count": null,
   "metadata": {},
   "outputs": [
    {
     "data": {
      "application/vnd.deepnote.dataframe.v3+json": {
       "column_count": 3,
       "columns": [
        {
         "dtype": "int64",
         "name": "app_id",
         "stats": {
          "histogram": [
           {
            "bin_end": 220901,
            "bin_start": 10,
            "count": 140
           },
           {
            "bin_end": 441792,
            "bin_start": 220901,
            "count": 250
           },
           {
            "bin_end": 662683,
            "bin_start": 441792,
            "count": 186
           },
           {
            "bin_end": 883574,
            "bin_start": 662683,
            "count": 135
           },
           {
            "bin_end": 1104465,
            "bin_start": 883574,
            "count": 132
           },
           {
            "bin_end": 1325356,
            "bin_start": 1104465,
            "count": 177
           },
           {
            "bin_end": 1546247,
            "bin_start": 1325356,
            "count": 109
           },
           {
            "bin_end": 1767138,
            "bin_start": 1546247,
            "count": 69
           },
           {
            "bin_end": 1988029,
            "bin_start": 1767138,
            "count": 55
           },
           {
            "bin_end": 2208920,
            "bin_start": 1988029,
            "count": 14
           }
          ],
          "max": "2208920",
          "min": "10",
          "nan_count": 0,
          "unique_count": 1267
         }
        },
        {
         "dtype": "float64",
         "name": "mean",
         "stats": {
          "histogram": [
           {
            "bin_end": 0.1,
            "bin_start": 0,
            "count": 9
           },
           {
            "bin_end": 0.2,
            "bin_start": 0.1,
            "count": 2
           },
           {
            "bin_end": 0.30000000000000004,
            "bin_start": 0.2,
            "count": 2
           },
           {
            "bin_end": 0.4,
            "bin_start": 0.30000000000000004,
            "count": 5
           },
           {
            "bin_end": 0.5,
            "bin_start": 0.4,
            "count": 7
           },
           {
            "bin_end": 0.6000000000000001,
            "bin_start": 0.5,
            "count": 54
           },
           {
            "bin_end": 0.7000000000000001,
            "bin_start": 0.6000000000000001,
            "count": 64
           },
           {
            "bin_end": 0.8,
            "bin_start": 0.7000000000000001,
            "count": 153
           },
           {
            "bin_end": 0.9,
            "bin_start": 0.8,
            "count": 355
           },
           {
            "bin_end": 1,
            "bin_start": 0.9,
            "count": 616
           }
          ],
          "max": "1.0",
          "min": "0.0",
          "nan_count": 0,
          "unique_count": 945
         }
        },
        {
         "dtype": "int64",
         "name": "sum",
         "stats": {
          "histogram": [
           {
            "bin_end": 21047.1,
            "bin_start": 0,
            "count": 1151
           },
           {
            "bin_end": 42094.2,
            "bin_start": 21047.1,
            "count": 65
           },
           {
            "bin_end": 63141.299999999996,
            "bin_start": 42094.2,
            "count": 30
           },
           {
            "bin_end": 84188.4,
            "bin_start": 63141.299999999996,
            "count": 6
           },
           {
            "bin_end": 105235.5,
            "bin_start": 84188.4,
            "count": 8
           },
           {
            "bin_end": 126282.59999999999,
            "bin_start": 105235.5,
            "count": 4
           },
           {
            "bin_end": 147329.69999999998,
            "bin_start": 126282.59999999999,
            "count": 1
           },
           {
            "bin_end": 168376.8,
            "bin_start": 147329.69999999998,
            "count": 1
           },
           {
            "bin_end": 189423.9,
            "bin_start": 168376.8,
            "count": 0
           },
           {
            "bin_end": 210471,
            "bin_start": 189423.9,
            "count": 1
           }
          ],
          "max": "210471",
          "min": "0",
          "nan_count": 0,
          "unique_count": 837
         }
        },
        {
         "dtype": "int64",
         "name": "_deepnote_index_column"
        }
       ],
       "row_count": 1267,
       "rows": [
        {
         "_deepnote_index_column": 0,
         "app_id": 757310,
         "mean": 1,
         "sum": 7
        },
        {
         "_deepnote_index_column": 1,
         "app_id": 742360,
         "mean": 1,
         "sum": 1
        },
        {
         "_deepnote_index_column": 2,
         "app_id": 824000,
         "mean": 1,
         "sum": 1
        },
        {
         "_deepnote_index_column": 3,
         "app_id": 814370,
         "mean": 1,
         "sum": 9
        },
        {
         "_deepnote_index_column": 4,
         "app_id": 212160,
         "mean": 1,
         "sum": 3
        },
        {
         "_deepnote_index_column": 5,
         "app_id": 813780,
         "mean": 1,
         "sum": 17
        },
        {
         "_deepnote_index_column": 6,
         "app_id": 212680,
         "mean": 1,
         "sum": 17
        },
        {
         "_deepnote_index_column": 7,
         "app_id": 774181,
         "mean": 1,
         "sum": 49
        },
        {
         "_deepnote_index_column": 8,
         "app_id": 773790,
         "mean": 1,
         "sum": 3
        },
        {
         "_deepnote_index_column": 9,
         "app_id": 773370,
         "mean": 1,
         "sum": 4
        }
       ]
      },
      "text/html": [
       "<div>\n",
       "<style scoped>\n",
       "    .dataframe tbody tr th:only-of-type {\n",
       "        vertical-align: middle;\n",
       "    }\n",
       "\n",
       "    .dataframe tbody tr th {\n",
       "        vertical-align: top;\n",
       "    }\n",
       "\n",
       "    .dataframe thead th {\n",
       "        text-align: right;\n",
       "    }\n",
       "</style>\n",
       "<table border=\"1\" class=\"dataframe\">\n",
       "  <thead>\n",
       "    <tr style=\"text-align: right;\">\n",
       "      <th></th>\n",
       "      <th>app_id</th>\n",
       "      <th>mean</th>\n",
       "      <th>sum</th>\n",
       "    </tr>\n",
       "  </thead>\n",
       "  <tbody>\n",
       "    <tr>\n",
       "      <th>0</th>\n",
       "      <td>757310</td>\n",
       "      <td>1.0</td>\n",
       "      <td>7</td>\n",
       "    </tr>\n",
       "    <tr>\n",
       "      <th>1</th>\n",
       "      <td>742360</td>\n",
       "      <td>1.0</td>\n",
       "      <td>1</td>\n",
       "    </tr>\n",
       "    <tr>\n",
       "      <th>2</th>\n",
       "      <td>824000</td>\n",
       "      <td>1.0</td>\n",
       "      <td>1</td>\n",
       "    </tr>\n",
       "    <tr>\n",
       "      <th>3</th>\n",
       "      <td>814370</td>\n",
       "      <td>1.0</td>\n",
       "      <td>9</td>\n",
       "    </tr>\n",
       "    <tr>\n",
       "      <th>4</th>\n",
       "      <td>212160</td>\n",
       "      <td>1.0</td>\n",
       "      <td>3</td>\n",
       "    </tr>\n",
       "    <tr>\n",
       "      <th>...</th>\n",
       "      <td>...</td>\n",
       "      <td>...</td>\n",
       "      <td>...</td>\n",
       "    </tr>\n",
       "    <tr>\n",
       "      <th>1262</th>\n",
       "      <td>307960</td>\n",
       "      <td>0.0</td>\n",
       "      <td>0</td>\n",
       "    </tr>\n",
       "    <tr>\n",
       "      <th>1263</th>\n",
       "      <td>594330</td>\n",
       "      <td>0.0</td>\n",
       "      <td>0</td>\n",
       "    </tr>\n",
       "    <tr>\n",
       "      <th>1264</th>\n",
       "      <td>382110</td>\n",
       "      <td>0.0</td>\n",
       "      <td>0</td>\n",
       "    </tr>\n",
       "    <tr>\n",
       "      <th>1265</th>\n",
       "      <td>604500</td>\n",
       "      <td>0.0</td>\n",
       "      <td>0</td>\n",
       "    </tr>\n",
       "    <tr>\n",
       "      <th>1266</th>\n",
       "      <td>1665460</td>\n",
       "      <td>0.0</td>\n",
       "      <td>0</td>\n",
       "    </tr>\n",
       "  </tbody>\n",
       "</table>\n",
       "<p>1267 rows × 3 columns</p>\n",
       "</div>"
      ],
      "text/plain": [
       "       app_id  mean  sum\n",
       "0      757310   1.0    7\n",
       "1      742360   1.0    1\n",
       "2      824000   1.0    1\n",
       "3      814370   1.0    9\n",
       "4      212160   1.0    3\n",
       "...       ...   ...  ...\n",
       "1262   307960   0.0    0\n",
       "1263   594330   0.0    0\n",
       "1264   382110   0.0    0\n",
       "1265   604500   0.0    0\n",
       "1266  1665460   0.0    0\n",
       "\n",
       "[1267 rows x 3 columns]"
      ]
     },
     "metadata": {},
     "output_type": "display_data"
    }
   ],
   "source": [
    "# recommendations.groupby('app_id').is_recommended.agg(['mean', 'sum']).sort_values('mean', ascending=False).reset_index()"
   ]
  },
  {
   "cell_type": "code",
   "execution_count": null,
   "metadata": {},
   "outputs": [
    {
     "data": {
      "text/plain": [
       "array(['Very Positive', 'Positive', 'Mixed', 'Mostly Positive',\n",
       "       'Overwhelmingly Positive', 'Negative', 'Mostly Negative',\n",
       "       'Overwhelmingly Negative', 'Very Negative'], dtype=object)"
      ]
     },
     "metadata": {},
     "output_type": "display_data"
    }
   ],
   "source": [
    "# games.rating.unique()"
   ]
  },
  {
   "cell_type": "code",
   "execution_count": null,
   "metadata": {},
   "outputs": [],
   "source": [
    "# ratings = ['Overwhelmingly Positive', 'Very Positive', 'Positive',  \n",
    "#            'Mostly Positive', 'Mixed',  \n",
    "#            'Overwhelmingly Negative', 'Very Negative', 'Negative', \n",
    "#            'Mostly Negative']\n",
    "\n",
    "# rating_values = [5, 4, 3, 2, 1, -5, -4, -3, -2]  \n",
    "# rating_map = dict(zip(ratings, rating_values))\n",
    "# games['rating_numeric'] = games['rating'].map(rating_map)"
   ]
  },
  {
   "cell_type": "code",
   "execution_count": null,
   "metadata": {},
   "outputs": [
    {
     "data": {
      "application/vnd.deepnote.dataframe.v3+json": {
       "column_count": 5,
       "columns": [
        {
         "dtype": "int64",
         "name": "app_id",
         "stats": {
          "histogram": [
           {
            "bin_end": 617733,
            "bin_start": 431730,
            "count": 1
           },
           {
            "bin_end": 803736,
            "bin_start": 617733,
            "count": 0
           },
           {
            "bin_end": 989739,
            "bin_start": 803736,
            "count": 0
           },
           {
            "bin_end": 1175742,
            "bin_start": 989739,
            "count": 2
           },
           {
            "bin_end": 1361745,
            "bin_start": 1175742,
            "count": 2
           },
           {
            "bin_end": 1547748,
            "bin_start": 1361745,
            "count": 1
           },
           {
            "bin_end": 1733751,
            "bin_start": 1547748,
            "count": 1
           },
           {
            "bin_end": 1919754,
            "bin_start": 1733751,
            "count": 1
           },
           {
            "bin_end": 2105757,
            "bin_start": 1919754,
            "count": 0
           },
           {
            "bin_end": 2291760,
            "bin_start": 2105757,
            "count": 2
           }
          ],
          "max": "2291760",
          "min": "431730",
          "nan_count": 0,
          "unique_count": 10
         }
        },
        {
         "dtype": "object",
         "name": "title",
         "stats": {
          "categories": [
           {
            "count": 1,
            "name": "Aokana - Four Rhythms Across the Blue - EXTRA2"
           },
           {
            "count": 1,
            "name": "Aseprite"
           },
           {
            "count": 8,
            "name": "8 others"
           }
          ],
          "nan_count": 0,
          "unique_count": 10
         }
        },
        {
         "dtype": "int64",
         "name": "rating_numeric",
         "stats": {
          "histogram": [
           {
            "bin_end": 4.6,
            "bin_start": 4.5,
            "count": 0
           },
           {
            "bin_end": 4.7,
            "bin_start": 4.6,
            "count": 0
           },
           {
            "bin_end": 4.8,
            "bin_start": 4.7,
            "count": 0
           },
           {
            "bin_end": 4.9,
            "bin_start": 4.8,
            "count": 0
           },
           {
            "bin_end": 5,
            "bin_start": 4.9,
            "count": 0
           },
           {
            "bin_end": 5.1,
            "bin_start": 5,
            "count": 10
           },
           {
            "bin_end": 5.2,
            "bin_start": 5.1,
            "count": 0
           },
           {
            "bin_end": 5.3,
            "bin_start": 5.2,
            "count": 0
           },
           {
            "bin_end": 5.4,
            "bin_start": 5.3,
            "count": 0
           },
           {
            "bin_end": 5.5,
            "bin_start": 5.4,
            "count": 0
           }
          ],
          "max": "5",
          "min": "5",
          "nan_count": 0,
          "unique_count": 1
         }
        },
        {
         "dtype": "int64",
         "name": "positive_ratio",
         "stats": {
          "histogram": [
           {
            "bin_end": 99.1,
            "bin_start": 99,
            "count": 9
           },
           {
            "bin_end": 99.2,
            "bin_start": 99.1,
            "count": 0
           },
           {
            "bin_end": 99.3,
            "bin_start": 99.2,
            "count": 0
           },
           {
            "bin_end": 99.4,
            "bin_start": 99.3,
            "count": 0
           },
           {
            "bin_end": 99.5,
            "bin_start": 99.4,
            "count": 0
           },
           {
            "bin_end": 99.6,
            "bin_start": 99.5,
            "count": 0
           },
           {
            "bin_end": 99.7,
            "bin_start": 99.6,
            "count": 0
           },
           {
            "bin_end": 99.8,
            "bin_start": 99.7,
            "count": 0
           },
           {
            "bin_end": 99.9,
            "bin_start": 99.8,
            "count": 0
           },
           {
            "bin_end": 100,
            "bin_start": 99.9,
            "count": 1
           }
          ],
          "max": "100",
          "min": "99",
          "nan_count": 0,
          "unique_count": 2
         }
        },
        {
         "dtype": "int64",
         "name": "user_reviews",
         "stats": {
          "histogram": [
           {
            "bin_end": 1637.8,
            "bin_start": 530,
            "count": 1
           },
           {
            "bin_end": 2745.6,
            "bin_start": 1637.8,
            "count": 5
           },
           {
            "bin_end": 3853.3999999999996,
            "bin_start": 2745.6,
            "count": 1
           },
           {
            "bin_end": 4961.2,
            "bin_start": 3853.3999999999996,
            "count": 0
           },
           {
            "bin_end": 6069,
            "bin_start": 4961.2,
            "count": 0
           },
           {
            "bin_end": 7176.799999999999,
            "bin_start": 6069,
            "count": 0
           },
           {
            "bin_end": 8284.599999999999,
            "bin_start": 7176.799999999999,
            "count": 0
           },
           {
            "bin_end": 9392.4,
            "bin_start": 8284.599999999999,
            "count": 0
           },
           {
            "bin_end": 10500.199999999999,
            "bin_start": 9392.4,
            "count": 0
           },
           {
            "bin_end": 11608,
            "bin_start": 10500.199999999999,
            "count": 3
           }
          ],
          "max": "11608",
          "min": "530",
          "nan_count": 0,
          "unique_count": 10
         }
        },
        {
         "dtype": "int64",
         "name": "_deepnote_index_column"
        }
       ],
       "row_count": 10,
       "rows": [
        {
         "_deepnote_index_column": 2287,
         "app_id": 2206340,
         "positive_ratio": 100,
         "rating_numeric": 5,
         "title": "Aokana - Four Rhythms Across the Blue - EXTRA2",
         "user_reviews": 530
        },
        {
         "_deepnote_index_column": 47789,
         "app_id": 431730,
         "positive_ratio": 99,
         "rating_numeric": 5,
         "title": "Aseprite",
         "user_reviews": 11608
        },
        {
         "_deepnote_index_column": 674,
         "app_id": 1144400,
         "positive_ratio": 99,
         "rating_numeric": 5,
         "title": "Senren＊Banka",
         "user_reviews": 11410
        },
        {
         "_deepnote_index_column": 13392,
         "app_id": 1055540,
         "positive_ratio": 99,
         "rating_numeric": 5,
         "title": "A Short Hike",
         "user_reviews": 10534
        },
        {
         "_deepnote_index_column": 29131,
         "app_id": 1698960,
         "positive_ratio": 99,
         "rating_numeric": 5,
         "title": "Project Kat - Paper Lily Prologue",
         "user_reviews": 3582
        },
        {
         "_deepnote_index_column": 48525,
         "app_id": 1260520,
         "positive_ratio": 99,
         "rating_numeric": 5,
         "title": "Patrick's Parabox",
         "user_reviews": 2367
        },
        {
         "_deepnote_index_column": 2577,
         "app_id": 1307580,
         "positive_ratio": 99,
         "rating_numeric": 5,
         "title": "TOEM",
         "user_reviews": 2321
        },
        {
         "_deepnote_index_column": 16587,
         "app_id": 1901370,
         "positive_ratio": 99,
         "rating_numeric": 5,
         "title": "Ib",
         "user_reviews": 2073
        },
        {
         "_deepnote_index_column": 2764,
         "app_id": 1530140,
         "positive_ratio": 99,
         "rating_numeric": 5,
         "title": "Aventura Copilului Albastru și Urât",
         "user_reviews": 1997
        },
        {
         "_deepnote_index_column": 44726,
         "app_id": 2291760,
         "positive_ratio": 99,
         "rating_numeric": 5,
         "title": "Papa's Freezeria Deluxe",
         "user_reviews": 1964
        }
       ]
      },
      "text/html": [
       "<div>\n",
       "<style scoped>\n",
       "    .dataframe tbody tr th:only-of-type {\n",
       "        vertical-align: middle;\n",
       "    }\n",
       "\n",
       "    .dataframe tbody tr th {\n",
       "        vertical-align: top;\n",
       "    }\n",
       "\n",
       "    .dataframe thead th {\n",
       "        text-align: right;\n",
       "    }\n",
       "</style>\n",
       "<table border=\"1\" class=\"dataframe\">\n",
       "  <thead>\n",
       "    <tr style=\"text-align: right;\">\n",
       "      <th></th>\n",
       "      <th>app_id</th>\n",
       "      <th>title</th>\n",
       "      <th>rating_numeric</th>\n",
       "      <th>positive_ratio</th>\n",
       "      <th>user_reviews</th>\n",
       "    </tr>\n",
       "  </thead>\n",
       "  <tbody>\n",
       "    <tr>\n",
       "      <th>2287</th>\n",
       "      <td>2206340</td>\n",
       "      <td>Aokana - Four Rhythms Across the Blue - EXTRA2</td>\n",
       "      <td>5</td>\n",
       "      <td>100</td>\n",
       "      <td>530</td>\n",
       "    </tr>\n",
       "    <tr>\n",
       "      <th>47789</th>\n",
       "      <td>431730</td>\n",
       "      <td>Aseprite</td>\n",
       "      <td>5</td>\n",
       "      <td>99</td>\n",
       "      <td>11608</td>\n",
       "    </tr>\n",
       "    <tr>\n",
       "      <th>674</th>\n",
       "      <td>1144400</td>\n",
       "      <td>Senren＊Banka</td>\n",
       "      <td>5</td>\n",
       "      <td>99</td>\n",
       "      <td>11410</td>\n",
       "    </tr>\n",
       "    <tr>\n",
       "      <th>13392</th>\n",
       "      <td>1055540</td>\n",
       "      <td>A Short Hike</td>\n",
       "      <td>5</td>\n",
       "      <td>99</td>\n",
       "      <td>10534</td>\n",
       "    </tr>\n",
       "    <tr>\n",
       "      <th>29131</th>\n",
       "      <td>1698960</td>\n",
       "      <td>Project Kat - Paper Lily Prologue</td>\n",
       "      <td>5</td>\n",
       "      <td>99</td>\n",
       "      <td>3582</td>\n",
       "    </tr>\n",
       "    <tr>\n",
       "      <th>48525</th>\n",
       "      <td>1260520</td>\n",
       "      <td>Patrick's Parabox</td>\n",
       "      <td>5</td>\n",
       "      <td>99</td>\n",
       "      <td>2367</td>\n",
       "    </tr>\n",
       "    <tr>\n",
       "      <th>2577</th>\n",
       "      <td>1307580</td>\n",
       "      <td>TOEM</td>\n",
       "      <td>5</td>\n",
       "      <td>99</td>\n",
       "      <td>2321</td>\n",
       "    </tr>\n",
       "    <tr>\n",
       "      <th>16587</th>\n",
       "      <td>1901370</td>\n",
       "      <td>Ib</td>\n",
       "      <td>5</td>\n",
       "      <td>99</td>\n",
       "      <td>2073</td>\n",
       "    </tr>\n",
       "    <tr>\n",
       "      <th>2764</th>\n",
       "      <td>1530140</td>\n",
       "      <td>Aventura Copilului Albastru și Urât</td>\n",
       "      <td>5</td>\n",
       "      <td>99</td>\n",
       "      <td>1997</td>\n",
       "    </tr>\n",
       "    <tr>\n",
       "      <th>44726</th>\n",
       "      <td>2291760</td>\n",
       "      <td>Papa's Freezeria Deluxe</td>\n",
       "      <td>5</td>\n",
       "      <td>99</td>\n",
       "      <td>1964</td>\n",
       "    </tr>\n",
       "  </tbody>\n",
       "</table>\n",
       "</div>"
      ],
      "text/plain": [
       "        app_id                                           title  \\\n",
       "2287   2206340  Aokana - Four Rhythms Across the Blue - EXTRA2   \n",
       "47789   431730                                        Aseprite   \n",
       "674    1144400                                    Senren＊Banka   \n",
       "13392  1055540                                    A Short Hike   \n",
       "29131  1698960               Project Kat - Paper Lily Prologue   \n",
       "48525  1260520                               Patrick's Parabox   \n",
       "2577   1307580                                            TOEM   \n",
       "16587  1901370                                              Ib   \n",
       "2764   1530140             Aventura Copilului Albastru și Urât   \n",
       "44726  2291760                         Papa's Freezeria Deluxe   \n",
       "\n",
       "       rating_numeric  positive_ratio  user_reviews  \n",
       "2287                5             100           530  \n",
       "47789               5              99         11608  \n",
       "674                 5              99         11410  \n",
       "13392               5              99         10534  \n",
       "29131               5              99          3582  \n",
       "48525               5              99          2367  \n",
       "2577                5              99          2321  \n",
       "16587               5              99          2073  \n",
       "2764                5              99          1997  \n",
       "44726               5              99          1964  "
      ]
     },
     "metadata": {},
     "output_type": "display_data"
    }
   ],
   "source": [
    "# Top_Popularity_Games = games.sort_values(['rating_numeric', 'positive_ratio', 'user_reviews'], ascending=False)\n",
    "\n",
    "# TopN = 10\n",
    "# Top_Popularity_Games = Top_Popularity_Games[['app_id', 'title', 'rating_numeric', 'positive_ratio', 'user_reviews']].head(TopN)\n",
    "# Top_Popularity_Games"
   ]
  },
  {
   "cell_type": "markdown",
   "metadata": {},
   "source": []
  },
  {
   "cell_type": "markdown",
   "metadata": {},
   "source": [
    "Define game popularity as the highest number of recommended reviews:"
   ]
  },
  {
   "cell_type": "code",
   "execution_count": null,
   "metadata": {},
   "outputs": [
    {
     "name": "stdout",
     "output_type": "stream",
     "text": [
      "X_train: 8001363 rows from 4633398 unique users\n",
      "X_test: 1998637 rows from 1158350 unique users\n"
     ]
    }
   ],
   "source": [
    "## split the data by users to prevent data leakage\n",
    "review_users = recommendations.user_id.unique()\n",
    "train_users, test_users = train_test_split(review_users, test_size=0.2, random_state=RANDOM_SEED)\n",
    "\n",
    "X_train = recommendations[recommendations.user_id.isin(train_users)] \n",
    "X_test = recommendations[recommendations.user_id.isin(test_users)]\n",
    "print('X_train: {} rows from {} unique users'.format(len(X_train.app_id), len(train_users)))\n",
    "print('X_test: {} rows from {} unique users'.format(len(X_test.app_id), len(test_users)))"
   ]
  },
  {
   "cell_type": "code",
   "execution_count": null,
   "metadata": {},
   "outputs": [],
   "source": [
    "# Evaluate the accuracy of the recommender system using precision, recall, and average precision\n",
    "\n",
    "def precision_at_n(recommendations, ground_truth, n):\n",
    "    # Compute the precision@n\n",
    "    recommended_items = set(recommendations[:n])\n",
    "    relevant_items = set(ground_truth)\n",
    "    return len(recommended_items.intersection(relevant_items)) / n\n",
    "\n",
    "def recall_at_n(recommendations, ground_truth, n):\n",
    "    # Compute the recall@n\n",
    "    recommended_items = set(recommendations[:n])\n",
    "    relevant_items = set(ground_truth)\n",
    "    return len(recommended_items.intersection(relevant_items)) / len(relevant_items)\n",
    "\n",
    "def average_precision_at_cutoff(recommendations, ground_truth, n):\n",
    "    # Compute the average precision at cutoff\n",
    "    precision_sum = 0\n",
    "    relevant_count = 0\n",
    "\n",
    "    for i, item in enumerate(recommendations[:n]):\n",
    "        if item in ground_truth:\n",
    "            relevant_count += 1\n",
    "            precision_sum += precision_at_n(recommendations, ground_truth, i + 1)\n",
    "\n",
    "    return precision_sum / min(n, len(ground_truth))\n",
    "\n",
    "def average_precision(recommender, ground_truth):\n",
    "    is_relevant = np.array([int(item in ground_truth) for item in recommender])\n",
    "    p_at_k = is_relevant * np.cumsum(is_relevant) / (1 + np.arange(is_relevant.shape[0]))\n",
    "    avg_precision = np.sum(p_at_k) / is_relevant.shape[0]\n",
    "\n",
    "    return avg_precision    "
   ]
  },
  {
   "cell_type": "code",
   "execution_count": null,
   "metadata": {},
   "outputs": [
    {
     "ename": "NameError",
     "evalue": "name 'X_train' is not defined",
     "output_type": "error",
     "traceback": [
      "\u001b[0;31m---------------------------------------------------------------------------\u001b[0m\n",
      "\u001b[0;31mNameError\u001b[0m                                 Traceback (most recent call last)\n",
      "Cell \u001b[0;32mIn [1], line 3\u001b[0m\n",
      "\u001b[1;32m      1\u001b[0m \u001b[38;5;66;03m## recommendations based on the top N most reviewed games in test set:\u001b[39;00m\n",
      "\u001b[1;32m      2\u001b[0m N \u001b[38;5;241m=\u001b[39m \u001b[38;5;241m10\u001b[39m\n",
      "\u001b[0;32m----> 3\u001b[0m popularity \u001b[38;5;241m=\u001b[39m \u001b[43mX_train\u001b[49m[X_train\u001b[38;5;241m.\u001b[39mis_recommended]\u001b[38;5;241m.\u001b[39mapp_id\u001b[38;5;241m.\u001b[39mvalue_counts()[:N]\u001b[38;5;241m.\u001b[39mreset_index()\n",
      "\u001b[1;32m      4\u001b[0m popularity\u001b[38;5;241m.\u001b[39mcolumns \u001b[38;5;241m=\u001b[39m [\u001b[38;5;124m'\u001b[39m\u001b[38;5;124mapp_id\u001b[39m\u001b[38;5;124m'\u001b[39m, \u001b[38;5;124m'\u001b[39m\u001b[38;5;124mreview_count\u001b[39m\u001b[38;5;124m'\u001b[39m]\n",
      "\u001b[1;32m      5\u001b[0m top_popularity \u001b[38;5;241m=\u001b[39m popularity\u001b[38;5;241m.\u001b[39mapp_id\u001b[38;5;241m.\u001b[39mtolist()\n",
      "\n",
      "\u001b[0;31mNameError\u001b[0m: name 'X_train' is not defined"
     ]
    }
   ],
   "source": [
    "## recommendations based on the top N most reviewed games in test set:\n",
    "N = 10\n",
    "popularity = X_train[X_train.is_recommended].app_id.value_counts()[:N].reset_index()\n",
    "popularity.columns = ['app_id', 'review_count']\n",
    "top_popularity = popularity.app_id.tolist()\n",
    "\n",
    "# ground truth for each user\n",
    "popularity_recs = (\n",
    "    X_test[X_test.is_recommended]\n",
    "    .sort_values('hours',ascending=False)\n",
    "    .groupby('user_id')['app_id'].agg(list)\n",
    "    .reset_index()\n",
    ")\n",
    "popularity_recs.columns = ['user_id', 'ground_truth']\n",
    "\n",
    "popularity_recs['recommender'] = popularity_recs.user_id.apply(lambda x: list(top_popularity)) \n",
    "popularity_recs['precision'] =  popularity_recs.ground_truth.apply(lambda g: precision_at_n(top_popularity, g, N))\n",
    "popularity_recs['avg_precision'] =  popularity_recs.ground_truth.apply(lambda g: average_precision(top_popularity, g))\n",
    "\n",
    "# print(\"Precision@{}: {:.2f}\".format(N, precision))\n",
    "# print(\"Recall@{}: {:.2f}\".format(N, recall))\n",
    "print(\"Mean Average Precision@{}: {:.2f}\".format(N, popularity_recs.avg_precision.mean()))\n",
    "\n",
    "popularity_recs.head(10)"
   ]
  },
  {
   "cell_type": "code",
   "execution_count": null,
   "metadata": {},
   "outputs": [],
   "source": [
    "# Compute the popularity of each game based on the number of reviews\n",
    "popularity = recommendations['app_id'].value_counts().reset_index()\n",
    "\n",
    "# Sort the games by popularity in descending order\n",
    "popularity.columns = ['app_id', 'review_count']\n",
    "popularity = popularity.sort_values(by='review_count', ascending=False)\n",
    "\n",
    "# Define the number of popular reviews to assign to each gamer\n",
    "N = 10\n",
    "\n",
    "# Create a dictionary to store the recommendations for each gamer\n",
    "recommendations_dict = {}\n",
    "\n",
    "# For each gamer, assign the N most popular reviews as recommendations\n",
    "for gamer in recommendations['user_id'].unique():\n",
    "    recommendations_dict[gamer] = list(popularity['app_id'].head(N))"
   ]
  },
  {
   "cell_type": "code",
   "execution_count": null,
   "metadata": {},
   "outputs": [
    {
     "name": "stdout",
     "output_type": "stream",
     "text": [
      "Precision@10: 0.10\n",
      "Recall@10: 1.00\n",
      "Average Precision@10: 1.00\n"
     ]
    }
   ],
   "source": [
    "# Example usage:\n",
    "gamer_id = 51580\n",
    "ground_truth = [252490]  # List of games that the gamer actually liked\n",
    "\n",
    "precision = precision_at_n(recommendations_dict[gamer_id], ground_truth, N)\n",
    "recall = recall_at_n(recommendations_dict[gamer_id], ground_truth, N)\n",
    "avg_precision = average_precision_at_cutoff(recommendations_dict[gamer_id], ground_truth, N)\n",
    "\n",
    "print(\"Precision@{}: {:.2f}\".format(N, precision))\n",
    "print(\"Recall@{}: {:.2f}\".format(N, recall))\n",
    "print(\"Average Precision@{}: {:.2f}\".format(N, avg_precision))"
   ]
  },
  {
   "cell_type": "code",
   "execution_count": null,
   "metadata": {},
   "outputs": [
    {
     "ename": "KernelInterrupted",
     "evalue": "Execution interrupted by the Jupyter kernel.",
     "output_type": "error",
     "traceback": [
      "\u001b[0;31m---------------------------------------------------------------------------\u001b[0m\n",
      "\u001b[0;31mKernelInterrupted\u001b[0m: Execution interrupted by the Jupyter kernel."
     ]
    }
   ],
   "source": [
    "from sklearn.feature_extraction.text import CountVectorizer\n",
    "from sklearn.metrics.pairwise import cosine_similarity\n",
    "\n",
    "# Feature Engineering: Create a bag-of-words representation of game descriptions\n",
    "vectorizer = CountVectorizer()\n",
    "game_descriptions = vectorizer.fit_transform(games_metadata[\"description\"])\n",
    "\n",
    "# Compute cosine similarity matrix\n",
    "cosine_sim = cosine_similarity(game_descriptions, game_descriptions)\n"
   ]
  },
  {
   "cell_type": "code",
   "execution_count": null,
   "metadata": {},
   "outputs": [],
   "source": [
    "# Function to get recommended games based on input game\n",
    "def get_recommendations(app_id, similarity_matrix,dataset, top_n=5):\n",
    "    # Get the index of the game\n",
    "    game_index = dataset[dataset[\"app_id\"] == app_id].index[0]\n",
    "    \n",
    "    # Get the similarity scores of the game with all other games\n",
    "    sim_scores = list(enumerate(similarity_matrix[game_index]))\n",
    "    \n",
    "    # Sort the games based on similarity scores\n",
    "    sim_scores = sorted(sim_scores, key=lambda x: x[1], reverse=True)\n",
    "    \n",
    "    # Get the top N most similar games (excluding the input game itself)\n",
    "    top_games_indices = [i[0] for i in sim_scores[1:top_n+1]]\n",
    "    top_games = top_games_indices\n",
    "    \n",
    "    return top_games"
   ]
  },
  {
   "cell_type": "code",
   "execution_count": null,
   "metadata": {},
   "outputs": [],
   "source": [
    "get_recommendations(113020,cosine_sim,games_metadata)"
   ]
  },
  {
   "cell_type": "markdown",
   "metadata": {},
   "source": [
    "## Content-based filtering"
   ]
  },
  {
   "cell_type": "code",
   "execution_count": null,
   "metadata": {},
   "outputs": [
    {
     "ename": "NameError",
     "evalue": "name 'matrix_games_tags' is not defined",
     "output_type": "error",
     "traceback": [
      "\u001b[0;31m---------------------------------------------------------------------------\u001b[0m\n",
      "\u001b[0;31mNameError\u001b[0m                                 Traceback (most recent call last)\n",
      "Cell \u001b[0;32mIn [1], line 1\u001b[0m\n",
      "\u001b[0;32m----> 1\u001b[0m \u001b[43mmatrix_games_tags\u001b[49m\u001b[38;5;241m.\u001b[39minfo()\n",
      "\n",
      "\u001b[0;31mNameError\u001b[0m: name 'matrix_games_tags' is not defined"
     ]
    }
   ],
   "source": [
    "matrix_games_tags.info()"
   ]
  },
  {
   "cell_type": "markdown",
   "metadata": {},
   "source": [
    "### Dimensionality Reduction"
   ]
  },
  {
   "cell_type": "markdown",
   "metadata": {},
   "source": [
    "Principal Component Analysis is conducted to reduce the number of game tags."
   ]
  },
  {
   "cell_type": "code",
   "execution_count": null,
   "metadata": {},
   "outputs": [],
   "source": [
    "pca = PCA(n_components=len(matrix_games_tags.columns))\n",
    "pca.fit(matrix_games_tags)\n",
    "cumulative_variance_ratio = np.cumsum(pca.explained_variance_ratio_)"
   ]
  },
  {
   "cell_type": "code",
   "execution_count": null,
   "metadata": {},
   "outputs": [],
   "source": [
    "# Finding the suitable value of k\n",
    "k = np.argmax(cumulative_variance_ratio >= 0.95) + 1\n",
    "\n",
    "print(\"The suitable value of k for PCA with a threshold of 0.95 is:\", k)\n",
    "\n",
    "# View cumulative explained variance ratio with threshold\n",
    "plt.plot(range(1, len(cumulative_variance_ratio) + 1), cumulative_variance_ratio, marker='o')\n",
    "plt.axhline(y=0.95, color='r', linestyle='--', label='Threshold: 0.95')\n",
    "plt.xlabel('Number of Principal Components')\n",
    "plt.ylabel('Cumulative Explained Variance Ratio')\n",
    "plt.title('Cumulative Explained Variance Ratio by Number of Principal Components')\n",
    "plt.grid(True)\n",
    "plt.show()"
   ]
  },
  {
   "cell_type": "markdown",
   "metadata": {},
   "source": [
    "# "
   ]
  },
  {
   "cell_type": "markdown",
   "metadata": {},
   "source": []
  },
  {
   "cell_type": "code",
   "execution_count": null,
   "metadata": {},
   "outputs": [],
   "source": [
    "N = 10\n",
    "k = 250\n",
    "# Dimensionality Reduction: Apply PCA\n",
    "pca = PCA(n_components=k)  # Set the desired number of components, k\n",
    "reduced_features = pca.fit_transform(matrix_games_tags)\n",
    "\n",
    "# Convert the reduced_features array back to a DataFrame\n",
    "reduced_matrix_games_tags = pd.DataFrame(reduced_features, index=matrix_games_tags.index)\n",
    "\n",
    "# Content-based Filtering (Similarity)\n",
    "# Calculate similarity matrix\n",
    "similarity_matrix = cosine_similarity(reduced_matrix_games_tags)"
   ]
  },
  {
   "cell_type": "code",
   "execution_count": null,
   "metadata": {},
   "outputs": [],
   "source": [
    "# Example on one game\n",
    "selected_game_id = 12345  # Choose the game ID for which you want to find similar games\n",
    "similarity_scores = similarity_matrix[selected_game_id]\n",
    "similar_games_indices = similarity_scores.argsort()[::-1][:N]  # Select top N similar games\n",
    "\n",
    "recommended_games = matrix_games_tags.iloc[similar_games_indices].index.tolist()"
   ]
  }
 ],
 "metadata": {
  "language_info": {
   "name": "python"
  }
 },
 "nbformat": 4,
 "nbformat_minor": 2
}
