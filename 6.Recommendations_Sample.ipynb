{
 "cells": [
  {
   "cell_type": "markdown",
   "metadata": {},
   "source": [
    "# 6. Recommendations Sample"
   ]
  },
  {
   "cell_type": "markdown",
   "metadata": {},
   "source": [
    "## Introduction\n",
    "\n",
    "The purpose of this notebook is to reduce the size of the recommendations dataset that we can work on without incurring in memory issues\n",
    "\n",
    "The filtering is done via **random sampling**"
   ]
  },
  {
   "cell_type": "code",
   "execution_count": 1,
   "metadata": {},
   "outputs": [],
   "source": [
    "import pandas as pd\n",
    "import numpy as np\n",
    "import pickle\n",
    "from scipy import sparse\n",
    "import gzip\n"
   ]
  },
  {
   "cell_type": "code",
   "execution_count": 2,
   "metadata": {},
   "outputs": [],
   "source": [
    "### All random states are assigned to 42 for reproducible results\n",
    "RANDOM_SEED = 42\n",
    "np.random.seed(RANDOM_SEED)\n"
   ]
  },
  {
   "cell_type": "code",
   "execution_count": 3,
   "metadata": {},
   "outputs": [],
   "source": [
    "%run \"1.Recommendation_Loading.ipynb\""
   ]
  },
  {
   "cell_type": "markdown",
   "metadata": {},
   "source": [
    "## Filtering For Users and Games"
   ]
  },
  {
   "cell_type": "code",
   "execution_count": 4,
   "metadata": {},
   "outputs": [
    {
     "name": "stdout",
     "output_type": "stream",
     "text": [
      "Number of users 10,000\n",
      "First five users id [ 9880850 11308871 10339131  8414394  9734353]\n"
     ]
    }
   ],
   "source": [
    "def users_at_least_k_recs(df, K, n_users):\n",
    "    \"\"\"\n",
    "    Return a list of users who perform at least K recommendations. Also, filtering for n_users randomly selected\n",
    "    Args::\n",
    "        df: dataframe, recommendation dataset\n",
    "        K: integer, representing the minimum number of recommendations for a user to be included in the final list\n",
    "        n_users: integer, number of randomly selected users\n",
    "    Return:\n",
    "        users: a list of randomly selected users who perform at least K recommendations\n",
    "    \"\"\"\n",
    "    series = df.groupby(\"user_id_categorical\")[\"user_id_categorical\"].count()>=K\n",
    "    series1 = series[series]\n",
    "    users = list(series1.index)\n",
    "    return np.random.choice(users, size = n_users)\n",
    "\n",
    "users_to_keep = users_at_least_k_recs(recommendations, 20, 10000)\n",
    "print(\"Number of users\",  '{0:,.0f}'.format(len(users_to_keep)))\n",
    "print(\"First five users id\", users_to_keep[:5])\n"
   ]
  },
  {
   "cell_type": "markdown",
   "metadata": {},
   "source": [
    "## Loading the User-Game matrix and Apply Filtering"
   ]
  },
  {
   "cell_type": "code",
   "execution_count": 5,
   "metadata": {},
   "outputs": [
    {
     "name": "stderr",
     "output_type": "stream",
     "text": [
      "C:\\Users\\riccardoricci\\AppData\\Local\\Temp\\ipykernel_29720\\3332260560.py:3: DeprecationWarning: Please use `csr_matrix` from the `scipy.sparse` namespace, the `scipy.sparse.csr` namespace is deprecated.\n",
      "  data = pickle.load(f)\n"
     ]
    },
    {
     "data": {
      "text/plain": [
       "<12663134x37420 sparse matrix of type '<class 'numpy.int32'>'\n",
       "\twith 47967516 stored elements in Compressed Sparse Row format>"
      ]
     },
     "execution_count": 5,
     "metadata": {},
     "output_type": "execute_result"
    }
   ],
   "source": [
    "def decompress_pickle(input_file):\n",
    "    with gzip.open(input_file, 'rb') as f:\n",
    "        data = pickle.load(f)\n",
    "    return data\n",
    "\n",
    "user_game_matrix = decompress_pickle('matrix/user_game_matrix.pkl.gz')\n",
    "user_game_matrix\n"
   ]
  },
  {
   "cell_type": "code",
   "execution_count": 6,
   "metadata": {},
   "outputs": [
    {
     "name": "stdout",
     "output_type": "stream",
     "text": [
      "Number of Rows: 12,663,134\n",
      "Numbeer of Columns: 37,420\n",
      "Number of stored values: 47,967,516\n"
     ]
    }
   ],
   "source": [
    "# Convert this array/matrix to Dictionary Of Keys format\n",
    "# user_game_matrix = user_game_matrix.todok()\n",
    "print(\"Number of Rows:\", '{0:,.0f}'.format(user_game_matrix.shape[0]))\n",
    "print(\"Numbeer of Columns:\", '{0:,.0f}'.format(user_game_matrix.shape[1]))\n",
    "print(\"Number of stored values:\", '{0:,.0f}'.format(user_game_matrix.size))\n"
   ]
  },
  {
   "cell_type": "code",
   "execution_count": 7,
   "metadata": {},
   "outputs": [
    {
     "name": "stdout",
     "output_type": "stream",
     "text": [
      "Number of Rows: 9,690\n",
      "Numbeer of Columns: 37,420\n",
      "Number of stored values: 378,793\n"
     ]
    },
    {
     "data": {
      "text/plain": [
       "<9690x37420 sparse matrix of type '<class 'numpy.int32'>'\n",
       "\twith 378793 stored elements in Compressed Sparse Row format>"
      ]
     },
     "execution_count": 7,
     "metadata": {},
     "output_type": "execute_result"
    }
   ],
   "source": [
    "# FILTERING the MATRIX for USERS to KEEP\n",
    "# Matrix with only the subset of users who did at least k recs\n",
    "mask = np.isin(np.array(user_game_matrix[:,0].todense()).reshape(-1), users_to_keep)\n",
    "user_game_matrix_k_rec = user_game_matrix[mask]\n",
    "print(\"Number of Rows:\", '{0:,.0f}'.format(user_game_matrix_k_rec.shape[0]))\n",
    "print(\"Numbeer of Columns:\", '{0:,.0f}'.format(user_game_matrix_k_rec.shape[1]))\n",
    "print(\"Number of stored values:\", '{0:,.0f}'.format(user_game_matrix_k_rec.size))\n",
    "user_game_matrix_k_rec"
   ]
  },
  {
   "cell_type": "code",
   "execution_count": 8,
   "metadata": {},
   "outputs": [
    {
     "data": {
      "text/plain": [
       "matrix([[       0,        1,        2, ...,    37417,    37418,    37419],\n",
       "        [    2595,        0,        0, ...,        0,        0,        0],\n",
       "        [    3376,        0,        0, ...,        0,        0,        0],\n",
       "        ...,\n",
       "        [12660465,        0,        0, ...,        0,        0,        0],\n",
       "        [12661759,        0,        0, ...,        0,        0,        0],\n",
       "        [12662371,        0,        0, ...,        0,        0,        0]],\n",
       "       dtype=int32)"
      ]
     },
     "execution_count": 8,
     "metadata": {},
     "output_type": "execute_result"
    }
   ],
   "source": [
    "# INSERTING a GAME ID ROW to the user-game matrix\n",
    "games_id = np.arange(0, user_game_matrix_k_rec.shape[1]).reshape(1,-1)\n",
    "games_id = sparse.csc_matrix(games_id)\n",
    "user_game_matrix_k_rec = sparse.vstack((games_id, user_game_matrix_k_rec))\n",
    "user_game_matrix_k_rec = user_game_matrix_k_rec.tocsc()\n",
    "user_game_matrix_k_rec.todense()\n"
   ]
  },
  {
   "cell_type": "code",
   "execution_count": 9,
   "metadata": {},
   "outputs": [
    {
     "name": "stdout",
     "output_type": "stream",
     "text": [
      "Number of Rows: 9,691\n",
      "Numbeer of Columns: 21,488\n",
      "Number of stored values: 400,280\n"
     ]
    },
    {
     "data": {
      "text/plain": [
       "matrix([[       0,        1,        2, ...,    37399,    37401,    37414],\n",
       "        [    2595,        0,        0, ...,        0,        0,        0],\n",
       "        [    3376,        0,        0, ...,        0,        0,        0],\n",
       "        ...,\n",
       "        [12660465,        0,        0, ...,        0,        0,        0],\n",
       "        [12661759,        0,        0, ...,        0,        0,        0],\n",
       "        [12662371,        0,        0, ...,        0,        0,        0]],\n",
       "       dtype=int32)"
      ]
     },
     "execution_count": 9,
     "metadata": {},
     "output_type": "execute_result"
    }
   ],
   "source": [
    "# dropping games with no recommendations\n",
    "mask = list(np.array(np.sum(user_game_matrix_k_rec[1:,1:], axis=0)>=1).reshape(-1))\n",
    "mask.insert(0,True)\n",
    "user_game_matrix_k_rec = user_game_matrix_k_rec.T[mask].T\n",
    "print(\"Number of Rows:\", '{0:,.0f}'.format(user_game_matrix_k_rec.shape[0]))\n",
    "print(\"Numbeer of Columns:\", '{0:,.0f}'.format(user_game_matrix_k_rec.shape[1]))\n",
    "print(\"Number of stored values:\", '{0:,.0f}'.format(user_game_matrix_k_rec.size))\n",
    "user_game_matrix_k_rec.todense()"
   ]
  },
  {
   "cell_type": "code",
   "execution_count": 10,
   "metadata": {},
   "outputs": [],
   "source": [
    "# GAMES MAPPING \n",
    "# keys: integer, starting from 1 which are the columns of the filtered matrix\n",
    "# values: original app_id_categorical\n",
    "all_games = np.array(user_game_matrix_k_rec[0,1:].todense()).reshape(-1)\n",
    "games_mapping = {k:i for k,i in enumerate(all_games)}\n",
    "swapped_games_dict = {v: k for k, v in games_mapping.items()}\n",
    "# swapped_games_dict[3481]"
   ]
  },
  {
   "cell_type": "code",
   "execution_count": 11,
   "metadata": {},
   "outputs": [],
   "source": [
    "# USERS mapping\n",
    "users_to_keep = np.array(user_game_matrix_k_rec[1:,0].todense()).reshape(-1)\n",
    "users_mapping = {k:i for k,i in enumerate(users_to_keep)}\n",
    "swapped_users_dict = {v: k for k, v in users_mapping.items()}\n"
   ]
  },
  {
   "cell_type": "code",
   "execution_count": 12,
   "metadata": {},
   "outputs": [
    {
     "data": {
      "text/html": [
       "<div>\n",
       "<style scoped>\n",
       "    .dataframe tbody tr th:only-of-type {\n",
       "        vertical-align: middle;\n",
       "    }\n",
       "\n",
       "    .dataframe tbody tr th {\n",
       "        vertical-align: top;\n",
       "    }\n",
       "\n",
       "    .dataframe thead th {\n",
       "        text-align: right;\n",
       "    }\n",
       "</style>\n",
       "<table border=\"1\" class=\"dataframe\">\n",
       "  <thead>\n",
       "    <tr style=\"text-align: right;\">\n",
       "      <th></th>\n",
       "      <th>app_id</th>\n",
       "      <th>helpful</th>\n",
       "      <th>funny</th>\n",
       "      <th>date</th>\n",
       "      <th>is_recommended</th>\n",
       "      <th>hours</th>\n",
       "      <th>user_id</th>\n",
       "      <th>review_id</th>\n",
       "      <th>user_id_categorical</th>\n",
       "      <th>app_id_categorical</th>\n",
       "    </tr>\n",
       "  </thead>\n",
       "  <tbody>\n",
       "    <tr>\n",
       "      <th>26924891</th>\n",
       "      <td>20920</td>\n",
       "      <td>2</td>\n",
       "      <td>0</td>\n",
       "      <td>2019-11-26</td>\n",
       "      <td>1</td>\n",
       "      <td>102.2</td>\n",
       "      <td>2881</td>\n",
       "      <td>26924891</td>\n",
       "      <td>2595</td>\n",
       "      <td>455</td>\n",
       "    </tr>\n",
       "    <tr>\n",
       "      <th>30777575</th>\n",
       "      <td>233130</td>\n",
       "      <td>4</td>\n",
       "      <td>0</td>\n",
       "      <td>2021-08-24</td>\n",
       "      <td>1</td>\n",
       "      <td>32.0</td>\n",
       "      <td>2881</td>\n",
       "      <td>30777575</td>\n",
       "      <td>2595</td>\n",
       "      <td>1650</td>\n",
       "    </tr>\n",
       "    <tr>\n",
       "      <th>24970114</th>\n",
       "      <td>445980</td>\n",
       "      <td>0</td>\n",
       "      <td>0</td>\n",
       "      <td>2022-05-19</td>\n",
       "      <td>1</td>\n",
       "      <td>42.5</td>\n",
       "      <td>2881</td>\n",
       "      <td>24970114</td>\n",
       "      <td>2595</td>\n",
       "      <td>7544</td>\n",
       "    </tr>\n",
       "    <tr>\n",
       "      <th>30211735</th>\n",
       "      <td>1237980</td>\n",
       "      <td>0</td>\n",
       "      <td>3</td>\n",
       "      <td>2022-05-19</td>\n",
       "      <td>1</td>\n",
       "      <td>31.8</td>\n",
       "      <td>2881</td>\n",
       "      <td>30211735</td>\n",
       "      <td>2595</td>\n",
       "      <td>25073</td>\n",
       "    </tr>\n",
       "    <tr>\n",
       "      <th>37812169</th>\n",
       "      <td>33120</td>\n",
       "      <td>0</td>\n",
       "      <td>0</td>\n",
       "      <td>2021-04-05</td>\n",
       "      <td>1</td>\n",
       "      <td>103.5</td>\n",
       "      <td>2881</td>\n",
       "      <td>37812169</td>\n",
       "      <td>2595</td>\n",
       "      <td>622</td>\n",
       "    </tr>\n",
       "  </tbody>\n",
       "</table>\n",
       "</div>"
      ],
      "text/plain": [
       "           app_id  helpful  funny        date  is_recommended  hours  user_id  \\\n",
       "26924891    20920        2      0  2019-11-26               1  102.2     2881   \n",
       "30777575   233130        4      0  2021-08-24               1   32.0     2881   \n",
       "24970114   445980        0      0  2022-05-19               1   42.5     2881   \n",
       "30211735  1237980        0      3  2022-05-19               1   31.8     2881   \n",
       "37812169    33120        0      0  2021-04-05               1  103.5     2881   \n",
       "\n",
       "          review_id  user_id_categorical  app_id_categorical  \n",
       "26924891   26924891                 2595                 455  \n",
       "30777575   30777575                 2595                1650  \n",
       "24970114   24970114                 2595                7544  \n",
       "30211735   30211735                 2595               25073  \n",
       "37812169   37812169                 2595                 622  "
      ]
     },
     "execution_count": 12,
     "metadata": {},
     "output_type": "execute_result"
    }
   ],
   "source": [
    "def build_recommendations_sample(df):\n",
    "    \"\"\"\n",
    "    Filtering the recommendations dataset for the random sampled users \n",
    "    \"\"\"\n",
    "    recommendations_sample = df[(df[\"user_id_categorical\"].isin(users_to_keep))]\n",
    "    return recommendations_sample\n",
    "\n",
    "recommendations_sample = build_recommendations_sample(recommendations)\n",
    "recommendations_sample.head()\n"
   ]
  }
 ],
 "metadata": {
  "kernelspec": {
   "display_name": "Python 3",
   "language": "python",
   "name": "python3"
  },
  "language_info": {
   "codemirror_mode": {
    "name": "ipython",
    "version": 3
   },
   "file_extension": ".py",
   "mimetype": "text/x-python",
   "name": "python",
   "nbconvert_exporter": "python",
   "pygments_lexer": "ipython3",
   "version": "3.9.18"
  }
 },
 "nbformat": 4,
 "nbformat_minor": 2
}
