{
 "cells": [
  {
   "cell_type": "markdown",
   "metadata": {},
   "source": [
    "## Content-based filtering"
   ]
  },
  {
   "cell_type": "code",
   "execution_count": null,
   "metadata": {},
   "outputs": [
    {
     "ename": "NameError",
     "evalue": "name 'matrix_games_tags' is not defined",
     "output_type": "error",
     "traceback": [
      "\u001b[0;31m---------------------------------------------------------------------------\u001b[0m\n",
      "\n",
      "\u001b[0;31mNameError\u001b[0m                                 Traceback (most recent call last)\n",
      "\n",
      "Cell \u001b[0;32mIn [1], line 1\u001b[0m\n",
      "\n",
      "\u001b[0;32m----> 1\u001b[0m \u001b[43mmatrix_games_tags\u001b[49m\u001b[38;5;241m.\u001b[39minfo()\n",
      "\n",
      "\n",
      "\n",
      "\u001b[0;31mNameError\u001b[0m: name 'matrix_games_tags' is not defined"
     ]
    }
   ],
   "source": [
    "matrix_games_tags.info()"
   ]
  },
  {
   "cell_type": "markdown",
   "metadata": {},
   "source": [
    "### Dimensionality Reduction"
   ]
  },
  {
   "cell_type": "markdown",
   "metadata": {},
   "source": [
    "Principal Component Analysis is conducted to reduce the number of game tags."
   ]
  },
  {
   "cell_type": "code",
   "execution_count": null,
   "metadata": {},
   "outputs": [],
   "source": [
    "pca = PCA(n_components=len(matrix_games_tags.columns))\n",
    "pca.fit(matrix_games_tags)\n",
    "cumulative_variance_ratio = np.cumsum(pca.explained_variance_ratio_)"
   ]
  },
  {
   "cell_type": "code",
   "execution_count": null,
   "metadata": {},
   "outputs": [],
   "source": [
    "# Finding the suitable value of k\n",
    "k = np.argmax(cumulative_variance_ratio >= 0.95) + 1\n",
    "\n",
    "print(\"The suitable value of k for PCA with a threshold of 0.95 is:\", k)\n",
    "\n",
    "# View cumulative explained variance ratio with threshold\n",
    "plt.plot(range(1, len(cumulative_variance_ratio) + 1), cumulative_variance_ratio, marker='o')\n",
    "plt.axhline(y=0.95, color='r', linestyle='--', label='Threshold: 0.95')\n",
    "plt.xlabel('Number of Principal Components')\n",
    "plt.ylabel('Cumulative Explained Variance Ratio')\n",
    "plt.title('Cumulative Explained Variance Ratio by Number of Principal Components')\n",
    "plt.grid(True)\n",
    "plt.show()"
   ]
  },
  {
   "cell_type": "markdown",
   "metadata": {},
   "source": []
  },
  {
   "cell_type": "code",
   "execution_count": null,
   "metadata": {},
   "outputs": [],
   "source": [
    "N = 10\n",
    "k = 250\n",
    "# Dimensionality Reduction: Apply PCA\n",
    "pca = PCA(n_components=k)  # Set the desired number of components, k\n",
    "reduced_features = pca.fit_transform(matrix_games_tags)\n",
    "\n",
    "# Convert the reduced_features array back to a DataFrame\n",
    "reduced_matrix_games_tags = pd.DataFrame(reduced_features, index=matrix_games_tags.index)\n",
    "\n",
    "# Content-based Filtering (Similarity)\n",
    "# Calculate similarity matrix\n",
    "similarity_matrix = cosine_similarity(reduced_matrix_games_tags)"
   ]
  },
  {
   "cell_type": "code",
   "execution_count": null,
   "metadata": {},
   "outputs": [],
   "source": [
    "# Example on one game\n",
    "selected_game_id = 12345  # Choose the game ID for which you want to find similar games\n",
    "similarity_scores = similarity_matrix[selected_game_id]\n",
    "similar_games_indices = similarity_scores.argsort()[::-1][:N]  # Select top N similar games\n",
    "\n",
    "recommended_games = matrix_games_tags.iloc[similar_games_indices].index.tolist()"
   ]
  }
 ],
 "metadata": {
  "language_info": {
   "name": "python"
  }
 },
 "nbformat": 4,
 "nbformat_minor": 2
}
