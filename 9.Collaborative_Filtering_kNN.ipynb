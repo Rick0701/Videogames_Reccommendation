{
 "cells": [
  {
   "cell_type": "markdown",
   "metadata": {},
   "source": [
    "# 9. Collaborative Filtering - k-NN"
   ]
  },
  {
   "cell_type": "code",
   "execution_count": 123,
   "metadata": {},
   "outputs": [],
   "source": [
    "import pandas as pd\n",
    "import scipy as sp\n",
    "from sklearn.metrics.pairwise import cosine_similarity\n",
    "from sklearn.neighbors import NearestNeighbors\n"
   ]
  },
  {
   "cell_type": "code",
   "execution_count": 124,
   "metadata": {},
   "outputs": [
    {
     "name": "stdout",
     "output_type": "stream",
     "text": [
      "Number of users 10,000\n",
      "First five users id [ 9880850 11308871 10339131  8414394  9734353]\n",
      "Number of Rows: 12,663,134\n",
      "Numbeer of Columns: 37,420\n",
      "Number of stored values: 47,967,516\n",
      "Number of Rows: 9,690\n",
      "Numbeer of Columns: 37,420\n",
      "Number of stored values: 378,793\n",
      "Number of Rows: 9,691\n",
      "Numbeer of Columns: 21,488\n",
      "Number of stored values: 400,280\n"
     ]
    }
   ],
   "source": [
    "%run \"6.Recommendations_Sample.ipynb\""
   ]
  },
  {
   "cell_type": "code",
   "execution_count": 125,
   "metadata": {},
   "outputs": [],
   "source": [
    "pd.set_option('display.float_format', lambda x: '%.4f' % x)"
   ]
  },
  {
   "cell_type": "code",
   "execution_count": 126,
   "metadata": {},
   "outputs": [
    {
     "data": {
      "text/plain": [
       "(9690, 21487)"
      ]
     },
     "execution_count": 126,
     "metadata": {},
     "output_type": "execute_result"
    }
   ],
   "source": [
    "# Important to remove the user_id and game_id\n",
    "user_game_matrix_k_rec_values = user_game_matrix_k_rec[1:,1:]\n",
    "user_game_matrix_k_rec_values.shape"
   ]
  },
  {
   "cell_type": "markdown",
   "metadata": {},
   "source": [
    "## Training and Test Istances"
   ]
  },
  {
   "cell_type": "code",
   "execution_count": 127,
   "metadata": {},
   "outputs": [
    {
     "name": "stdout",
     "output_type": "stream",
     "text": [
      "x_test.shape (12959, 2)\n",
      "y_test.shape (12959, 1)\n",
      "Number of Users: 9,690\n",
      "Number of Games: 21,487\n",
      "x_train.shape (1834833, 2)\n",
      "y_train.shape (1834833, 2)\n"
     ]
    }
   ],
   "source": [
    "%run \"Get_Training_and_Test_Instances.ipynb\""
   ]
  },
  {
   "cell_type": "code",
   "execution_count": 128,
   "metadata": {},
   "outputs": [
    {
     "data": {
      "text/plain": [
       "array([[    0,  9870],\n",
       "       [    0, 16181],\n",
       "       [    0,  7728],\n",
       "       ...,\n",
       "       [ 9687, 17537],\n",
       "       [ 9688, 16945],\n",
       "       [ 9689, 15101]], dtype=int64)"
      ]
     },
     "execution_count": 128,
     "metadata": {},
     "output_type": "execute_result"
    }
   ],
   "source": [
    "x_test"
   ]
  },
  {
   "cell_type": "code",
   "execution_count": 129,
   "metadata": {},
   "outputs": [
    {
     "data": {
      "text/plain": [
       "array([[    0,     6],\n",
       "       [    0,     7],\n",
       "       [    0,     8],\n",
       "       ...,\n",
       "       [ 9689, 21160],\n",
       "       [ 9689, 21219],\n",
       "       [ 9689, 21248]])"
      ]
     },
     "execution_count": 129,
     "metadata": {},
     "output_type": "execute_result"
    }
   ],
   "source": [
    "x_train"
   ]
  },
  {
   "cell_type": "markdown",
   "metadata": {},
   "source": [
    "Removing the test item from the user game matrix which will be used for training"
   ]
  },
  {
   "cell_type": "code",
   "execution_count": 130,
   "metadata": {},
   "outputs": [],
   "source": [
    "for user_item in x_test:\n",
    "    user_game_matrix_k_rec_values = user_game_matrix_k_rec_values.astype('float32')\n",
    "    user_game_matrix_k_rec_values[user_item[0], user_item[1]] = np.NaN\n",
    "    user_game_matrix_k_rec_values = user_game_matrix_k_rec_values.astype('int8')"
   ]
  },
  {
   "cell_type": "markdown",
   "metadata": {},
   "source": [
    "## Cosine Similarity nad kNN Model"
   ]
  },
  {
   "cell_type": "code",
   "execution_count": 131,
   "metadata": {},
   "outputs": [],
   "source": [
    "similarities = cosine_similarity(user_game_matrix_k_rec_values)"
   ]
  },
  {
   "cell_type": "code",
   "execution_count": 132,
   "metadata": {},
   "outputs": [
    {
     "data": {
      "text/plain": [
       "(9690, 9690)"
      ]
     },
     "execution_count": 132,
     "metadata": {},
     "output_type": "execute_result"
    }
   ],
   "source": [
    "similarities.shape"
   ]
  },
  {
   "cell_type": "code",
   "execution_count": 134,
   "metadata": {},
   "outputs": [],
   "source": [
    "def knn_model(similarity_matrix, K, metric):\n",
    "    knn_model = NearestNeighbors(n_neighbors=K, metric=metric)\n",
    "    knn_model.fit(similarity_matrix)\n",
    "    # Create an empty table to store the nearest neighbors' indices and distances for all users\n",
    "    neighbor_table = []\n",
    "    \n",
    "    # Iterate over each user in the similarity matrix\n",
    "    for user_index in range(similarity_matrix.shape[0]):\n",
    "        # Query the nearest neighbors for the current user\n",
    "        query_user = similarity_matrix[user_index].reshape(1, -1)  # Reshape to match the input format\n",
    "        distances, neighbor_indices = knn_model.kneighbors(query_user, K)\n",
    "        \n",
    "        # Append the user's nearest neighbors' indices and distances to the table\n",
    "        neighbor_table.append({\"User\": user_index, \"Nearest Neighbors\": neighbor_indices[0], \"Distances\": distances[0]})\n",
    "\n",
    "    # Convert the table to a pandas DataFrame for easier visualization\n",
    "    neighbor_table_df = pd.DataFrame(neighbor_table)\n",
    "    return neighbor_table_df\n",
    "\n",
    "# Kn = 2\n",
    "# neighbor_table_df = knn_model(similarities, Kn, 'cosine')\n",
    "# neighbor_table_df.head()"
   ]
  },
  {
   "cell_type": "code",
   "execution_count": null,
   "metadata": {},
   "outputs": [],
   "source": [
    "# neighbor_table_df_explode = neighbor_table_df[neighbor_table_df[\"User\"]==96].explode([\"Nearest Neighbors\",\"Distances\"])"
   ]
  },
  {
   "cell_type": "markdown",
   "metadata": {},
   "source": [
    "## Model Evaluation"
   ]
  },
  {
   "cell_type": "code",
   "execution_count": 135,
   "metadata": {},
   "outputs": [],
   "source": [
    "%run \"Model_Evaluation.ipynb\""
   ]
  },
  {
   "cell_type": "code",
   "execution_count": 136,
   "metadata": {},
   "outputs": [],
   "source": [
    "def eval_k_kNN(userid1, userid2, relevant_items, x_train, y_train, x_test):\n",
    "    user_items1 = get_y_true(userid1, x_train, y_train)\n",
    "    user_items1_test = x_test[userid1][1]\n",
    "    user_items2 = get_y_true(userid2, x_train, y_train)\n",
    "    intersection = set(user_items1).intersection(set(user_items2))\n",
    "    prec = len(intersection) / relevant_items\n",
    "    precision = prec if prec <= 1 else 1 \n",
    "    recall = len(intersection) / len(set(user_items1))\n",
    "    hgr = 1 if user_items1_test in user_items2 else 0\n",
    "    return precision, recall, hgr\n",
    "    "
   ]
  },
  {
   "cell_type": "code",
   "execution_count": 138,
   "metadata": {},
   "outputs": [],
   "source": [
    "# eval_k_kNN(0, 625, 10, x_train, y_train, x_test)"
   ]
  },
  {
   "cell_type": "code",
   "execution_count": 139,
   "metadata": {},
   "outputs": [],
   "source": [
    "def avg_recall(row):\n",
    "     user_id_current = row[\"User\"]\n",
    "     precision_current = []\n",
    "     recall_current = []\n",
    "     hgr_current = []\n",
    "     for i, neigh in enumerate(row[\"Nearest Neighbors\"]):\n",
    "          # The computation should not be done for the same user\n",
    "          if i>0:\n",
    "               prec, recl, hgr = eval_k_kNN(user_id_current, neigh, 10, x_train, y_train, x_test)\n",
    "               precision_current.append(prec)\n",
    "               recall_current.append(recl)\n",
    "               hgr_current.append(hgr)\n",
    "     row[\"avg_precision\"] = np.mean(precision_current)\n",
    "     row[\"avg_recall\"] = np.mean(recall_current)\n",
    "     row[\"avg_hgr\"] = np.mean(hgr_current)\n",
    "     return row\n"
   ]
  },
  {
   "cell_type": "code",
   "execution_count": null,
   "metadata": {},
   "outputs": [],
   "source": [
    "# neighbor_table_df[\"avg_precision\"] = np.NaN\n",
    "# neighbor_table_df[\"avg_recall\"] = np.NaN"
   ]
  },
  {
   "cell_type": "code",
   "execution_count": null,
   "metadata": {},
   "outputs": [],
   "source": [
    "# neighbor_table_df_acc = neighbor_table_df.apply(avg_recall, axis=1)\n",
    "# neighbor_table_df_acc.head()"
   ]
  },
  {
   "cell_type": "code",
   "execution_count": 140,
   "metadata": {},
   "outputs": [],
   "source": [
    "def accuracy_model(df):\n",
    "    avg_prec_model = np.mean(df[\"avg_precision\"])\n",
    "    avg_recall_model = np.mean(df[\"avg_recall\"])\n",
    "    avg_hgr = np.mean(df[\"avg_hgr\"])\n",
    "    return avg_prec_model, avg_recall_model, avg_hgr\n",
    "\n",
    "# accuracy_model(neighbor_table_df_acc)"
   ]
  },
  {
   "cell_type": "code",
   "execution_count": 141,
   "metadata": {},
   "outputs": [
    {
     "name": "stdout",
     "output_type": "stream",
     "text": [
      "############ K = 2  ####################\n",
      "############ K = 3  ####################\n",
      "############ K = 4  ####################\n",
      "############ K = 5  ####################\n"
     ]
    }
   ],
   "source": [
    "precision_model = []\n",
    "recall_model = []\n",
    "hgr_model = []\n",
    "num_neighbours = 6\n",
    "\n",
    "for k in range(2,num_neighbours):\n",
    "    print(\"############ K =\", k, \" ####################\")\n",
    "    neighbor_table_df = knn_model(similarities, k, 'cosine')\n",
    "    neighbor_table_df_acc = neighbor_table_df.apply(avg_recall, axis=1)\n",
    "    prec, rec, hgr = accuracy_model(neighbor_table_df_acc)\n",
    "    precision_model.append(prec)\n",
    "    recall_model.append(rec)\n",
    "    hgr_model.append(hgr)\n",
    " "
   ]
  },
  {
   "cell_type": "code",
   "execution_count": 142,
   "metadata": {},
   "outputs": [
    {
     "data": {
      "text/plain": [
       "[0.7038183694530407,\n",
       " 0.6901857585139252,\n",
       " 0.6811627106983115,\n",
       " 0.6736403508771938]"
      ]
     },
     "execution_count": 142,
     "metadata": {},
     "output_type": "execute_result"
    }
   ],
   "source": [
    "precision_model"
   ]
  },
  {
   "cell_type": "code",
   "execution_count": 143,
   "metadata": {},
   "outputs": [
    {
     "data": {
      "text/plain": [
       "[0.24887453932305847,\n",
       " 0.24209969089920486,\n",
       " 0.23711104525727777,\n",
       " 0.23336328043614388]"
      ]
     },
     "execution_count": 143,
     "metadata": {},
     "output_type": "execute_result"
    }
   ],
   "source": [
    "recall_model"
   ]
  },
  {
   "cell_type": "code",
   "execution_count": 144,
   "metadata": {},
   "outputs": [
    {
     "data": {
      "text/plain": [
       "[0.04643962848297214,\n",
       " 0.04840041279669763,\n",
       " 0.04967320261437869,\n",
       " 0.05007739938080495]"
      ]
     },
     "execution_count": 144,
     "metadata": {},
     "output_type": "execute_result"
    }
   ],
   "source": [
    "hgr_model"
   ]
  },
  {
   "cell_type": "code",
   "execution_count": 145,
   "metadata": {},
   "outputs": [],
   "source": [
    "neighb = range(2,num_neighbours)"
   ]
  },
  {
   "cell_type": "code",
   "execution_count": 153,
   "metadata": {},
   "outputs": [
    {
     "data": {
      "image/png": "[encoded data removed]",
      "text/plain": [
       "<Figure size 432x288 with 1 Axes>"
      ]
     },
     "metadata": {
      "needs_background": "light"
     },
     "output_type": "display_data"
    }
   ],
   "source": [
    "plt.plot(neighb, precision_model, label='Avg Precision (Training Set)')\n",
    "plt.legend()\n",
    "plt.show()\n"
   ]
  },
  {
   "cell_type": "code",
   "execution_count": 154,
   "metadata": {},
   "outputs": [
    {
     "data": {
      "image/png": "[encoded data removed]",
      "text/plain": [
       "<Figure size 432x288 with 1 Axes>"
      ]
     },
     "metadata": {
      "needs_background": "light"
     },
     "output_type": "display_data"
    }
   ],
   "source": [
    "plt.plot(neighb, recall_model, label='Avg Recall (Training Set)')\n",
    "plt.legend()\n",
    "plt.show()"
   ]
  },
  {
   "cell_type": "code",
   "execution_count": 155,
   "metadata": {},
   "outputs": [
    {
     "data": {
      "image/png": "[encoded data removed]",
      "text/plain": [
       "<Figure size 432x288 with 1 Axes>"
      ]
     },
     "metadata": {
      "needs_background": "light"
     },
     "output_type": "display_data"
    }
   ],
   "source": [
    "plt.plot(neighb, hgr_model, label='Hit Gain Ratio (Test Set)')\n",
    "plt.legend()\n",
    "plt.show()"
   ]
  }
 ],
 "metadata": {
  "kernelspec": {
   "display_name": "base",
   "language": "python",
   "name": "python3"
  },
  "language_info": {
   "codemirror_mode": {
    "name": "ipython",
    "version": 3
   },
   "file_extension": ".py",
   "mimetype": "text/x-python",
   "name": "python",
   "nbconvert_exporter": "python",
   "pygments_lexer": "ipython3",
   "version": "3.9.12"
  }
 },
 "nbformat": 4,
 "nbformat_minor": 2
}
