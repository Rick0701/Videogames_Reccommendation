{
 "cells": [
  {
   "cell_type": "markdown",
   "metadata": {},
   "source": [
    "# 9. Collaborative Filtering - k-NN"
   ]
  },
  {
   "cell_type": "code",
   "execution_count": 1,
   "metadata": {},
   "outputs": [
    {
     "name": "stderr",
     "output_type": "stream",
     "text": [
      "/var/folders/zt/3tyx89hj6gnf_t8m4vc8mfwm0000gn/T/ipykernel_57571/2749845937.py:9: DtypeWarning: Columns (0,1,2,4,5,6,7) have mixed types. Specify dtype option on import or set low_memory=False.\n",
      "  chunk_df = pd.read_csv(file_path, header=None, skiprows=skiprow)\n"
     ]
    }
   ],
   "source": [
    "%run \"1.Recommendation_Loading.ipynb\""
   ]
  },
  {
   "cell_type": "code",
   "execution_count": 2,
   "metadata": {},
   "outputs": [],
   "source": [
    "import scipy as sp"
   ]
  },
  {
   "cell_type": "code",
   "execution_count": 3,
   "metadata": {},
   "outputs": [],
   "source": [
    "recommendations[\"date\"] = pd.to_datetime(recommendations[\"date\"])"
   ]
  },
  {
   "cell_type": "markdown",
   "metadata": {},
   "source": [
    "## Data Preparation"
   ]
  },
  {
   "cell_type": "markdown",
   "metadata": {},
   "source": [
    "### Filtering For Users and Games"
   ]
  },
  {
   "cell_type": "code",
   "execution_count": 4,
   "metadata": {},
   "outputs": [
    {
     "name": "stdout",
     "output_type": "stream",
     "text": [
      "Number of users 5,000\n",
      "First five users id [ 8425725  5039263 11252314 10079175   718140]\n"
     ]
    }
   ],
   "source": [
    "def users_at_least_k_recs(df, K, n_users):\n",
    "    \"\"\"\n",
    "    Return a list of users who perform at least K recommendations. Also, filtering for n_users randomòy selected\n",
    "    Args::\n",
    "        df: dataframe, recommendation dataset\n",
    "        K: integer, representing the minimum number of recommendations for a user to be included in the final list\n",
    "        n_users: integer, number of randomly selected users\n",
    "    Return:\n",
    "        users: a list of randomly selected users who perform at least K recommendations\n",
    "    \"\"\"\n",
    "    series = df.groupby(\"user_id_categorical\")[\"user_id_categorical\"].count()>=K\n",
    "    series1 = series[series]\n",
    "    users = list(series1.index)\n",
    "    return np.random.choice(users, size = n_users)\n",
    "\n",
    "users_to_keep = users_at_least_k_recs(recommendations, 20, 5000)\n",
    "print(\"Number of users\",  '{0:,.0f}'.format(len(users_to_keep)))\n",
    "print(\"First five users id\", users_to_keep[:5])\n"
   ]
  },
  {
   "cell_type": "markdown",
   "metadata": {},
   "source": [
    "### Loading the matrix and Apply Filtering"
   ]
  },
  {
   "cell_type": "code",
   "execution_count": 5,
   "metadata": {},
   "outputs": [
    {
     "name": "stderr",
     "output_type": "stream",
     "text": [
      "/var/folders/zt/3tyx89hj6gnf_t8m4vc8mfwm0000gn/T/ipykernel_57571/4252727310.py:7: DeprecationWarning: Please use `csc_matrix` from the `scipy.sparse` namespace, the `scipy.sparse.csc` namespace is deprecated.\n",
      "  user_game_matrix = pickle.load(file)\n"
     ]
    },
    {
     "name": "stdout",
     "output_type": "stream",
     "text": [
      "Number of Rows: 12,663,134\n",
      "Numbeer of Columns: 37,420\n",
      "Number of stored values: 47,967,516\n"
     ]
    }
   ],
   "source": [
    "# LOADING THE MATRIX\n",
    "# Due to the large memory requirements, the user-game matrix has been created in the notebook \"User-Games Matrix - Building\"\n",
    "import gzip\n",
    "import pickle\n",
    "\n",
    "with open(\"matrix/user_game_matrix.pkl\", 'rb') as file:\n",
    "    user_game_matrix = pickle.load(file)\n",
    "\n",
    "# Convert this array/matrix to Dictionary Of Keys format\n",
    "# user_game_matrix = user_game_matrix.todok()\n",
    "print(\"Number of Rows:\", '{0:,.0f}'.format(user_game_matrix.shape[0]))\n",
    "print(\"Numbeer of Columns:\", '{0:,.0f}'.format(user_game_matrix.shape[1]))\n",
    "print(\"Number of stored values:\", '{0:,.0f}'.format(user_game_matrix.size))\n"
   ]
  },
  {
   "cell_type": "code",
   "execution_count": 6,
   "metadata": {},
   "outputs": [
    {
     "name": "stdout",
     "output_type": "stream",
     "text": [
      "Number of Rows: 4,927\n",
      "Numbeer of Columns: 37,420\n",
      "Number of stored values: 20,124\n"
     ]
    },
    {
     "data": {
      "text/plain": [
       "<4927x37420 sparse matrix of type '<class 'numpy.int32'>'\n",
       "\twith 20124 stored elements in Compressed Sparse Column format>"
      ]
     },
     "execution_count": 6,
     "metadata": {},
     "output_type": "execute_result"
    }
   ],
   "source": [
    "# FILTERING the MATRIX for USERS to KEEP\n",
    "# Matrix with only the subset of users who did at least k recs\n",
    "mask = np.isin(np.array(user_game_matrix[:,0].todense()).reshape(-1), users_to_keep)\n",
    "user_game_matrix_k_rec = user_game_matrix[mask]\n",
    "print(\"Number of Rows:\", '{0:,.0f}'.format(user_game_matrix_k_rec.shape[0]))\n",
    "print(\"Numbeer of Columns:\", '{0:,.0f}'.format(user_game_matrix_k_rec.shape[1]))\n",
    "print(\"Number of stored values:\", '{0:,.0f}'.format(user_game_matrix_k_rec.size))\n",
    "user_game_matrix_k_rec"
   ]
  },
  {
   "cell_type": "code",
   "execution_count": 7,
   "metadata": {},
   "outputs": [
    {
     "data": {
      "text/plain": [
       "matrix([[       0,        1,        2, ...,    37417,    37418,    37419],\n",
       "        [    1358,        0,        0, ...,        0,        0,        0],\n",
       "        [    3400,        0,        0, ...,        0,        0,        0],\n",
       "        ...,\n",
       "        [12629139,        0,        0, ...,        0,        0,        0],\n",
       "        [12633117,        0,        0, ...,        0,        0,        0],\n",
       "        [12643129,        0,        0, ...,        0,        0,        0]])"
      ]
     },
     "execution_count": 7,
     "metadata": {},
     "output_type": "execute_result"
    }
   ],
   "source": [
    "# INSERTING a GAME ID ROW to the user-game matrix\n",
    "games_id = np.arange(0, user_game_matrix_k_rec.shape[1]).reshape(1,-1)\n",
    "games_id = sp.sparse.csc_matrix(games_id)\n",
    "user_game_matrix_k_rec = sp.sparse.vstack((games_id, user_game_matrix_k_rec))\n",
    "user_game_matrix_k_rec.todense()\n"
   ]
  },
  {
   "cell_type": "code",
   "execution_count": 8,
   "metadata": {},
   "outputs": [
    {
     "name": "stdout",
     "output_type": "stream",
     "text": [
      "Number of Rows: 4,928\n",
      "Numbeer of Columns: 3,884\n",
      "Number of stored values: 24,007\n"
     ]
    },
    {
     "data": {
      "text/plain": [
       "matrix([[       0,        1,        3, ...,    37127,    37324,    37365],\n",
       "        [    1358,        0,        0, ...,        0,        0,        0],\n",
       "        [    3400,        0,        0, ...,        0,        0,        0],\n",
       "        ...,\n",
       "        [12629139,        0,        0, ...,        0,        0,        0],\n",
       "        [12633117,        0,        0, ...,        0,        0,        0],\n",
       "        [12643129,        0,        0, ...,        0,        0,        0]])"
      ]
     },
     "execution_count": 8,
     "metadata": {},
     "output_type": "execute_result"
    }
   ],
   "source": [
    "# dropping games with no recommendations\n",
    "mask = list(np.array(np.sum(user_game_matrix_k_rec[1:,1:], axis=0)>=1).reshape(-1))\n",
    "mask.insert(0,True)\n",
    "user_game_matrix_k_rec = user_game_matrix_k_rec.T[mask].T\n",
    "print(\"Number of Rows:\", '{0:,.0f}'.format(user_game_matrix_k_rec.shape[0]))\n",
    "print(\"Numbeer of Columns:\", '{0:,.0f}'.format(user_game_matrix_k_rec.shape[1]))\n",
    "print(\"Number of stored values:\", '{0:,.0f}'.format(user_game_matrix_k_rec.size))\n",
    "user_game_matrix_k_rec.todense()"
   ]
  },
  {
   "cell_type": "code",
   "execution_count": 9,
   "metadata": {},
   "outputs": [],
   "source": [
    "# GAMES MAPPING \n",
    "# keys: integer, starting from 1 which are the columns of the filtered matrix\n",
    "# values: original app_id_categorical\n",
    "all_games = np.array(user_game_matrix_k_rec[0,1:].todense()).reshape(-1)\n",
    "games_mapping = {k:i for k,i in enumerate(all_games)}\n",
    "swapped_games_dict = {v: k for k, v in games_mapping.items()}\n",
    "# swapped_games_dict[3481]"
   ]
  },
  {
   "cell_type": "code",
   "execution_count": 10,
   "metadata": {},
   "outputs": [],
   "source": [
    "# USERS mapping\n",
    "users_to_keep = np.array(user_game_matrix_k_rec[1:,0].todense()).reshape(-1)\n",
    "users_mapping = {k:i for k,i in enumerate(users_to_keep)}\n",
    "swapped_users_dict = {v: k for k, v in users_mapping.items()}\n"
   ]
  },
  {
   "cell_type": "code",
   "execution_count": 11,
   "metadata": {},
   "outputs": [],
   "source": [
    "def build_recommendations_sample(df):\n",
    "    # recommendations_sample = df[(df[\"user_id_categorical\"].isin(users_to_keep)) & (df[\"app_id_categorical\"].isin(games_to_keep))]\n",
    "    recommendations_sample = df[(df[\"user_id_categorical\"].isin(users_to_keep))]\n",
    "    return recommendations_sample\n",
    "\n",
    "recommendations_sample = build_recommendations_sample(recommendations)\n",
    "# recommendations_sample[recommendations_sample[\"user_id_categorical\"]==731702]\n"
   ]
  },
  {
   "cell_type": "code",
   "execution_count": 12,
   "metadata": {},
   "outputs": [],
   "source": [
    "from sklearn.metrics.pairwise import cosine_similarity\n",
    "similarities = cosine_similarity(user_game_matrix_k_rec)"
   ]
  },
  {
   "cell_type": "code",
   "execution_count": 19,
   "metadata": {},
   "outputs": [
    {
     "name": "stdout",
     "output_type": "stream",
     "text": [
      "Nearest neighbors indices: [[  0   1   3   2   4   8  11  16 101 501]]\n",
      "Distances: [[0.         0.99999729 0.99999774 0.99999791 0.99999796 0.99999796\n",
      "  0.99999797 0.99999797 0.99999798 0.99999799]]\n"
     ]
    }
   ],
   "source": [
    "from sklearn.neighbors import NearestNeighbors\n",
    "\n",
    "# Create an instance of the NearestNeighbors model\n",
    "knn_model = NearestNeighbors(n_neighbors=10, metric='cosine')\n",
    "\n",
    "# Fit the model with the cosine similarity matrix\n",
    "knn_model.fit(similarities)\n",
    "\n",
    "# Example: Query the nearest neighbors for a specific user\n",
    "user_index = 0  # Index of the user in the similarity matrix\n",
    "query_user = similarities[user_index].reshape(1, -1)  # Reshape to match the input format\n",
    "\n",
    "# Find the k nearest neighbors for the query user\n",
    "distances, neighbor_indices = knn_model.kneighbors(query_user)\n",
    "\n",
    "# Print the indices of the nearest neighbors and their corresponding distances\n",
    "print(\"Nearest neighbors indices:\", neighbor_indices)\n",
    "print(\"Distances:\", distances)"
   ]
  },
  {
   "cell_type": "code",
   "execution_count": 20,
   "metadata": {},
   "outputs": [
    {
     "name": "stdout",
     "output_type": "stream",
     "text": [
      "      User                                  Nearest Neighbors  \\\n",
      "0        0               [0, 1, 3, 2, 4, 8, 11, 16, 101, 501]   \n",
      "1        1            [1, 3, 2, 4, 12, 630, 16, 53, 3813, 67]   \n",
      "2        2  [1936, 313, 309, 2512, 307, 634, 316, 1327, 16...   \n",
      "3        3          [84, 4, 12, 3, 16, 630, 74, 38, 384, 115]   \n",
      "4        4  [3224, 3221, 3231, 3230, 3229, 3226, 3225, 323...   \n",
      "...    ...                                                ...   \n",
      "4923  4923  [257, 542, 3972, 221, 1957, 1357, 241, 243, 60...   \n",
      "4924  4924  [721, 719, 725, 724, 723, 722, 727, 720, 715, ...   \n",
      "4925  4925  [483, 484, 479, 480, 482, 476, 493, 492, 469, ...   \n",
      "4926  4926  [696, 183, 159, 749, 730, 720, 173, 795, 634, ...   \n",
      "4927  4927  [313, 308, 1389, 330, 1434, 1445, 1450, 316, 1...   \n",
      "\n",
      "                                              Distances  \n",
      "0     [0.0, 0.9999972938756093, 0.9999977433281201, ...  \n",
      "1     [4.440892098500626e-15, 1.1213252548714081e-13...  \n",
      "2     [0.0, 0.0, 0.0, 0.0, 0.0, 0.0, 0.0, 0.0, 0.0, ...  \n",
      "3     [1.2656542480726785e-14, 1.5987211554602254e-1...  \n",
      "4     [0.0, 0.0, 0.0, 0.0, 0.0, 0.0, 0.0, 0.0, 0.0, ...  \n",
      "...                                                 ...  \n",
      "4923  [0.0, 0.0, 0.0, 0.0, 0.0, 0.0, 0.0, 0.0, 0.0, ...  \n",
      "4924  [0.0, 0.0, 0.0, 0.0, 0.0, 0.0, 0.0, 0.0, 0.0, ...  \n",
      "4925  [0.0, 0.0, 0.0, 0.0, 0.0, 0.0, 0.0, 0.0, 0.0, ...  \n",
      "4926  [0.0, 0.0, 0.0, 0.0, 0.0, 0.0, 0.0, 0.0, 0.0, ...  \n",
      "4927  [0.0, 0.0, 0.0, 0.0, 0.0, 0.0, 0.0, 0.0, 0.0, ...  \n",
      "\n",
      "[4928 rows x 3 columns]\n"
     ]
    }
   ],
   "source": [
    "# Create an empty table to store the nearest neighbors' indices and distances for all users\n",
    "neighbor_table = []\n",
    "\n",
    "# Iterate over each user in the similarity matrix\n",
    "for user_index in range(similarities.shape[0]):\n",
    "    # Query the nearest neighbors for the current user\n",
    "    query_user = similarities[user_index].reshape(1, -1)  # Reshape to match the input format\n",
    "    distances, neighbor_indices = knn_model.kneighbors(query_user)\n",
    "    \n",
    "    # Append the user's nearest neighbors' indices and distances to the table\n",
    "    neighbor_table.append({\"User\": user_index, \"Nearest Neighbors\": neighbor_indices[0], \"Distances\": distances[0]})\n",
    "\n",
    "# Convert the table to a pandas DataFrame for easier visualization\n",
    "import pandas as pd\n",
    "neighbor_table_df = pd.DataFrame(neighbor_table)\n",
    "\n",
    "# Print the table\n",
    "print(neighbor_table_df)"
   ]
  },
  {
   "cell_type": "code",
   "execution_count": null,
   "metadata": {},
   "outputs": [],
   "source": []
  },
  {
   "cell_type": "code",
   "execution_count": null,
   "metadata": {},
   "outputs": [],
   "source": []
  },
  {
   "cell_type": "code",
   "execution_count": null,
   "metadata": {},
   "outputs": [],
   "source": []
  }
 ],
 "metadata": {
  "kernelspec": {
   "display_name": "base",
   "language": "python",
   "name": "python3"
  },
  "language_info": {
   "codemirror_mode": {
    "name": "ipython",
    "version": 3
   },
   "file_extension": ".py",
   "mimetype": "text/x-python",
   "name": "python",
   "nbconvert_exporter": "python",
   "pygments_lexer": "ipython3",
   "version": "3.11.5"
  }
 },
 "nbformat": 4,
 "nbformat_minor": 2
}
