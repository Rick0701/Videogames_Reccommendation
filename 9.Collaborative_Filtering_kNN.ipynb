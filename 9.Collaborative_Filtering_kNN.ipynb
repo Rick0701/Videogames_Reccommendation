{
 "cells": [
  {
   "cell_type": "markdown",
   "metadata": {},
   "source": [
    "# 9. Collaborative Filtering - k-NN"
   ]
  },
  {
   "cell_type": "code",
   "execution_count": 1,
   "metadata": {},
   "outputs": [
    {
     "name": "stdout",
     "output_type": "stream",
     "text": [
      "Number of users 5,000\n",
      "First five users id [ 9880850 11308871 10339131  8414394  9734353]\n",
      "Number of Rows: 12,663,134\n",
      "Numbeer of Columns: 37,420\n",
      "Number of stored values: 47,967,516\n",
      "Number of Rows: 4,916\n",
      "Numbeer of Columns: 37,420\n",
      "Number of stored values: 191,000\n",
      "Number of Rows: 4,917\n",
      "Numbeer of Columns: 17,109\n",
      "Number of stored values: 208,108\n"
     ]
    }
   ],
   "source": [
    "%run \"6.Recommendations_Sample.ipynb\""
   ]
  },
  {
   "cell_type": "code",
   "execution_count": 61,
   "metadata": {},
   "outputs": [],
   "source": [
    "pd.set_option('display.float_format', lambda x: '%.4f' % x)"
   ]
  },
  {
   "cell_type": "code",
   "execution_count": 2,
   "metadata": {},
   "outputs": [],
   "source": [
    "import scipy as sp"
   ]
  },
  {
   "cell_type": "code",
   "execution_count": 50,
   "metadata": {},
   "outputs": [],
   "source": [
    "# Important to remove the user_id and game_id\n",
    "user_game_matrix_k_rec = user_game_matrix_k_rec[1:,1:]"
   ]
  },
  {
   "cell_type": "code",
   "execution_count": 33,
   "metadata": {},
   "outputs": [],
   "source": [
    "from sklearn.metrics.pairwise import cosine_similarity\n",
    "similarities = cosine_similarity(user_game_matrix_k_rec)"
   ]
  },
  {
   "cell_type": "code",
   "execution_count": 35,
   "metadata": {},
   "outputs": [
    {
     "data": {
      "text/plain": [
       "(4916, 4916)"
      ]
     },
     "execution_count": 35,
     "metadata": {},
     "output_type": "execute_result"
    }
   ],
   "source": [
    "similarities.shape"
   ]
  },
  {
   "cell_type": "code",
   "execution_count": 41,
   "metadata": {},
   "outputs": [
    {
     "data": {
      "text/plain": [
       "array([[1.        , 0.        , 0.03031695, ..., 0.        , 0.        ,\n",
       "        0.10314212],\n",
       "       [0.        , 1.        , 0.        , ..., 0.        , 0.        ,\n",
       "        0.0326164 ],\n",
       "       [0.03031695, 0.        , 1.        , ..., 0.03742406, 0.03300492,\n",
       "        0.10006256],\n",
       "       ...,\n",
       "       [0.        , 0.        , 0.03742406, ..., 1.        , 0.        ,\n",
       "        0.09549105],\n",
       "       [0.        , 0.        , 0.03300492, ..., 0.        , 1.        ,\n",
       "        0.08421519],\n",
       "       [0.10314212, 0.0326164 , 0.10006256, ..., 0.09549105, 0.08421519,\n",
       "        1.        ]])"
      ]
     },
     "execution_count": 41,
     "metadata": {},
     "output_type": "execute_result"
    }
   ],
   "source": [
    "similarities"
   ]
  },
  {
   "cell_type": "code",
   "execution_count": 48,
   "metadata": {},
   "outputs": [],
   "source": [
    "# Choose the Number of neighbours\n",
    "K = 5"
   ]
  },
  {
   "cell_type": "code",
   "execution_count": 49,
   "metadata": {},
   "outputs": [
    {
     "name": "stdout",
     "output_type": "stream",
     "text": [
      "Nearest neighbors indices: [[   0 4602 4397 4148 3957]]\n",
      "Distances: [[0.         0.31053824 0.3240523  0.32507665 0.33109286]]\n"
     ]
    }
   ],
   "source": [
    "from sklearn.neighbors import NearestNeighbors\n",
    "\n",
    "# Create an instance of the NearestNeighbors model\n",
    "knn_model = NearestNeighbors(n_neighbors=10, metric='cosine')\n",
    "\n",
    "# Fit the model with the cosine similarity matrix\n",
    "knn_model.fit(similarities)\n",
    "\n",
    "# Example: Query the nearest neighbors for a specific user\n",
    "user_index = 0  # Index of the user in the similarity matrix\n",
    "query_user = similarities[user_index].reshape(1, -1)  # Reshape to match the input format\n",
    "\n",
    "# Find the k nearest neighbors for the query user\n",
    "distances, neighbor_indices = knn_model.kneighbors(query_user, K)\n",
    "\n",
    "# Print the indices of the nearest neighbors and their corresponding distances\n",
    "print(\"Nearest neighbors indices:\", neighbor_indices)\n",
    "print(\"Distances:\", distances)"
   ]
  },
  {
   "cell_type": "code",
   "execution_count": 51,
   "metadata": {},
   "outputs": [
    {
     "name": "stdout",
     "output_type": "stream",
     "text": [
      "      User               Nearest Neighbors  \\\n",
      "0        0     [0, 4602, 4397, 4148, 3957]   \n",
      "1        1     [1, 2681, 2118, 2553, 2855]   \n",
      "2        2      [2, 691, 2839, 2160, 4417]   \n",
      "3        3       [3, 50, 4613, 2719, 3817]   \n",
      "4        4     [4, 1581, 4740, 1279, 1091]   \n",
      "...    ...                             ...   \n",
      "4911  4911     [4911, 4602, 1654, 3549, 9]   \n",
      "4912  4912    [4912, 10, 2738, 2533, 4196]   \n",
      "4913  4913   [4913, 481, 3137, 1611, 1975]   \n",
      "4914  4914  [4914, 2091, 3794, 2907, 1542]   \n",
      "4915  4915  [4915, 1360, 3710, 3314, 2533]   \n",
      "\n",
      "                                              Distances  \n",
      "0     [0.0, 0.3105382391832817, 0.3240522989282518, ...  \n",
      "1     [0.0, 0.6196120217854968, 0.621864326035992, 0...  \n",
      "2     [3.9968028886505635e-15, 0.192985555570923, 0....  \n",
      "3     [2.7755575615628914e-15, 0.3201472887067359, 0...  \n",
      "4     [8.881784197001252e-16, 0.36653183634780606, 0...  \n",
      "...                                                 ...  \n",
      "4911  [0.0, 0.21374393506230105, 0.21944477095132797...  \n",
      "4912  [3.774758283725532e-15, 0.22145656342369047, 0...  \n",
      "4913  [0.0, 0.3259784266536667, 0.34419043389376935,...  \n",
      "4914  [3.1086244689504383e-15, 0.2058472522181929, 0...  \n",
      "4915  [0.0, 0.24738157290609586, 0.25585880719553034...  \n",
      "\n",
      "[4916 rows x 3 columns]\n"
     ]
    }
   ],
   "source": [
    "# Create an empty table to store the nearest neighbors' indices and distances for all users\n",
    "neighbor_table = []\n",
    "\n",
    "# Iterate over each user in the similarity matrix\n",
    "for user_index in range(similarities.shape[0]):\n",
    "    # Query the nearest neighbors for the current user\n",
    "    query_user = similarities[user_index].reshape(1, -1)  # Reshape to match the input format\n",
    "    distances, neighbor_indices = knn_model.kneighbors(query_user, K)\n",
    "    \n",
    "    # Append the user's nearest neighbors' indices and distances to the table\n",
    "    neighbor_table.append({\"User\": user_index, \"Nearest Neighbors\": neighbor_indices[0], \"Distances\": distances[0]})\n",
    "\n",
    "# Convert the table to a pandas DataFrame for easier visualization\n",
    "import pandas as pd\n",
    "neighbor_table_df = pd.DataFrame(neighbor_table)\n",
    "\n",
    "# Print the table\n",
    "print(neighbor_table_df)"
   ]
  },
  {
   "cell_type": "code",
   "execution_count": 52,
   "metadata": {},
   "outputs": [
    {
     "data": {
      "text/html": [
       "<div>\n",
       "<style scoped>\n",
       "    .dataframe tbody tr th:only-of-type {\n",
       "        vertical-align: middle;\n",
       "    }\n",
       "\n",
       "    .dataframe tbody tr th {\n",
       "        vertical-align: top;\n",
       "    }\n",
       "\n",
       "    .dataframe thead th {\n",
       "        text-align: right;\n",
       "    }\n",
       "</style>\n",
       "<table border=\"1\" class=\"dataframe\">\n",
       "  <thead>\n",
       "    <tr style=\"text-align: right;\">\n",
       "      <th></th>\n",
       "      <th>User</th>\n",
       "      <th>Nearest Neighbors</th>\n",
       "      <th>Distances</th>\n",
       "    </tr>\n",
       "  </thead>\n",
       "  <tbody>\n",
       "    <tr>\n",
       "      <th>0</th>\n",
       "      <td>0</td>\n",
       "      <td>[0, 4602, 4397, 4148, 3957]</td>\n",
       "      <td>[0.0, 0.3105382391832817, 0.3240522989282518, ...</td>\n",
       "    </tr>\n",
       "    <tr>\n",
       "      <th>1</th>\n",
       "      <td>1</td>\n",
       "      <td>[1, 2681, 2118, 2553, 2855]</td>\n",
       "      <td>[0.0, 0.6196120217854968, 0.621864326035992, 0...</td>\n",
       "    </tr>\n",
       "    <tr>\n",
       "      <th>2</th>\n",
       "      <td>2</td>\n",
       "      <td>[2, 691, 2839, 2160, 4417]</td>\n",
       "      <td>[3.9968028886505635e-15, 0.192985555570923, 0....</td>\n",
       "    </tr>\n",
       "    <tr>\n",
       "      <th>3</th>\n",
       "      <td>3</td>\n",
       "      <td>[3, 50, 4613, 2719, 3817]</td>\n",
       "      <td>[2.7755575615628914e-15, 0.3201472887067359, 0...</td>\n",
       "    </tr>\n",
       "    <tr>\n",
       "      <th>4</th>\n",
       "      <td>4</td>\n",
       "      <td>[4, 1581, 4740, 1279, 1091]</td>\n",
       "      <td>[8.881784197001252e-16, 0.36653183634780606, 0...</td>\n",
       "    </tr>\n",
       "    <tr>\n",
       "      <th>...</th>\n",
       "      <td>...</td>\n",
       "      <td>...</td>\n",
       "      <td>...</td>\n",
       "    </tr>\n",
       "    <tr>\n",
       "      <th>4911</th>\n",
       "      <td>4911</td>\n",
       "      <td>[4911, 4602, 1654, 3549, 9]</td>\n",
       "      <td>[0.0, 0.21374393506230105, 0.21944477095132797...</td>\n",
       "    </tr>\n",
       "    <tr>\n",
       "      <th>4912</th>\n",
       "      <td>4912</td>\n",
       "      <td>[4912, 10, 2738, 2533, 4196]</td>\n",
       "      <td>[3.774758283725532e-15, 0.22145656342369047, 0...</td>\n",
       "    </tr>\n",
       "    <tr>\n",
       "      <th>4913</th>\n",
       "      <td>4913</td>\n",
       "      <td>[4913, 481, 3137, 1611, 1975]</td>\n",
       "      <td>[0.0, 0.3259784266536667, 0.34419043389376935,...</td>\n",
       "    </tr>\n",
       "    <tr>\n",
       "      <th>4914</th>\n",
       "      <td>4914</td>\n",
       "      <td>[4914, 2091, 3794, 2907, 1542]</td>\n",
       "      <td>[3.1086244689504383e-15, 0.2058472522181929, 0...</td>\n",
       "    </tr>\n",
       "    <tr>\n",
       "      <th>4915</th>\n",
       "      <td>4915</td>\n",
       "      <td>[4915, 1360, 3710, 3314, 2533]</td>\n",
       "      <td>[0.0, 0.24738157290609586, 0.25585880719553034...</td>\n",
       "    </tr>\n",
       "  </tbody>\n",
       "</table>\n",
       "<p>4916 rows × 3 columns</p>\n",
       "</div>"
      ],
      "text/plain": [
       "      User               Nearest Neighbors  \\\n",
       "0        0     [0, 4602, 4397, 4148, 3957]   \n",
       "1        1     [1, 2681, 2118, 2553, 2855]   \n",
       "2        2      [2, 691, 2839, 2160, 4417]   \n",
       "3        3       [3, 50, 4613, 2719, 3817]   \n",
       "4        4     [4, 1581, 4740, 1279, 1091]   \n",
       "...    ...                             ...   \n",
       "4911  4911     [4911, 4602, 1654, 3549, 9]   \n",
       "4912  4912    [4912, 10, 2738, 2533, 4196]   \n",
       "4913  4913   [4913, 481, 3137, 1611, 1975]   \n",
       "4914  4914  [4914, 2091, 3794, 2907, 1542]   \n",
       "4915  4915  [4915, 1360, 3710, 3314, 2533]   \n",
       "\n",
       "                                              Distances  \n",
       "0     [0.0, 0.3105382391832817, 0.3240522989282518, ...  \n",
       "1     [0.0, 0.6196120217854968, 0.621864326035992, 0...  \n",
       "2     [3.9968028886505635e-15, 0.192985555570923, 0....  \n",
       "3     [2.7755575615628914e-15, 0.3201472887067359, 0...  \n",
       "4     [8.881784197001252e-16, 0.36653183634780606, 0...  \n",
       "...                                                 ...  \n",
       "4911  [0.0, 0.21374393506230105, 0.21944477095132797...  \n",
       "4912  [3.774758283725532e-15, 0.22145656342369047, 0...  \n",
       "4913  [0.0, 0.3259784266536667, 0.34419043389376935,...  \n",
       "4914  [3.1086244689504383e-15, 0.2058472522181929, 0...  \n",
       "4915  [0.0, 0.24738157290609586, 0.25585880719553034...  \n",
       "\n",
       "[4916 rows x 3 columns]"
      ]
     },
     "execution_count": 52,
     "metadata": {},
     "output_type": "execute_result"
    }
   ],
   "source": [
    "neighbor_table_df"
   ]
  },
  {
   "cell_type": "code",
   "execution_count": 1,
   "metadata": {},
   "outputs": [
    {
     "ename": "NameError",
     "evalue": "name 'neighbor_table_df' is not defined",
     "output_type": "error",
     "traceback": [
      "\u001b[1;31m---------------------------------------------------------------------------\u001b[0m",
      "\u001b[1;31mNameError\u001b[0m                                 Traceback (most recent call last)",
      "Input \u001b[1;32mIn [1]\u001b[0m, in \u001b[0;36m<cell line: 1>\u001b[1;34m()\u001b[0m\n\u001b[1;32m----> 1\u001b[0m \u001b[43mneighbor_table_df\u001b[49m[neighbor_table_df[\u001b[38;5;124m\"\u001b[39m\u001b[38;5;124mUser\u001b[39m\u001b[38;5;124m\"\u001b[39m]\u001b[38;5;241m==\u001b[39m\u001b[38;5;241m2\u001b[39m]\u001b[38;5;241m.\u001b[39mexplode([\u001b[38;5;124m\"\u001b[39m\u001b[38;5;124mNearest Neighbors\u001b[39m\u001b[38;5;124m\"\u001b[39m,\u001b[38;5;124m\"\u001b[39m\u001b[38;5;124mDistances\u001b[39m\u001b[38;5;124m\"\u001b[39m])\n",
      "\u001b[1;31mNameError\u001b[0m: name 'neighbor_table_df' is not defined"
     ]
    }
   ],
   "source": [
    "neighbor_table_df[neighbor_table_df[\"User\"]==2].explode([\"Nearest Neighbors\",\"Distances\"])"
   ]
  },
  {
   "cell_type": "code",
   "execution_count": 77,
   "metadata": {},
   "outputs": [
    {
     "name": "stdout",
     "output_type": "stream",
     "text": [
      "x_test.shape (6533, 2)\n",
      "y_test.shape (6533, 1)\n",
      "Number of Users: 4,914\n",
      "Number of Games: 17,106\n",
      "x_train.shape (922979, 2)\n",
      "y_train.shape (922979, 2)\n"
     ]
    }
   ],
   "source": [
    "%run \"Get_Training_and_Test_Instances.ipynb\""
   ]
  },
  {
   "cell_type": "code",
   "execution_count": 101,
   "metadata": {},
   "outputs": [],
   "source": [
    "%run \"Model_Evaluation.ipynb\""
   ]
  },
  {
   "cell_type": "code",
   "execution_count": 121,
   "metadata": {},
   "outputs": [
    {
     "data": {
      "text/plain": [
       "array([ 1212,  1668,  2177,  3341,  3952,  4772,  4993,  5006,  5460,\n",
       "        5523,  5584,  6280,  6784,  9519, 10112, 10456, 10585, 10743,\n",
       "       11714, 12933, 13361, 14352])"
      ]
     },
     "execution_count": 121,
     "metadata": {},
     "output_type": "execute_result"
    }
   ],
   "source": [
    "x = get_y_true(2681, x_train, y_train)\n",
    "x"
   ]
  },
  {
   "cell_type": "code",
   "execution_count": 122,
   "metadata": {},
   "outputs": [
    {
     "data": {
      "text/plain": [
       "array([    4,     7,     8,    18,    20,   251,   382,   496,   664,\n",
       "        1099,  1365,  1600,  1813,  1985,  2333,  2596,  2656,  2864,\n",
       "        3061,  3638,  4855,  4871,  4893,  6160,  6881,  6964,  7550,\n",
       "        7745,  8050, 12610, 14249, 15159, 15699, 15739])"
      ]
     },
     "execution_count": 122,
     "metadata": {},
     "output_type": "execute_result"
    }
   ],
   "source": [
    "y = get_y_true(0, x_train, y_train)\n",
    "y"
   ]
  },
  {
   "cell_type": "code",
   "execution_count": 123,
   "metadata": {},
   "outputs": [
    {
     "data": {
      "text/plain": [
       "set()"
      ]
     },
     "execution_count": 123,
     "metadata": {},
     "output_type": "execute_result"
    }
   ],
   "source": [
    "set(x).intersection(set(y))"
   ]
  },
  {
   "cell_type": "code",
   "execution_count": 100,
   "metadata": {},
   "outputs": [
    {
     "data": {
      "text/plain": [
       "array([[ 4602,   229],\n",
       "       [ 4602,   338],\n",
       "       [ 4602,   433],\n",
       "       [ 4602,   590],\n",
       "       [ 4602,   886],\n",
       "       [ 4602,   917],\n",
       "       [ 4602,  1030],\n",
       "       [ 4602,  1525],\n",
       "       [ 4602,  1694],\n",
       "       [ 4602,  1956],\n",
       "       [ 4602,  1985],\n",
       "       [ 4602,  1999],\n",
       "       [ 4602,  2066],\n",
       "       [ 4602,  2166],\n",
       "       [ 4602,  2341],\n",
       "       [ 4602,  2352],\n",
       "       [ 4602,  2385],\n",
       "       [ 4602,  2438],\n",
       "       [ 4602,  2561],\n",
       "       [ 4602,  2595],\n",
       "       [ 4602,  3778],\n",
       "       [ 4602,  3896],\n",
       "       [ 4602,  4137],\n",
       "       [ 4602,  4247],\n",
       "       [ 4602,  4265],\n",
       "       [ 4602,  4269],\n",
       "       [ 4602,  4276],\n",
       "       [ 4602,  4309],\n",
       "       [ 4602,  4328],\n",
       "       [ 4602,  4338],\n",
       "       [ 4602,  4379],\n",
       "       [ 4602,  4389],\n",
       "       [ 4602,  4502],\n",
       "       [ 4602,  4952],\n",
       "       [ 4602,  5073],\n",
       "       [ 4602,  5215],\n",
       "       [ 4602,  5253],\n",
       "       [ 4602,  5288],\n",
       "       [ 4602,  5364],\n",
       "       [ 4602,  5369],\n",
       "       [ 4602,  6085],\n",
       "       [ 4602,  6146],\n",
       "       [ 4602,  6599],\n",
       "       [ 4602,  6703],\n",
       "       [ 4602,  6806],\n",
       "       [ 4602,  6841],\n",
       "       [ 4602,  6944],\n",
       "       [ 4602,  7044],\n",
       "       [ 4602,  7400],\n",
       "       [ 4602,  7423],\n",
       "       [ 4602,  7487],\n",
       "       [ 4602,  7560],\n",
       "       [ 4602,  7582],\n",
       "       [ 4602,  7652],\n",
       "       [ 4602,  8223],\n",
       "       [ 4602,  8384],\n",
       "       [ 4602,  8485],\n",
       "       [ 4602,  8500],\n",
       "       [ 4602,  8629],\n",
       "       [ 4602,  8941],\n",
       "       [ 4602,  8947],\n",
       "       [ 4602,  8981],\n",
       "       [ 4602,  9436],\n",
       "       [ 4602,  9514],\n",
       "       [ 4602,  9536],\n",
       "       [ 4602,  9808],\n",
       "       [ 4602,  9950],\n",
       "       [ 4602, 10142],\n",
       "       [ 4602, 10274],\n",
       "       [ 4602, 10405],\n",
       "       [ 4602, 10574],\n",
       "       [ 4602, 10979],\n",
       "       [ 4602, 10981],\n",
       "       [ 4602, 11096],\n",
       "       [ 4602, 11828],\n",
       "       [ 4602, 11993],\n",
       "       [ 4602, 12045],\n",
       "       [ 4602, 12343],\n",
       "       [ 4602, 12421],\n",
       "       [ 4602, 12482],\n",
       "       [ 4602, 12503],\n",
       "       [ 4602, 12890],\n",
       "       [ 4602, 12944],\n",
       "       [ 4602, 13289],\n",
       "       [ 4602, 13514],\n",
       "       [ 4602, 13565],\n",
       "       [ 4602, 13758],\n",
       "       [ 4602, 13779],\n",
       "       [ 4602, 13877],\n",
       "       [ 4602, 14090],\n",
       "       [ 4602, 14131],\n",
       "       [ 4602, 14133],\n",
       "       [ 4602, 14224],\n",
       "       [ 4602, 14299],\n",
       "       [ 4602, 14411],\n",
       "       [ 4602, 14557],\n",
       "       [ 4602, 14713],\n",
       "       [ 4602, 14777],\n",
       "       [ 4602, 14778],\n",
       "       [ 4602, 14928],\n",
       "       [ 4602, 14963],\n",
       "       [ 4602, 15047],\n",
       "       [ 4602, 15280],\n",
       "       [ 4602, 15468],\n",
       "       [ 4602, 15567],\n",
       "       [ 4602, 15674],\n",
       "       [ 4602, 15748],\n",
       "       [ 4602, 15838],\n",
       "       [ 4602, 16000],\n",
       "       [ 4602, 16629]])"
      ]
     },
     "execution_count": 100,
     "metadata": {},
     "output_type": "execute_result"
    }
   ],
   "source": [
    "# Use the mask to filter the rows\n",
    "filtered_array = x_train[(x_train[:, 0] == 4602)]\n",
    "filtered_array"
   ]
  },
  {
   "cell_type": "code",
   "execution_count": 103,
   "metadata": {},
   "outputs": [
    {
     "data": {
      "text/html": [
       "<div>\n",
       "<style scoped>\n",
       "    .dataframe tbody tr th:only-of-type {\n",
       "        vertical-align: middle;\n",
       "    }\n",
       "\n",
       "    .dataframe tbody tr th {\n",
       "        vertical-align: top;\n",
       "    }\n",
       "\n",
       "    .dataframe thead th {\n",
       "        text-align: right;\n",
       "    }\n",
       "</style>\n",
       "<table border=\"1\" class=\"dataframe\">\n",
       "  <thead>\n",
       "    <tr style=\"text-align: right;\">\n",
       "      <th></th>\n",
       "      <th>app_id</th>\n",
       "      <th>helpful</th>\n",
       "      <th>funny</th>\n",
       "      <th>date</th>\n",
       "      <th>is_recommended</th>\n",
       "      <th>hours</th>\n",
       "      <th>user_id</th>\n",
       "      <th>review_id</th>\n",
       "      <th>user_id_categorical</th>\n",
       "      <th>app_id_categorical</th>\n",
       "    </tr>\n",
       "  </thead>\n",
       "  <tbody>\n",
       "    <tr>\n",
       "      <th>384223</th>\n",
       "      <td>1174180</td>\n",
       "      <td>2</td>\n",
       "      <td>0</td>\n",
       "      <td>2021-12-31</td>\n",
       "      <td>1</td>\n",
       "      <td>63.9000</td>\n",
       "      <td>13415210</td>\n",
       "      <td>384223</td>\n",
       "      <td>11864372</td>\n",
       "      <td>23871</td>\n",
       "    </tr>\n",
       "    <tr>\n",
       "      <th>6923898</th>\n",
       "      <td>335300</td>\n",
       "      <td>2</td>\n",
       "      <td>0</td>\n",
       "      <td>2022-01-23</td>\n",
       "      <td>1</td>\n",
       "      <td>87.7000</td>\n",
       "      <td>13415210</td>\n",
       "      <td>6923898</td>\n",
       "      <td>11864372</td>\n",
       "      <td>4178</td>\n",
       "    </tr>\n",
       "    <tr>\n",
       "      <th>983267</th>\n",
       "      <td>1240440</td>\n",
       "      <td>0</td>\n",
       "      <td>0</td>\n",
       "      <td>2021-11-25</td>\n",
       "      <td>1</td>\n",
       "      <td>3.3000</td>\n",
       "      <td>13415210</td>\n",
       "      <td>983267</td>\n",
       "      <td>11864372</td>\n",
       "      <td>25117</td>\n",
       "    </tr>\n",
       "    <tr>\n",
       "      <th>9507660</th>\n",
       "      <td>10090</td>\n",
       "      <td>122</td>\n",
       "      <td>49</td>\n",
       "      <td>2021-11-26</td>\n",
       "      <td>1</td>\n",
       "      <td>16.7000</td>\n",
       "      <td>13415210</td>\n",
       "      <td>9507660</td>\n",
       "      <td>11864372</td>\n",
       "      <td>261</td>\n",
       "    </tr>\n",
       "    <tr>\n",
       "      <th>19990871</th>\n",
       "      <td>620</td>\n",
       "      <td>0</td>\n",
       "      <td>0</td>\n",
       "      <td>2022-12-24</td>\n",
       "      <td>1</td>\n",
       "      <td>11.6000</td>\n",
       "      <td>13415210</td>\n",
       "      <td>19990871</td>\n",
       "      <td>11864372</td>\n",
       "      <td>23</td>\n",
       "    </tr>\n",
       "    <tr>\n",
       "      <th>...</th>\n",
       "      <td>...</td>\n",
       "      <td>...</td>\n",
       "      <td>...</td>\n",
       "      <td>...</td>\n",
       "      <td>...</td>\n",
       "      <td>...</td>\n",
       "      <td>...</td>\n",
       "      <td>...</td>\n",
       "      <td>...</td>\n",
       "      <td>...</td>\n",
       "    </tr>\n",
       "    <tr>\n",
       "      <th>33500881</th>\n",
       "      <td>418370</td>\n",
       "      <td>0</td>\n",
       "      <td>0</td>\n",
       "      <td>2021-05-24</td>\n",
       "      <td>1</td>\n",
       "      <td>11.5000</td>\n",
       "      <td>13415210</td>\n",
       "      <td>33500881</td>\n",
       "      <td>11864372</td>\n",
       "      <td>6816</td>\n",
       "    </tr>\n",
       "    <tr>\n",
       "      <th>20413215</th>\n",
       "      <td>641990</td>\n",
       "      <td>0</td>\n",
       "      <td>0</td>\n",
       "      <td>2019-11-03</td>\n",
       "      <td>1</td>\n",
       "      <td>55.2000</td>\n",
       "      <td>13415210</td>\n",
       "      <td>20413215</td>\n",
       "      <td>11864372</td>\n",
       "      <td>12616</td>\n",
       "    </tr>\n",
       "    <tr>\n",
       "      <th>31318400</th>\n",
       "      <td>677620</td>\n",
       "      <td>0</td>\n",
       "      <td>0</td>\n",
       "      <td>2021-12-31</td>\n",
       "      <td>1</td>\n",
       "      <td>1.0000</td>\n",
       "      <td>13415210</td>\n",
       "      <td>31318400</td>\n",
       "      <td>11864372</td>\n",
       "      <td>13484</td>\n",
       "    </tr>\n",
       "    <tr>\n",
       "      <th>3979754</th>\n",
       "      <td>4000</td>\n",
       "      <td>332</td>\n",
       "      <td>244</td>\n",
       "      <td>2021-12-04</td>\n",
       "      <td>1</td>\n",
       "      <td>36.4000</td>\n",
       "      <td>13415210</td>\n",
       "      <td>3979754</td>\n",
       "      <td>11864372</td>\n",
       "      <td>133</td>\n",
       "    </tr>\n",
       "    <tr>\n",
       "      <th>12193167</th>\n",
       "      <td>239140</td>\n",
       "      <td>114</td>\n",
       "      <td>47</td>\n",
       "      <td>2021-10-23</td>\n",
       "      <td>1</td>\n",
       "      <td>45.4000</td>\n",
       "      <td>13415210</td>\n",
       "      <td>12193167</td>\n",
       "      <td>11864372</td>\n",
       "      <td>1765</td>\n",
       "    </tr>\n",
       "  </tbody>\n",
       "</table>\n",
       "<p>68 rows × 10 columns</p>\n",
       "</div>"
      ],
      "text/plain": [
       "           app_id  helpful  funny        date  is_recommended   hours  \\\n",
       "384223    1174180        2      0  2021-12-31               1 63.9000   \n",
       "6923898    335300        2      0  2022-01-23               1 87.7000   \n",
       "983267    1240440        0      0  2021-11-25               1  3.3000   \n",
       "9507660     10090      122     49  2021-11-26               1 16.7000   \n",
       "19990871      620        0      0  2022-12-24               1 11.6000   \n",
       "...           ...      ...    ...         ...             ...     ...   \n",
       "33500881   418370        0      0  2021-05-24               1 11.5000   \n",
       "20413215   641990        0      0  2019-11-03               1 55.2000   \n",
       "31318400   677620        0      0  2021-12-31               1  1.0000   \n",
       "3979754      4000      332    244  2021-12-04               1 36.4000   \n",
       "12193167   239140      114     47  2021-10-23               1 45.4000   \n",
       "\n",
       "           user_id  review_id  user_id_categorical  app_id_categorical  \n",
       "384223    13415210     384223             11864372               23871  \n",
       "6923898   13415210    6923898             11864372                4178  \n",
       "983267    13415210     983267             11864372               25117  \n",
       "9507660   13415210    9507660             11864372                 261  \n",
       "19990871  13415210   19990871             11864372                  23  \n",
       "...            ...        ...                  ...                 ...  \n",
       "33500881  13415210   33500881             11864372                6816  \n",
       "20413215  13415210   20413215             11864372               12616  \n",
       "31318400  13415210   31318400             11864372               13484  \n",
       "3979754   13415210    3979754             11864372                 133  \n",
       "12193167  13415210   12193167             11864372                1765  \n",
       "\n",
       "[68 rows x 10 columns]"
      ]
     },
     "execution_count": 103,
     "metadata": {},
     "output_type": "execute_result"
    }
   ],
   "source": [
    "recommendations_sample[recommendations_sample[\"user_id_categorical\"]==users_mapping[4602]]"
   ]
  },
  {
   "cell_type": "code",
   "execution_count": 70,
   "metadata": {},
   "outputs": [
    {
     "data": {
      "text/plain": [
       "11870990"
      ]
     },
     "execution_count": 70,
     "metadata": {},
     "output_type": "execute_result"
    }
   ],
   "source": [
    "users_mapping[4607]"
   ]
  }
 ],
 "metadata": {
  "kernelspec": {
   "display_name": "base",
   "language": "python",
   "name": "python3"
  },
  "language_info": {
   "codemirror_mode": {
    "name": "ipython",
    "version": 3
   },
   "file_extension": ".py",
   "mimetype": "text/x-python",
   "name": "python",
   "nbconvert_exporter": "python",
   "pygments_lexer": "ipython3",
   "version": "3.9.12"
  }
 },
 "nbformat": 4,
 "nbformat_minor": 2
}
