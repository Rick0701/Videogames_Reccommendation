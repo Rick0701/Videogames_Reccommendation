{
 "cells": [
  {
   "cell_type": "markdown",
   "metadata": {},
   "source": [
    "## Train Test Split"
   ]
  },
  {
   "cell_type": "code",
   "execution_count": 4,
   "metadata": {},
   "outputs": [
    {
     "name": "stdout",
     "output_type": "stream",
     "text": [
      "################  Recommendations (all data, positive recommendations only) ################\n",
      "Users: 12,636,209\n",
      "Games: 37,419\n",
      "Number of users 10,000\n",
      "First five users id [11203022 12827342 11719330  9553563 11051045]\n",
      "################  Recommendations (Sample) ################\n",
      "Minimum number of recommendations to included in the sample: 20\n",
      "Number of randomly selected users: 10000\n",
      "Users: 9,688\n",
      "Games: 20,615\n",
      "################ User-Game Matrix ################\n",
      "Number of Rows: 9,689\n",
      "Numbeer of Columns: 20,616\n",
      "Number of stored values: 365,753\n"
     ]
    }
   ],
   "source": [
    "# %run \"01.Recommendation_Loading.ipynb\""
   ]
  },
  {
   "cell_type": "markdown",
   "metadata": {},
   "source": [
    "### Test Set"
   ]
  },
  {
   "cell_type": "code",
   "execution_count": 5,
   "metadata": {},
   "outputs": [
    {
     "name": "stdout",
     "output_type": "stream",
     "text": [
      "################  Get Test Data ################\n",
      "x_test.shape: (9688, 2)\n",
      "y_test.shape: (9688, 1)\n"
     ]
    }
   ],
   "source": [
    "# def get_test_instances(test):\n",
    "def get_test_instances(df):\n",
    "    \"\"\"\n",
    "    This functions generates test instances using the Leave One Out Approach taking the maximum recommendation date.\n",
    "    There could be more than 1 recommendations in the same day. In that case, take the max game id\n",
    "    \"\"\"\n",
    "    max_df = df.groupby(\"user_id_categorical\").agg({\"date\": np.nanmax}).reset_index()\n",
    "    rec_df = pd.merge(df, max_df, left_on=[\"user_id_categorical\",\"date\"], right_on=[\"user_id_categorical\",\"date\"])\n",
    "    rec_df = df.groupby(\"user_id_categorical\").agg({\"app_id_categorical\": np.nanmax}).reset_index()\n",
    "    # rec_df[\"user_id_categorical_new\"] = rec_df[\"user_id_categorical\"].map(swapped_users_dict)\n",
    "    # rec_df[\"app_id_categorical_new\"] = rec_df[\"app_id_categorical\"].map(swapped_games_dict)\n",
    "    # x_test = rec_df[[\"user_id_categorical_new\", \"app_id_categorical_new\"]].values\n",
    "    x_test = rec_df[[\"user_id_categorical\", \"app_id_categorical\"]].values\n",
    "    y_test = np.full((x_test.shape[0],1), 1)\n",
    "    return x_test, y_test\n",
    "\n",
    "print(\"################  Get Test Data ################\")\n",
    "x_test, y_test = get_test_instances(recommendations)\n",
    "print(\"x_test.shape:\",  x_test.shape)\n",
    "print(\"y_test.shape:\",  y_test.shape)\n"
   ]
  },
  {
   "cell_type": "code",
   "execution_count": 6,
   "metadata": {},
   "outputs": [],
   "source": [
    "x_test_dict = dict(x_test)"
   ]
  },
  {
   "cell_type": "code",
   "execution_count": null,
   "metadata": {},
   "outputs": [],
   "source": [
    "# x_test[-10:]"
   ]
  },
  {
   "cell_type": "markdown",
   "metadata": {},
   "source": [
    "### Get Training Istances\n",
    "\n",
    "Including negative samples"
   ]
  },
  {
   "cell_type": "code",
   "execution_count": 7,
   "metadata": {},
   "outputs": [],
   "source": [
    "NUM_NEGATIVES = 2"
   ]
  },
  {
   "cell_type": "code",
   "execution_count": 8,
   "metadata": {},
   "outputs": [
    {
     "name": "stdout",
     "output_type": "stream",
     "text": [
      "Number of Users: 9,689\n",
      "Number of Games: 20,616\n",
      "Number of Negatives Sample per User-Game: 2\n"
     ]
    }
   ],
   "source": [
    "num_users, num_items = user_game_matrix.shape\n",
    "print(\"Number of Users:\", '{0:,.0f}'.format(num_users))\n",
    "print(\"Number of Games:\", '{0:,.0f}'.format(num_items))\n",
    "print(\"Number of Negatives Sample per User-Game:\", '{0:,.0f}'.format(NUM_NEGATIVES))\n"
   ]
  },
  {
   "cell_type": "code",
   "execution_count": 9,
   "metadata": {},
   "outputs": [
    {
     "name": "stdout",
     "output_type": "stream",
     "text": [
      "################  Get Training Data ################\n",
      "x_train.shape: (1094928, 2)\n",
      "y_train.shape: (1094928, 2)\n"
     ]
    }
   ],
   "source": [
    "def get_train_instances(train, num_negatives, gen_negative=True):\n",
    "    \"\"\"\n",
    "    This function generates training instances. For each user in the training data,\n",
    "    I should have users who recommended games and users who do not recommend games\n",
    "    \"\"\"\n",
    "    user_input, item_input, labels = [],[],[]\n",
    "    for (u, i) in user_game_matrix.keys():\n",
    "        # positive instance\n",
    "        if (u,i) not in x_test_dict.keys(): # The test instance must not be included\n",
    "            user_input.append(u)\n",
    "            item_input.append(i)\n",
    "            labels.append(1)\n",
    "            if gen_negative==True:\n",
    "                # negative instances\n",
    "                item_selected = [] # to avoid duplicates\n",
    "                for t in range(num_negatives):\n",
    "                    j = np.random.randint(num_items)\n",
    "                    while ((u, j) in user_game_matrix.keys()) \\\n",
    "                        or ((u,j) in item_selected) \\\n",
    "                        or ((u,j) in x_test_dict.keys()):\n",
    "                        j = np.random.randint(num_items)\n",
    "                    user_input.append(u)\n",
    "                    item_input.append(j)\n",
    "                    labels.append(0)\n",
    "                    item_selected.append((u,j))\n",
    "        \n",
    "    p = np.vstack([user_input, item_input, labels]).T\n",
    "    p = np.unique(p, axis=0)\n",
    "    x_train = p[:,:2]\n",
    "    y_train = p[:, 2].reshape(-1, 1)\n",
    "    return x_train, y_train\n",
    "\n",
    "print(\"################  Get Training Data ################\")\n",
    "x_train, y_train = get_train_instances(user_game_matrix, NUM_NEGATIVES)\n",
    "print(\"x_train.shape:\",  x_train.shape)\n",
    "print(\"y_train.shape:\",  x_train.shape)\n"
   ]
  },
  {
   "cell_type": "code",
   "execution_count": null,
   "metadata": {
    "scrolled": true
   },
   "outputs": [],
   "source": [
    "# x_train[:100]"
   ]
  },
  {
   "cell_type": "code",
   "execution_count": null,
   "metadata": {},
   "outputs": [],
   "source": [
    "# y_train[:100]"
   ]
  },
  {
   "cell_type": "code",
   "execution_count": 11,
   "metadata": {
    "scrolled": true
   },
   "outputs": [],
   "source": [
    "# user_game_matrix[0,:].keys()"
   ]
  },
  {
   "cell_type": "markdown",
   "metadata": {},
   "source": [
    "## Model Evaluation"
   ]
  },
  {
   "cell_type": "code",
   "execution_count": 12,
   "metadata": {},
   "outputs": [],
   "source": [
    "def get_random_userid(num_users):\n",
    "    \"\"\"\n",
    "    pick 1 random user at random\n",
    "    Args:\n",
    "        num_users:: int\n",
    "    Returns:\n",
    "        user_id_eval:: int, user_id to evaluate\n",
    "    \"\"\"\n",
    "    user_id_eval = np.random.randint(num_users)\n",
    "    return user_id_eval"
   ]
  },
  {
   "cell_type": "code",
   "execution_count": 13,
   "metadata": {},
   "outputs": [],
   "source": [
    "def get_y_true(user_id, x_train, y_train):\n",
    "    # Stacking x_train and y_train\n",
    "    y_true_tmp = np.hstack((x_train, y_train))\n",
    "    # keep only the recommended games\n",
    "    y_true_tmp = y_true_tmp[y_true_tmp[:,-1] == 1]\n",
    "    # filtering for the user id\n",
    "    y_true = y_true_tmp[y_true_tmp[:,0] == user_id][:,1]\n",
    "    return y_true\n"
   ]
  },
  {
   "cell_type": "code",
   "execution_count": 14,
   "metadata": {},
   "outputs": [],
   "source": [
    "def get_user_games(user_id, num_games):\n",
    "    # Generate a list of all games for a specific user\n",
    "    #games = list(games_mapping.keys())\n",
    "    games = np.arange(num_games)\n",
    "    games2pred = np.reshape(games, (-1,1))\n",
    "    user_game_array_eval = np.hstack(([[user_id]] * len(games), games2pred))\n",
    "    return user_game_array_eval\n"
   ]
  },
  {
   "cell_type": "code",
   "execution_count": 15,
   "metadata": {},
   "outputs": [],
   "source": [
    "def get_101_games(user_id, num_games, num_gen_games, x_train, x_test):\n",
    "    seen_games = x_train[x_train[:,0]==user_id][:,1]\n",
    "    games_pred = []\n",
    "    for t in range(num_gen_games):\n",
    "        j = np.random.randint(num_games)\n",
    "        while j in seen_games:\n",
    "             j = np.random.randint(num_games)\n",
    "        games_pred.append(j)\n",
    "    test_games = x_test[x_test[:,0]==user_id][:,1][0]\n",
    "    games_pred.append(test_games)\n",
    "    games2pred = np.reshape(games_pred, (-1,1))\n",
    "    user_game_array_eval = np.hstack(([[user_id]] * len(games2pred), games2pred))\n",
    "    return user_game_array_eval"
   ]
  },
  {
   "cell_type": "code",
   "execution_count": null,
   "metadata": {},
   "outputs": [],
   "source": [
    "# x_train[x_train[:,0]==1][:,1]"
   ]
  },
  {
   "cell_type": "code",
   "execution_count": null,
   "metadata": {},
   "outputs": [],
   "source": [
    "# x_test[:5]"
   ]
  },
  {
   "cell_type": "code",
   "execution_count": null,
   "metadata": {},
   "outputs": [],
   "source": [
    "# x_test[x_test[:,0]==1][:,1]"
   ]
  },
  {
   "cell_type": "code",
   "execution_count": null,
   "metadata": {},
   "outputs": [],
   "source": [
    "# get_101_games(2, num_items, 100, x_train, x_test)"
   ]
  },
  {
   "cell_type": "code",
   "execution_count": null,
   "metadata": {},
   "outputs": [],
   "source": [
    "# for x in x_train[x_train[:,0]==1][:,1]:\n",
    "#    print(x in get_101_games(1, num_items, 100, x_train, x_test))"
   ]
  },
  {
   "cell_type": "code",
   "execution_count": 16,
   "metadata": {},
   "outputs": [],
   "source": [
    "def get_y_pred(user_games_array, K):\n",
    "    preds = model.predict(user_games_array)\n",
    "    user_games_preds = np.hstack((user_games_array, preds))\n",
    "    sorted_indices = np.argsort(-user_games_preds[:, -1])\n",
    "    y_pred = user_games_preds[sorted_indices][:K, :]\n",
    "    y_pred = y_pred[:,1].astype('int32')\n",
    "    return y_pred"
   ]
  },
  {
   "cell_type": "code",
   "execution_count": 17,
   "metadata": {},
   "outputs": [],
   "source": [
    "def eval_k(y_true, y_pred):\n",
    "    items_relevant_user = len(y_true)\n",
    "    if items_relevant_user==0:\n",
    "        items_relevant_user = np.NaN\n",
    "    rec_items_relevant = len(set(y_true).intersection(set(y_pred)))\n",
    "    recall = rec_items_relevant / items_relevant_user\n",
    "    precision = rec_items_relevant / K\n",
    "    return recall, precision\n"
   ]
  },
  {
   "cell_type": "code",
   "execution_count": 18,
   "metadata": {},
   "outputs": [],
   "source": [
    "def eval_k_avg(n_users2val, K, num_users, num_games, x_train, y_train):\n",
    "    \"\"\"\n",
    "    Evaluate Top K precision and recall\n",
    "    Args:\n",
    "        n_users2val:: int, number of users to evaluate\n",
    "        K:: int\n",
    "        num_users:: int, number of users in the test set\n",
    "        games_mapping:: dict, keys: integer (idx), values: orginal app_id_categorical\n",
    "        x_train\n",
    "        y_train\n",
    "\n",
    "    Returns:\n",
    "        avg_precision:: float, top K average precision\n",
    "        avg_recall:: float, top K average recall\n",
    "    \"\"\"\n",
    "    precision = []\n",
    "    recall = []\n",
    "    for i in range(n_users2val):\n",
    "        user_id_eval = get_random_userid(num_users)\n",
    "        y_true = get_y_true(user_id_eval, x_train, y_train)\n",
    "        user_games = get_user_games(user_id_eval, num_games)\n",
    "        y_pred = get_y_pred(user_games, K)\n",
    "        rcl, prc = eval_k(y_true, y_pred)\n",
    "        precision.append(prc)\n",
    "        recall.append(rcl)\n",
    "    avg_precision = np.mean(precision)\n",
    "    avg_recall = np.mean(recall)\n",
    "    return avg_precision, avg_recall\n"
   ]
  },
  {
   "cell_type": "code",
   "execution_count": 20,
   "metadata": {},
   "outputs": [],
   "source": [
    "def eval_hit_ratio(n_users2val, K, num_games, num_gen_games, x_train, x_test):\n",
    "    counter = 0\n",
    "    # randomly select n_users2val from the test test\n",
    "    choosen_user = np.random.choice(x_test[:,0], size = n_users2val)\n",
    "    # print(n_users2val)\n",
    "    for user_game in x_test[choosen_user,:]:\n",
    "        # print(user_game)\n",
    "        # user_games = get_user_games(user_game[0], num_games)\n",
    "        user_games = get_101_games(user_game[0], num_games, num_gen_games, x_train, x_test)\n",
    "        y_pred = get_y_pred(user_games, K)\n",
    "        if(user_game[1] in y_pred):\n",
    "            counter += 1\n",
    "    return counter / n_users2val"
   ]
  },
  {
   "cell_type": "code",
   "execution_count": 24,
   "metadata": {},
   "outputs": [],
   "source": [
    "# def eval_hit_ratio_pop(n_users2val, pop_games, x_test):\n",
    "def eval_hit_ratio_pop(pop_games, x_test):\n",
    "\n",
    "    counter = 0\n",
    "    # randomly select n_users2val from the test test\n",
    "    # choosen_user = np.random.choice(x_test[:,0], size = n_users2val)\n",
    "    # print(n_users2val)\n",
    "    # for user_game in x_test[choosen_user,:]:\n",
    "    for user_game in x_test:\n",
    "        if(user_game[1] in pop_games):\n",
    "            counter += 1\n",
    "    # return counter / n_users2val\n",
    "    return counter / x_test.shape[0]"
   ]
  },
  {
   "cell_type": "code",
   "execution_count": null,
   "metadata": {},
   "outputs": [],
   "source": [
    "def eval_hit_ratio_sim(rec_sim, x_test):\n",
    "\n",
    "    counter = 0\n",
    "    for i, user_game in enumerate(x_test):        \n",
    "        if(user_game[1] in rec_sim[i]):\n",
    "            counter += 1\n",
    "    # return counter / n_users2val\n",
    "    return counter / x_test.shape[0]"
   ]
  },
  {
   "cell_type": "code",
   "execution_count": null,
   "metadata": {},
   "outputs": [],
   "source": []
  }
 ],
 "metadata": {
  "kernelspec": {
   "display_name": "Python 3 (ipykernel)",
   "language": "python",
   "name": "python3"
  },
  "language_info": {
   "codemirror_mode": {
    "name": "ipython",
    "version": 3
   },
   "file_extension": ".py",
   "mimetype": "text/x-python",
   "name": "python",
   "nbconvert_exporter": "python",
   "pygments_lexer": "ipython3",
   "version": "3.9.7"
  }
 },
 "nbformat": 4,
 "nbformat_minor": 2
}
