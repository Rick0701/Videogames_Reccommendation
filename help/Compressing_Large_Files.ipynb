{
 "cells": [
  {
   "cell_type": "markdown",
   "metadata": {},
   "source": [
    "# Compressing Large Files"
   ]
  },
  {
   "cell_type": "code",
   "execution_count": 2,
   "metadata": {},
   "outputs": [
    {
     "name": "stderr",
     "output_type": "stream",
     "text": [
      "c:\\Users\\riccardoricci\\Anaconda3\\lib\\site-packages\\scipy\\__init__.py:146: UserWarning: A NumPy version >=1.16.5 and <1.23.0 is required for this version of SciPy (detected version 1.26.4\n",
      "  warnings.warn(f\"A NumPy version >={np_minversion} and <{np_maxversion}\"\n"
     ]
    }
   ],
   "source": [
    "import gzip\n",
    "import pickle\n",
    "from scipy import sparse\n",
    "import pandas as pd"
   ]
  },
  {
   "cell_type": "markdown",
   "metadata": {},
   "source": [
    "## User-game matrix"
   ]
  },
  {
   "cell_type": "code",
   "execution_count": 10,
   "metadata": {},
   "outputs": [
    {
     "data": {
      "text/plain": [
       "<12663134x37420 sparse matrix of type '<class 'numpy.intc'>'\n",
       "\twith 47967516 stored elements in Compressed Sparse Row format>"
      ]
     },
     "execution_count": 10,
     "metadata": {},
     "output_type": "execute_result"
    }
   ],
   "source": [
    "with open(\"../matrix/user_game_matrix.pkl\", 'rb') as file:\n",
    "    user_game_matrix = sparse.csr_matrix(pickle.load(file))\n",
    "\n",
    "user_game_matrix\n"
   ]
  },
  {
   "cell_type": "code",
   "execution_count": 11,
   "metadata": {},
   "outputs": [],
   "source": [
    "def compress_pickle(input_data, output_file):\n",
    "    with gzip.open(output_file, 'wb') as f:\n",
    "        pickle.dump(input_data, f)"
   ]
  },
  {
   "cell_type": "code",
   "execution_count": 12,
   "metadata": {},
   "outputs": [],
   "source": [
    "compress_pickle(user_game_matrix, \"../matrix/user_game_matrix.pkl.gz\")"
   ]
  },
  {
   "cell_type": "code",
   "execution_count": 16,
   "metadata": {},
   "outputs": [
    {
     "data": {
      "text/plain": [
       "<12663134x37420 sparse matrix of type '<class 'numpy.int32'>'\n",
       "\twith 47967516 stored elements in Compressed Sparse Row format>"
      ]
     },
     "execution_count": 16,
     "metadata": {},
     "output_type": "execute_result"
    }
   ],
   "source": [
    "def decompress_pickle(input_file):\n",
    "    with gzip.open(input_file, 'rb') as f:\n",
    "        data = pickle.load(f)\n",
    "    return data\n",
    "\n",
    "# Example usage\n",
    "user_game_matrix = decompress_pickle('../matrix/user_game_matrix.pkl.gz')\n",
    "user_game_matrix"
   ]
  },
  {
   "cell_type": "markdown",
   "metadata": {},
   "source": [
    "## Compress CSV files"
   ]
  },
  {
   "cell_type": "code",
   "execution_count": 4,
   "metadata": {},
   "outputs": [],
   "source": [
    "def compress_csv(input_csv, output_file):\n",
    "    # Read the CSV file\n",
    "    df = pd.read_csv(input_csv)\n",
    "\n",
    "    # Compress and save to a gzip file\n",
    "    with gzip.open(output_file, 'wt', encoding='utf-8') as f:\n",
    "        df.to_csv(f, index=False)"
   ]
  },
  {
   "cell_type": "code",
   "execution_count": null,
   "metadata": {},
   "outputs": [],
   "source": [
    "# Example usage\n",
    "compress_csv('../matrix/users_idx.csv', '../matrix/users_idx.csv.gz')\n",
    "compress_csv('../matrix/games_idx.csv', '../matrix/games_idx.csv.gz')"
   ]
  },
  {
   "cell_type": "code",
   "execution_count": null,
   "metadata": {},
   "outputs": [],
   "source": [
    "def decompress_csv(input_file):\n",
    "    # Read the compressed CSV file\n",
    "    with gzip.open(input_file, 'rt', encoding='utf-8') as f:\n",
    "        df = pd.read_csv(f)\n",
    "    return df\n",
    "\n",
    "# Example usage\n",
    "users_idx = decompress_csv('../matrix/users_idx.csv.gz')\n",
    "games_idx = decompress_csv('../matrix/games_idx.csv.gz')\n"
   ]
  },
  {
   "cell_type": "code",
   "execution_count": 5,
   "metadata": {},
   "outputs": [],
   "source": [
    "compress_csv('../resources/users.csv', '../resources/users.csv.gz')\n"
   ]
  }
 ],
 "metadata": {
  "kernelspec": {
   "display_name": "Python 3",
   "language": "python",
   "name": "python3"
  },
  "language_info": {
   "codemirror_mode": {
    "name": "ipython",
    "version": 3
   },
   "file_extension": ".py",
   "mimetype": "text/x-python",
   "name": "python",
   "nbconvert_exporter": "python",
   "pygments_lexer": "ipython3",
   "version": "3.9.12"
  }
 },
 "nbformat": 4,
 "nbformat_minor": 2
}
